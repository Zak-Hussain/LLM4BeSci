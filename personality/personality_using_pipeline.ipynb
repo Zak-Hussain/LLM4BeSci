{
 "cells": [
  {
   "cell_type": "code",
   "execution_count": null,
   "outputs": [],
   "source": [
    "import sys\n",
    "if 'google.colab' in sys.modules:\n",
    "    # Installing packages in Google Colab environment\n",
    "    !pip install datasets transformers\n",
    "\n",
    "    # Mounting google drive to enable access to data files\n",
    "    from google.colab import drive\n",
    "    drive.mount('/content/drive')\n",
    "\n",
    "    # Changing working directory to personality\n",
    "    %cd /content/drive/MyDrive/LLM4BeSci/personality"
   ],
   "metadata": {
    "collapsed": false
   },
   "id": "3153bd407af42561"
  },
  {
   "cell_type": "markdown",
   "source": [
    "## Loading data"
   ],
   "metadata": {
    "collapsed": false
   },
   "id": "4429203cba64f054"
  },
  {
   "cell_type": "code",
   "execution_count": null,
   "outputs": [],
   "source": [
    "import pandas as pd"
   ],
   "metadata": {
    "collapsed": false
   },
   "id": "initial_id"
  },
  {
   "cell_type": "code",
   "execution_count": null,
   "outputs": [],
   "source": [
    "# Loading data with pandas\n",
    "neo_items =  pd.read_csv('NEO_items.csv', usecols=['construct', 'item'])\n",
    "neo_items"
   ],
   "metadata": {
    "collapsed": false
   },
   "id": "aaffd75bda64a3ea"
  },
  {
   "cell_type": "markdown",
   "source": [
    "## Feature extraction"
   ],
   "metadata": {
    "collapsed": false
   },
   "id": "25c7cd12cb4c2fed"
  },
  {
   "cell_type": "code",
   "execution_count": null,
   "outputs": [],
   "source": [
    "from transformers import pipeline\n",
    "import torch"
   ],
   "metadata": {
    "collapsed": false
   },
   "id": "df833ad9a7f8d3b8"
  },
  {
   "cell_type": "code",
   "execution_count": null,
   "outputs": [],
   "source": [
    "# Loading the model and moving it to the GPU if available\n",
    "if torch.cuda.is_available():  # for nvidia GPUs\n",
    "    device = torch.device('cuda')\n",
    "elif torch.backends.mps.is_available(): # for Apple Metal Performance Sharder (mps) GPUs\n",
    "    device = torch.device('mps')\n",
    "else:\n",
    "    device = torch.device('cpu')\n",
    "\n",
    "device"
   ],
   "metadata": {
    "collapsed": false
   },
   "id": "4de16714b09af28b"
  },
  {
   "cell_type": "code",
   "execution_count": null,
   "outputs": [],
   "source": [
    "# Loading the feature extraction pipeline\n",
    "model_ckpt = 'distilbert-base-uncased'\n",
    "feature_extractor = pipeline(\n",
    "    'feature-extraction', model=model_ckpt, tokenizer=model_ckpt,\n",
    "    device=device, framework='pt', batch_size=8\n",
    ")\n",
    "\n",
    "# Extracting the features for all items\n",
    "features = feature_extractor(\n",
    "    neo_items['item'].to_list(), return_tensors=True, \n",
    "    tokenize_kwargs= {'padding': True, 'truncation': True}\n",
    ")\n",
    "features"
   ],
   "metadata": {
    "collapsed": false
   },
   "id": "4070cc1884c44ce"
  },
  {
   "cell_type": "code",
   "execution_count": null,
   "outputs": [],
   "source": [
    "# Extracting the embeddings for the [CLS] token\n",
    "features = [sample[0][0].numpy() for sample in features]\n",
    "\n",
    "# Converting to a data frame`\n",
    "features = pd.DataFrame(features)\n",
    "features"
   ],
   "metadata": {
    "collapsed": false
   },
   "id": "3c03a318a4dd57f0"
  },
  {
   "cell_type": "markdown",
   "source": [
    "# Comparing predicted and observed construct similarities"
   ],
   "metadata": {
    "collapsed": false
   },
   "id": "cc172c920fd59cc7"
  },
  {
   "cell_type": "code",
   "execution_count": null,
   "outputs": [],
   "source": [
    "from sklearn.metrics.pairwise import cosine_similarity\n",
    "import numpy as np"
   ],
   "metadata": {
    "collapsed": false
   },
   "id": "fa41d2b1cfd1abc5"
  },
  {
   "cell_type": "code",
   "execution_count": null,
   "outputs": [],
   "source": [
    "sims = pd.DataFrame(\n",
    "    cosine_similarity(features), # cosine similarity between each pair of rows\n",
    "    index=neo_items['item'], # row names\n",
    "    columns=neo_items['item'] # column names\n",
    ")\n",
    "sims"
   ],
   "metadata": {
    "collapsed": false
   },
   "id": "e46b32341f0273c3"
  },
  {
   "cell_type": "code",
   "execution_count": null,
   "outputs": [],
   "source": [
    "# Loading observed correlations and pivoting to a correlation matrix\n",
    "sims_observed = pd.read_csv('item_corrs.csv')\n",
    "sims_observed"
   ],
   "metadata": {
    "collapsed": false
   },
   "id": "d9c6e2621c1f6822"
  },
  {
   "cell_type": "code",
   "execution_count": null,
   "outputs": [],
   "source": [
    "# Pivoting to a correlation matrix for easy comparison with predicted correlations\n",
    "sims_observed = sims_observed.pivot(index='text_i', columns='text_j', values='cor')\n",
    "sims_observed"
   ],
   "metadata": {
    "collapsed": false
   },
   "id": "e86f267c5ed708d1"
  },
  {
   "cell_type": "code",
   "execution_count": null,
   "outputs": [],
   "source": [
    "# Aligning rows and columns the predicted and observed correlations\n",
    "sims, sims_observed = sims.align(sims_observed)\n",
    "\n",
    "\n",
    "def lower_triangle_flat(df):\n",
    "    \"\"\"Takes the lower triangle of a dataframe and flattens it into a vector\"\"\"\n",
    "    rows, cols = np.triu_indices(len(df), k=1)  # k=1 to exclude the diagonal (self-similarities)\n",
    "    return pd.Series(df.values[rows, cols])\n",
    "\n",
    "\n",
    "sims, sims_observed = lower_triangle_flat(sims), lower_triangle_flat(sims_observed)\n",
    "\n",
    "# Correlation between predicted and observed\n",
    "print(f'r: {sims.corr(sims_observed).round(2)}')\n",
    "print(f'r of absolute values: {sims.abs().corr(sims_observed.abs()).round(2)}')"
   ],
   "metadata": {
    "collapsed": false
   },
   "id": "655b92a3558535ff"
  }
 ],
 "metadata": {
  "kernelspec": {
   "display_name": "Python 3",
   "language": "python",
   "name": "python3"
  },
  "language_info": {
   "codemirror_mode": {
    "name": "ipython",
    "version": 2
   },
   "file_extension": ".py",
   "mimetype": "text/x-python",
   "name": "python",
   "nbconvert_exporter": "python",
   "pygments_lexer": "ipython2",
   "version": "2.7.6"
  }
 },
 "nbformat": 4,
 "nbformat_minor": 5
}
