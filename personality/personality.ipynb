{
 "cells": [
  {
   "cell_type": "code",
   "execution_count": 1,
   "id": "initial_id",
   "metadata": {
    "collapsed": true,
    "ExecuteTime": {
     "end_time": "2023-11-14T14:39:48.505457Z",
     "start_time": "2023-11-14T14:39:48.502706Z"
    }
   },
   "outputs": [],
   "source": [
    "import sys\n",
    "if 'google.colab' in sys.modules:\n",
    "    # Installing packages in Google Colab environment\n",
    "    !pip install datasets transformers\n",
    "\n",
    "    # Mounting google drive to enable access to data files\n",
    "    from google.colab import drive\n",
    "    drive.mount('/content/drive')\n",
    "\n",
    "    # Changing working directory to personality\n",
    "    %cd /content/drive/MyDrive/LLM4BeSci/personality"
   ]
  },
  {
   "cell_type": "code",
   "execution_count": 1,
   "outputs": [],
   "source": [
    "import pandas as pd\n",
    "from datasets import Dataset\n",
    "from transformers import AutoTokenizer"
   ],
   "metadata": {
    "collapsed": false,
    "ExecuteTime": {
     "end_time": "2023-11-20T12:00:42.245101Z",
     "start_time": "2023-11-20T12:00:41.033496Z"
    }
   },
   "id": "7a12dea23ca8d2cf"
  },
  {
   "cell_type": "code",
   "execution_count": 2,
   "outputs": [
    {
     "data": {
      "text/plain": "                construct                                       text\n0    Achievement-Striving                  Go straight for the goal.\n1    Achievement-Striving       Plunge into tasks with all my heart.\n2    Achievement-Striving                            Demand quality.\n3    Achievement-Striving  Set high standards for myself and others.\n4    Achievement-Striving                   Turn plans into actions.\n..                    ...                                        ...\n295         Vulnerability                Remain calm under pressure.\n296         Vulnerability          Am calm even in tense situations.\n297         Vulnerability               Can handle complex problems.\n298         Vulnerability                 Readily overcome setbacks.\n299         Vulnerability                          Know how to cope.\n\n[300 rows x 2 columns]",
      "text/html": "<div>\n<style scoped>\n    .dataframe tbody tr th:only-of-type {\n        vertical-align: middle;\n    }\n\n    .dataframe tbody tr th {\n        vertical-align: top;\n    }\n\n    .dataframe thead th {\n        text-align: right;\n    }\n</style>\n<table border=\"1\" class=\"dataframe\">\n  <thead>\n    <tr style=\"text-align: right;\">\n      <th></th>\n      <th>construct</th>\n      <th>text</th>\n    </tr>\n  </thead>\n  <tbody>\n    <tr>\n      <th>0</th>\n      <td>Achievement-Striving</td>\n      <td>Go straight for the goal.</td>\n    </tr>\n    <tr>\n      <th>1</th>\n      <td>Achievement-Striving</td>\n      <td>Plunge into tasks with all my heart.</td>\n    </tr>\n    <tr>\n      <th>2</th>\n      <td>Achievement-Striving</td>\n      <td>Demand quality.</td>\n    </tr>\n    <tr>\n      <th>3</th>\n      <td>Achievement-Striving</td>\n      <td>Set high standards for myself and others.</td>\n    </tr>\n    <tr>\n      <th>4</th>\n      <td>Achievement-Striving</td>\n      <td>Turn plans into actions.</td>\n    </tr>\n    <tr>\n      <th>...</th>\n      <td>...</td>\n      <td>...</td>\n    </tr>\n    <tr>\n      <th>295</th>\n      <td>Vulnerability</td>\n      <td>Remain calm under pressure.</td>\n    </tr>\n    <tr>\n      <th>296</th>\n      <td>Vulnerability</td>\n      <td>Am calm even in tense situations.</td>\n    </tr>\n    <tr>\n      <th>297</th>\n      <td>Vulnerability</td>\n      <td>Can handle complex problems.</td>\n    </tr>\n    <tr>\n      <th>298</th>\n      <td>Vulnerability</td>\n      <td>Readily overcome setbacks.</td>\n    </tr>\n    <tr>\n      <th>299</th>\n      <td>Vulnerability</td>\n      <td>Know how to cope.</td>\n    </tr>\n  </tbody>\n</table>\n<p>300 rows × 2 columns</p>\n</div>"
     },
     "execution_count": 2,
     "metadata": {},
     "output_type": "execute_result"
    }
   ],
   "source": [
    "# Loading data with pandas\n",
    "neo_items =  pd.read_csv('NEO_items.csv', usecols=['construct', 'text'])\n",
    "neo_items"
   ],
   "metadata": {
    "collapsed": false,
    "ExecuteTime": {
     "end_time": "2023-11-20T12:00:42.258558Z",
     "start_time": "2023-11-20T12:00:42.244813Z"
    }
   },
   "id": "980be06b6a355d17"
  },
  {
   "cell_type": "code",
   "execution_count": 3,
   "outputs": [
    {
     "data": {
      "text/plain": "Dataset({\n    features: ['construct', 'text'],\n    num_rows: 300\n})"
     },
     "execution_count": 3,
     "metadata": {},
     "output_type": "execute_result"
    }
   ],
   "source": [
    "# Converting into a HuggingFace dataset\n",
    "dat = Dataset.from_pandas(neo_items)\n",
    "dat"
   ],
   "metadata": {
    "collapsed": false,
    "ExecuteTime": {
     "end_time": "2023-11-20T12:00:42.296787Z",
     "start_time": "2023-11-20T12:00:42.257196Z"
    }
   },
   "id": "aadb3057d6b58b3"
  },
  {
   "cell_type": "code",
   "execution_count": 4,
   "outputs": [
    {
     "name": "stdout",
     "output_type": "stream",
     "text": [
      "Vocabulary size: 30522, max context length: 512\n"
     ]
    }
   ],
   "source": [
    "# Loading the tokenizer\n",
    "model_ckpt = 'distilbert-base-uncased'\n",
    "tokenizer = AutoTokenizer.from_pretrained(model_ckpt)\n",
    "print(f'Vocabulary size: {tokenizer.vocab_size}, max context length: {tokenizer.model_max_length}')"
   ],
   "metadata": {
    "collapsed": false,
    "ExecuteTime": {
     "end_time": "2023-11-20T12:00:42.916197Z",
     "start_time": "2023-11-20T12:00:42.277075Z"
    }
   },
   "id": "7e9899764c20ff1"
  },
  {
   "cell_type": "code",
   "execution_count": 7,
   "outputs": [
    {
     "data": {
      "text/plain": "Map:   0%|          | 0/300 [00:00<?, ? examples/s]",
      "application/vnd.jupyter.widget-view+json": {
       "version_major": 2,
       "version_minor": 0,
       "model_id": "e2dca92a349a4ba5ad0a18f04f745e4c"
      }
     },
     "metadata": {},
     "output_type": "display_data"
    },
    {
     "name": "stdout",
     "output_type": "stream",
     "text": [
      "['[CLS]', 'go', 'straight', 'for', 'the', 'goal', '.', '[SEP]', '[PAD]', '[PAD]', '[PAD]', '[PAD]', '[PAD]', '[PAD]', '[PAD]', '[PAD]']\n"
     ]
    }
   ],
   "source": [
    "# Tokenizing the text\n",
    "batch_tokenizer = lambda x: tokenizer(x['text'], padding=True, truncation=True)\n",
    "dat = dat.map(batch_tokenizer, batched=True, batch_size=None)\n",
    "print([tokenizer.decode(id) for id in dat['input_ids'][0]])"
   ],
   "metadata": {
    "collapsed": false,
    "ExecuteTime": {
     "end_time": "2023-11-20T12:01:06.910666Z",
     "start_time": "2023-11-20T12:01:06.886769Z"
    }
   },
   "id": "af3d4b563e1417bc"
  },
  {
   "cell_type": "code",
   "execution_count": 8,
   "outputs": [
    {
     "data": {
      "text/plain": "Dataset({\n    features: ['construct', 'text', 'input_ids', 'attention_mask'],\n    num_rows: 300\n})"
     },
     "execution_count": 8,
     "metadata": {},
     "output_type": "execute_result"
    }
   ],
   "source": [
    "# Setting the format of the dataset to torch tensors for passing to the model\n",
    "dat.set_format('torch', columns=['input_ids', 'attention_mask'])\n",
    "dat"
   ],
   "metadata": {
    "collapsed": false,
    "ExecuteTime": {
     "end_time": "2023-11-20T12:01:08.646940Z",
     "start_time": "2023-11-20T12:01:08.617280Z"
    }
   },
   "id": "b59e8a62cd6224de"
  },
  {
   "cell_type": "markdown",
   "source": [
    "# Feature extraction"
   ],
   "metadata": {
    "collapsed": false
   },
   "id": "7bc898c43652db8"
  },
  {
   "cell_type": "code",
   "execution_count": 17,
   "outputs": [],
   "source": [
    "import torch\n",
    "from transformers import AutoModel"
   ],
   "metadata": {
    "collapsed": false,
    "ExecuteTime": {
     "end_time": "2023-11-20T12:05:11.292322Z",
     "start_time": "2023-11-20T12:05:11.286325Z"
    }
   },
   "id": "6f0a90df92dae822"
  },
  {
   "cell_type": "code",
   "execution_count": 10,
   "outputs": [
    {
     "data": {
      "text/plain": "device(type='mps')"
     },
     "execution_count": 10,
     "metadata": {},
     "output_type": "execute_result"
    }
   ],
   "source": [
    "# Loading the model and moving it to the GPU if available\n",
    "if torch.cuda.is_available():  # for nvidia GPUs\n",
    "    device = torch.device('cuda')\n",
    "elif torch.backends.mps.is_available(): # for Apple Metal Performance Sharder (mps) GPUs\n",
    "    device = torch.device('mps')\n",
    "else:\n",
    "    device = torch.device('cpu')\n",
    "\n",
    "device"
   ],
   "metadata": {
    "collapsed": false,
    "ExecuteTime": {
     "end_time": "2023-11-20T12:01:12.319308Z",
     "start_time": "2023-11-20T12:01:12.313705Z"
    }
   },
   "id": "e379819528ec61ad"
  },
  {
   "cell_type": "code",
   "execution_count": 22,
   "outputs": [
    {
     "name": "stderr",
     "output_type": "stream",
     "text": [
      "Some weights of the model checkpoint at bert-base-uncased were not used when initializing BertModel: ['cls.predictions.bias', 'cls.predictions.transform.LayerNorm.weight', 'cls.predictions.transform.dense.bias', 'cls.predictions.transform.dense.weight', 'cls.predictions.transform.LayerNorm.bias', 'cls.seq_relationship.bias', 'cls.seq_relationship.weight']\n",
      "- This IS expected if you are initializing BertModel from the checkpoint of a model trained on another task or with another architecture (e.g. initializing a BertForSequenceClassification model from a BertForPreTraining model).\n",
      "- This IS NOT expected if you are initializing BertModel from the checkpoint of a model that you expect to be exactly identical (initializing a BertForSequenceClassification model from a BertForSequenceClassification model).\n"
     ]
    },
    {
     "data": {
      "text/plain": "\"Model inputs: ['input_ids', 'attention_mask']\""
     },
     "execution_count": 22,
     "metadata": {},
     "output_type": "execute_result"
    }
   ],
   "source": [
    "# Loading the model\n",
    "model = AutoModel.from_pretrained('bert-base-uncased').to(device)\n",
    "f'Model inputs: {tokenizer.model_input_names}'"
   ],
   "metadata": {
    "collapsed": false,
    "ExecuteTime": {
     "end_time": "2023-11-20T12:08:43.886422Z",
     "start_time": "2023-11-20T12:08:42.490300Z"
    }
   },
   "id": "698edca117e2b80f"
  },
  {
   "cell_type": "code",
   "execution_count": 13,
   "outputs": [
    {
     "data": {
      "text/plain": "Map:   0%|          | 0/300 [00:00<?, ? examples/s]",
      "application/vnd.jupyter.widget-view+json": {
       "version_major": 2,
       "version_minor": 0,
       "model_id": "3d627e1f379049b4b832e1c0f5c02bb2"
      }
     },
     "metadata": {},
     "output_type": "display_data"
    },
    {
     "ename": "RuntimeError",
     "evalue": "Placeholder storage has not been allocated on MPS device!",
     "output_type": "error",
     "traceback": [
      "\u001B[0;31m---------------------------------------------------------------------------\u001B[0m",
      "\u001B[0;31mRuntimeError\u001B[0m                              Traceback (most recent call last)",
      "Cell \u001B[0;32mIn[13], line 9\u001B[0m\n\u001B[1;32m      5\u001B[0m         last_hidden_state \u001B[38;5;241m=\u001B[39m model(\u001B[38;5;241m*\u001B[39m\u001B[38;5;241m*\u001B[39minputs)\u001B[38;5;241m.\u001B[39mlast_hidden_state\n\u001B[1;32m      6\u001B[0m         \u001B[38;5;28;01mreturn\u001B[39;00m {\u001B[38;5;124m\"\u001B[39m\u001B[38;5;124mhidden_state\u001B[39m\u001B[38;5;124m\"\u001B[39m: last_hidden_state[:,\u001B[38;5;241m0\u001B[39m]\u001B[38;5;241m.\u001B[39mcpu()\u001B[38;5;241m.\u001B[39mnumpy()}\n\u001B[0;32m----> 9\u001B[0m dat \u001B[38;5;241m=\u001B[39m \u001B[43mdat\u001B[49m\u001B[38;5;241;43m.\u001B[39;49m\u001B[43mmap\u001B[49m\u001B[43m(\u001B[49m\u001B[43mextract_features\u001B[49m\u001B[43m,\u001B[49m\u001B[43m \u001B[49m\u001B[43mbatched\u001B[49m\u001B[38;5;241;43m=\u001B[39;49m\u001B[38;5;28;43;01mTrue\u001B[39;49;00m\u001B[43m,\u001B[49m\u001B[43m \u001B[49m\u001B[43mbatch_size\u001B[49m\u001B[38;5;241;43m=\u001B[39;49m\u001B[38;5;241;43m8\u001B[39;49m\u001B[43m)\u001B[49m\n\u001B[1;32m     10\u001B[0m dat\n",
      "File \u001B[0;32m~/opt/anaconda3/envs/LLM4BeSci/lib/python3.8/site-packages/datasets/arrow_dataset.py:592\u001B[0m, in \u001B[0;36mtransmit_tasks.<locals>.wrapper\u001B[0;34m(*args, **kwargs)\u001B[0m\n\u001B[1;32m    590\u001B[0m     \u001B[38;5;28mself\u001B[39m: \u001B[38;5;124m\"\u001B[39m\u001B[38;5;124mDataset\u001B[39m\u001B[38;5;124m\"\u001B[39m \u001B[38;5;241m=\u001B[39m kwargs\u001B[38;5;241m.\u001B[39mpop(\u001B[38;5;124m\"\u001B[39m\u001B[38;5;124mself\u001B[39m\u001B[38;5;124m\"\u001B[39m)\n\u001B[1;32m    591\u001B[0m \u001B[38;5;66;03m# apply actual function\u001B[39;00m\n\u001B[0;32m--> 592\u001B[0m out: Union[\u001B[38;5;124m\"\u001B[39m\u001B[38;5;124mDataset\u001B[39m\u001B[38;5;124m\"\u001B[39m, \u001B[38;5;124m\"\u001B[39m\u001B[38;5;124mDatasetDict\u001B[39m\u001B[38;5;124m\"\u001B[39m] \u001B[38;5;241m=\u001B[39m \u001B[43mfunc\u001B[49m\u001B[43m(\u001B[49m\u001B[38;5;28;43mself\u001B[39;49m\u001B[43m,\u001B[49m\u001B[43m \u001B[49m\u001B[38;5;241;43m*\u001B[39;49m\u001B[43margs\u001B[49m\u001B[43m,\u001B[49m\u001B[43m \u001B[49m\u001B[38;5;241;43m*\u001B[39;49m\u001B[38;5;241;43m*\u001B[39;49m\u001B[43mkwargs\u001B[49m\u001B[43m)\u001B[49m\n\u001B[1;32m    593\u001B[0m datasets: List[\u001B[38;5;124m\"\u001B[39m\u001B[38;5;124mDataset\u001B[39m\u001B[38;5;124m\"\u001B[39m] \u001B[38;5;241m=\u001B[39m \u001B[38;5;28mlist\u001B[39m(out\u001B[38;5;241m.\u001B[39mvalues()) \u001B[38;5;28;01mif\u001B[39;00m \u001B[38;5;28misinstance\u001B[39m(out, \u001B[38;5;28mdict\u001B[39m) \u001B[38;5;28;01melse\u001B[39;00m [out]\n\u001B[1;32m    594\u001B[0m \u001B[38;5;28;01mfor\u001B[39;00m dataset \u001B[38;5;129;01min\u001B[39;00m datasets:\n\u001B[1;32m    595\u001B[0m     \u001B[38;5;66;03m# Remove task templates if a column mapping of the template is no longer valid\u001B[39;00m\n",
      "File \u001B[0;32m~/opt/anaconda3/envs/LLM4BeSci/lib/python3.8/site-packages/datasets/arrow_dataset.py:557\u001B[0m, in \u001B[0;36mtransmit_format.<locals>.wrapper\u001B[0;34m(*args, **kwargs)\u001B[0m\n\u001B[1;32m    550\u001B[0m self_format \u001B[38;5;241m=\u001B[39m {\n\u001B[1;32m    551\u001B[0m     \u001B[38;5;124m\"\u001B[39m\u001B[38;5;124mtype\u001B[39m\u001B[38;5;124m\"\u001B[39m: \u001B[38;5;28mself\u001B[39m\u001B[38;5;241m.\u001B[39m_format_type,\n\u001B[1;32m    552\u001B[0m     \u001B[38;5;124m\"\u001B[39m\u001B[38;5;124mformat_kwargs\u001B[39m\u001B[38;5;124m\"\u001B[39m: \u001B[38;5;28mself\u001B[39m\u001B[38;5;241m.\u001B[39m_format_kwargs,\n\u001B[1;32m    553\u001B[0m     \u001B[38;5;124m\"\u001B[39m\u001B[38;5;124mcolumns\u001B[39m\u001B[38;5;124m\"\u001B[39m: \u001B[38;5;28mself\u001B[39m\u001B[38;5;241m.\u001B[39m_format_columns,\n\u001B[1;32m    554\u001B[0m     \u001B[38;5;124m\"\u001B[39m\u001B[38;5;124moutput_all_columns\u001B[39m\u001B[38;5;124m\"\u001B[39m: \u001B[38;5;28mself\u001B[39m\u001B[38;5;241m.\u001B[39m_output_all_columns,\n\u001B[1;32m    555\u001B[0m }\n\u001B[1;32m    556\u001B[0m \u001B[38;5;66;03m# apply actual function\u001B[39;00m\n\u001B[0;32m--> 557\u001B[0m out: Union[\u001B[38;5;124m\"\u001B[39m\u001B[38;5;124mDataset\u001B[39m\u001B[38;5;124m\"\u001B[39m, \u001B[38;5;124m\"\u001B[39m\u001B[38;5;124mDatasetDict\u001B[39m\u001B[38;5;124m\"\u001B[39m] \u001B[38;5;241m=\u001B[39m \u001B[43mfunc\u001B[49m\u001B[43m(\u001B[49m\u001B[38;5;28;43mself\u001B[39;49m\u001B[43m,\u001B[49m\u001B[43m \u001B[49m\u001B[38;5;241;43m*\u001B[39;49m\u001B[43margs\u001B[49m\u001B[43m,\u001B[49m\u001B[43m \u001B[49m\u001B[38;5;241;43m*\u001B[39;49m\u001B[38;5;241;43m*\u001B[39;49m\u001B[43mkwargs\u001B[49m\u001B[43m)\u001B[49m\n\u001B[1;32m    558\u001B[0m datasets: List[\u001B[38;5;124m\"\u001B[39m\u001B[38;5;124mDataset\u001B[39m\u001B[38;5;124m\"\u001B[39m] \u001B[38;5;241m=\u001B[39m \u001B[38;5;28mlist\u001B[39m(out\u001B[38;5;241m.\u001B[39mvalues()) \u001B[38;5;28;01mif\u001B[39;00m \u001B[38;5;28misinstance\u001B[39m(out, \u001B[38;5;28mdict\u001B[39m) \u001B[38;5;28;01melse\u001B[39;00m [out]\n\u001B[1;32m    559\u001B[0m \u001B[38;5;66;03m# re-apply format to the output\u001B[39;00m\n",
      "File \u001B[0;32m~/opt/anaconda3/envs/LLM4BeSci/lib/python3.8/site-packages/datasets/arrow_dataset.py:3097\u001B[0m, in \u001B[0;36mDataset.map\u001B[0;34m(self, function, with_indices, with_rank, input_columns, batched, batch_size, drop_last_batch, remove_columns, keep_in_memory, load_from_cache_file, cache_file_name, writer_batch_size, features, disable_nullable, fn_kwargs, num_proc, suffix_template, new_fingerprint, desc)\u001B[0m\n\u001B[1;32m   3090\u001B[0m \u001B[38;5;28;01mif\u001B[39;00m transformed_dataset \u001B[38;5;129;01mis\u001B[39;00m \u001B[38;5;28;01mNone\u001B[39;00m:\n\u001B[1;32m   3091\u001B[0m     \u001B[38;5;28;01mwith\u001B[39;00m logging\u001B[38;5;241m.\u001B[39mtqdm(\n\u001B[1;32m   3092\u001B[0m         disable\u001B[38;5;241m=\u001B[39m\u001B[38;5;129;01mnot\u001B[39;00m logging\u001B[38;5;241m.\u001B[39mis_progress_bar_enabled(),\n\u001B[1;32m   3093\u001B[0m         unit\u001B[38;5;241m=\u001B[39m\u001B[38;5;124m\"\u001B[39m\u001B[38;5;124m examples\u001B[39m\u001B[38;5;124m\"\u001B[39m,\n\u001B[1;32m   3094\u001B[0m         total\u001B[38;5;241m=\u001B[39mpbar_total,\n\u001B[1;32m   3095\u001B[0m         desc\u001B[38;5;241m=\u001B[39mdesc \u001B[38;5;129;01mor\u001B[39;00m \u001B[38;5;124m\"\u001B[39m\u001B[38;5;124mMap\u001B[39m\u001B[38;5;124m\"\u001B[39m,\n\u001B[1;32m   3096\u001B[0m     ) \u001B[38;5;28;01mas\u001B[39;00m pbar:\n\u001B[0;32m-> 3097\u001B[0m         \u001B[38;5;28;01mfor\u001B[39;00m rank, done, content \u001B[38;5;129;01min\u001B[39;00m Dataset\u001B[38;5;241m.\u001B[39m_map_single(\u001B[38;5;241m*\u001B[39m\u001B[38;5;241m*\u001B[39mdataset_kwargs):\n\u001B[1;32m   3098\u001B[0m             \u001B[38;5;28;01mif\u001B[39;00m done:\n\u001B[1;32m   3099\u001B[0m                 shards_done \u001B[38;5;241m+\u001B[39m\u001B[38;5;241m=\u001B[39m \u001B[38;5;241m1\u001B[39m\n",
      "File \u001B[0;32m~/opt/anaconda3/envs/LLM4BeSci/lib/python3.8/site-packages/datasets/arrow_dataset.py:3474\u001B[0m, in \u001B[0;36mDataset._map_single\u001B[0;34m(shard, function, with_indices, with_rank, input_columns, batched, batch_size, drop_last_batch, remove_columns, keep_in_memory, cache_file_name, writer_batch_size, features, disable_nullable, fn_kwargs, new_fingerprint, rank, offset)\u001B[0m\n\u001B[1;32m   3470\u001B[0m indices \u001B[38;5;241m=\u001B[39m \u001B[38;5;28mlist\u001B[39m(\n\u001B[1;32m   3471\u001B[0m     \u001B[38;5;28mrange\u001B[39m(\u001B[38;5;241m*\u001B[39m(\u001B[38;5;28mslice\u001B[39m(i, i \u001B[38;5;241m+\u001B[39m batch_size)\u001B[38;5;241m.\u001B[39mindices(shard\u001B[38;5;241m.\u001B[39mnum_rows)))\n\u001B[1;32m   3472\u001B[0m )  \u001B[38;5;66;03m# Something simpler?\u001B[39;00m\n\u001B[1;32m   3473\u001B[0m \u001B[38;5;28;01mtry\u001B[39;00m:\n\u001B[0;32m-> 3474\u001B[0m     batch \u001B[38;5;241m=\u001B[39m \u001B[43mapply_function_on_filtered_inputs\u001B[49m\u001B[43m(\u001B[49m\n\u001B[1;32m   3475\u001B[0m \u001B[43m        \u001B[49m\u001B[43mbatch\u001B[49m\u001B[43m,\u001B[49m\n\u001B[1;32m   3476\u001B[0m \u001B[43m        \u001B[49m\u001B[43mindices\u001B[49m\u001B[43m,\u001B[49m\n\u001B[1;32m   3477\u001B[0m \u001B[43m        \u001B[49m\u001B[43mcheck_same_num_examples\u001B[49m\u001B[38;5;241;43m=\u001B[39;49m\u001B[38;5;28;43mlen\u001B[39;49m\u001B[43m(\u001B[49m\u001B[43mshard\u001B[49m\u001B[38;5;241;43m.\u001B[39;49m\u001B[43mlist_indexes\u001B[49m\u001B[43m(\u001B[49m\u001B[43m)\u001B[49m\u001B[43m)\u001B[49m\u001B[43m \u001B[49m\u001B[38;5;241;43m>\u001B[39;49m\u001B[43m \u001B[49m\u001B[38;5;241;43m0\u001B[39;49m\u001B[43m,\u001B[49m\n\u001B[1;32m   3478\u001B[0m \u001B[43m        \u001B[49m\u001B[43moffset\u001B[49m\u001B[38;5;241;43m=\u001B[39;49m\u001B[43moffset\u001B[49m\u001B[43m,\u001B[49m\n\u001B[1;32m   3479\u001B[0m \u001B[43m    \u001B[49m\u001B[43m)\u001B[49m\n\u001B[1;32m   3480\u001B[0m \u001B[38;5;28;01mexcept\u001B[39;00m NumExamplesMismatchError:\n\u001B[1;32m   3481\u001B[0m     \u001B[38;5;28;01mraise\u001B[39;00m DatasetTransformationNotAllowedError(\n\u001B[1;32m   3482\u001B[0m         \u001B[38;5;124m\"\u001B[39m\u001B[38;5;124mUsing `.map` in batched mode on a dataset with attached indexes is allowed only if it doesn\u001B[39m\u001B[38;5;124m'\u001B[39m\u001B[38;5;124mt create or remove existing examples. You can first run `.drop_index() to remove your index and then re-add it.\u001B[39m\u001B[38;5;124m\"\u001B[39m\n\u001B[1;32m   3483\u001B[0m     ) \u001B[38;5;28;01mfrom\u001B[39;00m \u001B[38;5;28;01mNone\u001B[39;00m\n",
      "File \u001B[0;32m~/opt/anaconda3/envs/LLM4BeSci/lib/python3.8/site-packages/datasets/arrow_dataset.py:3353\u001B[0m, in \u001B[0;36mDataset._map_single.<locals>.apply_function_on_filtered_inputs\u001B[0;34m(pa_inputs, indices, check_same_num_examples, offset)\u001B[0m\n\u001B[1;32m   3351\u001B[0m \u001B[38;5;28;01mif\u001B[39;00m with_rank:\n\u001B[1;32m   3352\u001B[0m     additional_args \u001B[38;5;241m+\u001B[39m\u001B[38;5;241m=\u001B[39m (rank,)\n\u001B[0;32m-> 3353\u001B[0m processed_inputs \u001B[38;5;241m=\u001B[39m \u001B[43mfunction\u001B[49m\u001B[43m(\u001B[49m\u001B[38;5;241;43m*\u001B[39;49m\u001B[43mfn_args\u001B[49m\u001B[43m,\u001B[49m\u001B[43m \u001B[49m\u001B[38;5;241;43m*\u001B[39;49m\u001B[43madditional_args\u001B[49m\u001B[43m,\u001B[49m\u001B[43m \u001B[49m\u001B[38;5;241;43m*\u001B[39;49m\u001B[38;5;241;43m*\u001B[39;49m\u001B[43mfn_kwargs\u001B[49m\u001B[43m)\u001B[49m\n\u001B[1;32m   3354\u001B[0m \u001B[38;5;28;01mif\u001B[39;00m \u001B[38;5;28misinstance\u001B[39m(processed_inputs, LazyDict):\n\u001B[1;32m   3355\u001B[0m     processed_inputs \u001B[38;5;241m=\u001B[39m {\n\u001B[1;32m   3356\u001B[0m         k: v \u001B[38;5;28;01mfor\u001B[39;00m k, v \u001B[38;5;129;01min\u001B[39;00m processed_inputs\u001B[38;5;241m.\u001B[39mdata\u001B[38;5;241m.\u001B[39mitems() \u001B[38;5;28;01mif\u001B[39;00m k \u001B[38;5;129;01mnot\u001B[39;00m \u001B[38;5;129;01min\u001B[39;00m processed_inputs\u001B[38;5;241m.\u001B[39mkeys_to_format\n\u001B[1;32m   3357\u001B[0m     }\n",
      "Cell \u001B[0;32mIn[13], line 5\u001B[0m, in \u001B[0;36mextract_features\u001B[0;34m(batch)\u001B[0m\n\u001B[1;32m      3\u001B[0m inputs \u001B[38;5;241m=\u001B[39m {k:v \u001B[38;5;28;01mfor\u001B[39;00m k, v \u001B[38;5;129;01min\u001B[39;00m batch\u001B[38;5;241m.\u001B[39mitems() \u001B[38;5;28;01mif\u001B[39;00m k \u001B[38;5;129;01min\u001B[39;00m tokenizer\u001B[38;5;241m.\u001B[39mmodel_input_names}\n\u001B[1;32m      4\u001B[0m \u001B[38;5;28;01mwith\u001B[39;00m torch\u001B[38;5;241m.\u001B[39mno_grad():\n\u001B[0;32m----> 5\u001B[0m     last_hidden_state \u001B[38;5;241m=\u001B[39m \u001B[43mmodel\u001B[49m\u001B[43m(\u001B[49m\u001B[38;5;241;43m*\u001B[39;49m\u001B[38;5;241;43m*\u001B[39;49m\u001B[43minputs\u001B[49m\u001B[43m)\u001B[49m\u001B[38;5;241m.\u001B[39mlast_hidden_state\n\u001B[1;32m      6\u001B[0m     \u001B[38;5;28;01mreturn\u001B[39;00m {\u001B[38;5;124m\"\u001B[39m\u001B[38;5;124mhidden_state\u001B[39m\u001B[38;5;124m\"\u001B[39m: last_hidden_state[:,\u001B[38;5;241m0\u001B[39m]\u001B[38;5;241m.\u001B[39mcpu()\u001B[38;5;241m.\u001B[39mnumpy()}\n",
      "File \u001B[0;32m~/opt/anaconda3/envs/LLM4BeSci/lib/python3.8/site-packages/torch/nn/modules/module.py:1130\u001B[0m, in \u001B[0;36mModule._call_impl\u001B[0;34m(self, *input, **kwargs)\u001B[0m\n\u001B[1;32m   1126\u001B[0m \u001B[38;5;66;03m# If we don't have any hooks, we want to skip the rest of the logic in\u001B[39;00m\n\u001B[1;32m   1127\u001B[0m \u001B[38;5;66;03m# this function, and just call forward.\u001B[39;00m\n\u001B[1;32m   1128\u001B[0m \u001B[38;5;28;01mif\u001B[39;00m \u001B[38;5;129;01mnot\u001B[39;00m (\u001B[38;5;28mself\u001B[39m\u001B[38;5;241m.\u001B[39m_backward_hooks \u001B[38;5;129;01mor\u001B[39;00m \u001B[38;5;28mself\u001B[39m\u001B[38;5;241m.\u001B[39m_forward_hooks \u001B[38;5;129;01mor\u001B[39;00m \u001B[38;5;28mself\u001B[39m\u001B[38;5;241m.\u001B[39m_forward_pre_hooks \u001B[38;5;129;01mor\u001B[39;00m _global_backward_hooks\n\u001B[1;32m   1129\u001B[0m         \u001B[38;5;129;01mor\u001B[39;00m _global_forward_hooks \u001B[38;5;129;01mor\u001B[39;00m _global_forward_pre_hooks):\n\u001B[0;32m-> 1130\u001B[0m     \u001B[38;5;28;01mreturn\u001B[39;00m \u001B[43mforward_call\u001B[49m\u001B[43m(\u001B[49m\u001B[38;5;241;43m*\u001B[39;49m\u001B[38;5;28;43minput\u001B[39;49m\u001B[43m,\u001B[49m\u001B[43m \u001B[49m\u001B[38;5;241;43m*\u001B[39;49m\u001B[38;5;241;43m*\u001B[39;49m\u001B[43mkwargs\u001B[49m\u001B[43m)\u001B[49m\n\u001B[1;32m   1131\u001B[0m \u001B[38;5;66;03m# Do not call functions when jit is used\u001B[39;00m\n\u001B[1;32m   1132\u001B[0m full_backward_hooks, non_full_backward_hooks \u001B[38;5;241m=\u001B[39m [], []\n",
      "File \u001B[0;32m~/opt/anaconda3/envs/LLM4BeSci/lib/python3.8/site-packages/transformers/models/distilbert/modeling_distilbert.py:581\u001B[0m, in \u001B[0;36mDistilBertModel.forward\u001B[0;34m(self, input_ids, attention_mask, head_mask, inputs_embeds, output_attentions, output_hidden_states, return_dict)\u001B[0m\n\u001B[1;32m    578\u001B[0m \u001B[38;5;66;03m# Prepare head mask if needed\u001B[39;00m\n\u001B[1;32m    579\u001B[0m head_mask \u001B[38;5;241m=\u001B[39m \u001B[38;5;28mself\u001B[39m\u001B[38;5;241m.\u001B[39mget_head_mask(head_mask, \u001B[38;5;28mself\u001B[39m\u001B[38;5;241m.\u001B[39mconfig\u001B[38;5;241m.\u001B[39mnum_hidden_layers)\n\u001B[0;32m--> 581\u001B[0m embeddings \u001B[38;5;241m=\u001B[39m \u001B[38;5;28;43mself\u001B[39;49m\u001B[38;5;241;43m.\u001B[39;49m\u001B[43membeddings\u001B[49m\u001B[43m(\u001B[49m\u001B[43minput_ids\u001B[49m\u001B[43m,\u001B[49m\u001B[43m \u001B[49m\u001B[43minputs_embeds\u001B[49m\u001B[43m)\u001B[49m  \u001B[38;5;66;03m# (bs, seq_length, dim)\u001B[39;00m\n\u001B[1;32m    583\u001B[0m \u001B[38;5;28;01mreturn\u001B[39;00m \u001B[38;5;28mself\u001B[39m\u001B[38;5;241m.\u001B[39mtransformer(\n\u001B[1;32m    584\u001B[0m     x\u001B[38;5;241m=\u001B[39membeddings,\n\u001B[1;32m    585\u001B[0m     attn_mask\u001B[38;5;241m=\u001B[39mattention_mask,\n\u001B[0;32m   (...)\u001B[0m\n\u001B[1;32m    589\u001B[0m     return_dict\u001B[38;5;241m=\u001B[39mreturn_dict,\n\u001B[1;32m    590\u001B[0m )\n",
      "File \u001B[0;32m~/opt/anaconda3/envs/LLM4BeSci/lib/python3.8/site-packages/torch/nn/modules/module.py:1130\u001B[0m, in \u001B[0;36mModule._call_impl\u001B[0;34m(self, *input, **kwargs)\u001B[0m\n\u001B[1;32m   1126\u001B[0m \u001B[38;5;66;03m# If we don't have any hooks, we want to skip the rest of the logic in\u001B[39;00m\n\u001B[1;32m   1127\u001B[0m \u001B[38;5;66;03m# this function, and just call forward.\u001B[39;00m\n\u001B[1;32m   1128\u001B[0m \u001B[38;5;28;01mif\u001B[39;00m \u001B[38;5;129;01mnot\u001B[39;00m (\u001B[38;5;28mself\u001B[39m\u001B[38;5;241m.\u001B[39m_backward_hooks \u001B[38;5;129;01mor\u001B[39;00m \u001B[38;5;28mself\u001B[39m\u001B[38;5;241m.\u001B[39m_forward_hooks \u001B[38;5;129;01mor\u001B[39;00m \u001B[38;5;28mself\u001B[39m\u001B[38;5;241m.\u001B[39m_forward_pre_hooks \u001B[38;5;129;01mor\u001B[39;00m _global_backward_hooks\n\u001B[1;32m   1129\u001B[0m         \u001B[38;5;129;01mor\u001B[39;00m _global_forward_hooks \u001B[38;5;129;01mor\u001B[39;00m _global_forward_pre_hooks):\n\u001B[0;32m-> 1130\u001B[0m     \u001B[38;5;28;01mreturn\u001B[39;00m \u001B[43mforward_call\u001B[49m\u001B[43m(\u001B[49m\u001B[38;5;241;43m*\u001B[39;49m\u001B[38;5;28;43minput\u001B[39;49m\u001B[43m,\u001B[49m\u001B[43m \u001B[49m\u001B[38;5;241;43m*\u001B[39;49m\u001B[38;5;241;43m*\u001B[39;49m\u001B[43mkwargs\u001B[49m\u001B[43m)\u001B[49m\n\u001B[1;32m   1131\u001B[0m \u001B[38;5;66;03m# Do not call functions when jit is used\u001B[39;00m\n\u001B[1;32m   1132\u001B[0m full_backward_hooks, non_full_backward_hooks \u001B[38;5;241m=\u001B[39m [], []\n",
      "File \u001B[0;32m~/opt/anaconda3/envs/LLM4BeSci/lib/python3.8/site-packages/transformers/models/distilbert/modeling_distilbert.py:120\u001B[0m, in \u001B[0;36mEmbeddings.forward\u001B[0;34m(self, input_ids, input_embeds)\u001B[0m\n\u001B[1;32m    108\u001B[0m \u001B[38;5;250m\u001B[39m\u001B[38;5;124;03m\"\"\"\u001B[39;00m\n\u001B[1;32m    109\u001B[0m \u001B[38;5;124;03mParameters:\u001B[39;00m\n\u001B[1;32m    110\u001B[0m \u001B[38;5;124;03m    input_ids (torch.Tensor):\u001B[39;00m\n\u001B[0;32m   (...)\u001B[0m\n\u001B[1;32m    117\u001B[0m \u001B[38;5;124;03membeddings)\u001B[39;00m\n\u001B[1;32m    118\u001B[0m \u001B[38;5;124;03m\"\"\"\u001B[39;00m\n\u001B[1;32m    119\u001B[0m \u001B[38;5;28;01mif\u001B[39;00m input_ids \u001B[38;5;129;01mis\u001B[39;00m \u001B[38;5;129;01mnot\u001B[39;00m \u001B[38;5;28;01mNone\u001B[39;00m:\n\u001B[0;32m--> 120\u001B[0m     input_embeds \u001B[38;5;241m=\u001B[39m \u001B[38;5;28;43mself\u001B[39;49m\u001B[38;5;241;43m.\u001B[39;49m\u001B[43mword_embeddings\u001B[49m\u001B[43m(\u001B[49m\u001B[43minput_ids\u001B[49m\u001B[43m)\u001B[49m  \u001B[38;5;66;03m# (bs, max_seq_length, dim)\u001B[39;00m\n\u001B[1;32m    122\u001B[0m seq_length \u001B[38;5;241m=\u001B[39m input_embeds\u001B[38;5;241m.\u001B[39msize(\u001B[38;5;241m1\u001B[39m)\n\u001B[1;32m    124\u001B[0m \u001B[38;5;66;03m# Setting the position-ids to the registered buffer in constructor, it helps\u001B[39;00m\n\u001B[1;32m    125\u001B[0m \u001B[38;5;66;03m# when tracing the model without passing position-ids, solves\u001B[39;00m\n\u001B[1;32m    126\u001B[0m \u001B[38;5;66;03m# isues similar to issue #5664\u001B[39;00m\n",
      "File \u001B[0;32m~/opt/anaconda3/envs/LLM4BeSci/lib/python3.8/site-packages/torch/nn/modules/module.py:1130\u001B[0m, in \u001B[0;36mModule._call_impl\u001B[0;34m(self, *input, **kwargs)\u001B[0m\n\u001B[1;32m   1126\u001B[0m \u001B[38;5;66;03m# If we don't have any hooks, we want to skip the rest of the logic in\u001B[39;00m\n\u001B[1;32m   1127\u001B[0m \u001B[38;5;66;03m# this function, and just call forward.\u001B[39;00m\n\u001B[1;32m   1128\u001B[0m \u001B[38;5;28;01mif\u001B[39;00m \u001B[38;5;129;01mnot\u001B[39;00m (\u001B[38;5;28mself\u001B[39m\u001B[38;5;241m.\u001B[39m_backward_hooks \u001B[38;5;129;01mor\u001B[39;00m \u001B[38;5;28mself\u001B[39m\u001B[38;5;241m.\u001B[39m_forward_hooks \u001B[38;5;129;01mor\u001B[39;00m \u001B[38;5;28mself\u001B[39m\u001B[38;5;241m.\u001B[39m_forward_pre_hooks \u001B[38;5;129;01mor\u001B[39;00m _global_backward_hooks\n\u001B[1;32m   1129\u001B[0m         \u001B[38;5;129;01mor\u001B[39;00m _global_forward_hooks \u001B[38;5;129;01mor\u001B[39;00m _global_forward_pre_hooks):\n\u001B[0;32m-> 1130\u001B[0m     \u001B[38;5;28;01mreturn\u001B[39;00m \u001B[43mforward_call\u001B[49m\u001B[43m(\u001B[49m\u001B[38;5;241;43m*\u001B[39;49m\u001B[38;5;28;43minput\u001B[39;49m\u001B[43m,\u001B[49m\u001B[43m \u001B[49m\u001B[38;5;241;43m*\u001B[39;49m\u001B[38;5;241;43m*\u001B[39;49m\u001B[43mkwargs\u001B[49m\u001B[43m)\u001B[49m\n\u001B[1;32m   1131\u001B[0m \u001B[38;5;66;03m# Do not call functions when jit is used\u001B[39;00m\n\u001B[1;32m   1132\u001B[0m full_backward_hooks, non_full_backward_hooks \u001B[38;5;241m=\u001B[39m [], []\n",
      "File \u001B[0;32m~/opt/anaconda3/envs/LLM4BeSci/lib/python3.8/site-packages/torch/nn/modules/sparse.py:158\u001B[0m, in \u001B[0;36mEmbedding.forward\u001B[0;34m(self, input)\u001B[0m\n\u001B[1;32m    157\u001B[0m \u001B[38;5;28;01mdef\u001B[39;00m \u001B[38;5;21mforward\u001B[39m(\u001B[38;5;28mself\u001B[39m, \u001B[38;5;28minput\u001B[39m: Tensor) \u001B[38;5;241m-\u001B[39m\u001B[38;5;241m>\u001B[39m Tensor:\n\u001B[0;32m--> 158\u001B[0m     \u001B[38;5;28;01mreturn\u001B[39;00m \u001B[43mF\u001B[49m\u001B[38;5;241;43m.\u001B[39;49m\u001B[43membedding\u001B[49m\u001B[43m(\u001B[49m\n\u001B[1;32m    159\u001B[0m \u001B[43m        \u001B[49m\u001B[38;5;28;43minput\u001B[39;49m\u001B[43m,\u001B[49m\u001B[43m \u001B[49m\u001B[38;5;28;43mself\u001B[39;49m\u001B[38;5;241;43m.\u001B[39;49m\u001B[43mweight\u001B[49m\u001B[43m,\u001B[49m\u001B[43m \u001B[49m\u001B[38;5;28;43mself\u001B[39;49m\u001B[38;5;241;43m.\u001B[39;49m\u001B[43mpadding_idx\u001B[49m\u001B[43m,\u001B[49m\u001B[43m \u001B[49m\u001B[38;5;28;43mself\u001B[39;49m\u001B[38;5;241;43m.\u001B[39;49m\u001B[43mmax_norm\u001B[49m\u001B[43m,\u001B[49m\n\u001B[1;32m    160\u001B[0m \u001B[43m        \u001B[49m\u001B[38;5;28;43mself\u001B[39;49m\u001B[38;5;241;43m.\u001B[39;49m\u001B[43mnorm_type\u001B[49m\u001B[43m,\u001B[49m\u001B[43m \u001B[49m\u001B[38;5;28;43mself\u001B[39;49m\u001B[38;5;241;43m.\u001B[39;49m\u001B[43mscale_grad_by_freq\u001B[49m\u001B[43m,\u001B[49m\u001B[43m \u001B[49m\u001B[38;5;28;43mself\u001B[39;49m\u001B[38;5;241;43m.\u001B[39;49m\u001B[43msparse\u001B[49m\u001B[43m)\u001B[49m\n",
      "File \u001B[0;32m~/opt/anaconda3/envs/LLM4BeSci/lib/python3.8/site-packages/torch/nn/functional.py:2199\u001B[0m, in \u001B[0;36membedding\u001B[0;34m(input, weight, padding_idx, max_norm, norm_type, scale_grad_by_freq, sparse)\u001B[0m\n\u001B[1;32m   2193\u001B[0m     \u001B[38;5;66;03m# Note [embedding_renorm set_grad_enabled]\u001B[39;00m\n\u001B[1;32m   2194\u001B[0m     \u001B[38;5;66;03m# XXX: equivalent to\u001B[39;00m\n\u001B[1;32m   2195\u001B[0m     \u001B[38;5;66;03m# with torch.no_grad():\u001B[39;00m\n\u001B[1;32m   2196\u001B[0m     \u001B[38;5;66;03m#   torch.embedding_renorm_\u001B[39;00m\n\u001B[1;32m   2197\u001B[0m     \u001B[38;5;66;03m# remove once script supports set_grad_enabled\u001B[39;00m\n\u001B[1;32m   2198\u001B[0m     _no_grad_embedding_renorm_(weight, \u001B[38;5;28minput\u001B[39m, max_norm, norm_type)\n\u001B[0;32m-> 2199\u001B[0m \u001B[38;5;28;01mreturn\u001B[39;00m \u001B[43mtorch\u001B[49m\u001B[38;5;241;43m.\u001B[39;49m\u001B[43membedding\u001B[49m\u001B[43m(\u001B[49m\u001B[43mweight\u001B[49m\u001B[43m,\u001B[49m\u001B[43m \u001B[49m\u001B[38;5;28;43minput\u001B[39;49m\u001B[43m,\u001B[49m\u001B[43m \u001B[49m\u001B[43mpadding_idx\u001B[49m\u001B[43m,\u001B[49m\u001B[43m \u001B[49m\u001B[43mscale_grad_by_freq\u001B[49m\u001B[43m,\u001B[49m\u001B[43m \u001B[49m\u001B[43msparse\u001B[49m\u001B[43m)\u001B[49m\n",
      "\u001B[0;31mRuntimeError\u001B[0m: Placeholder storage has not been allocated on MPS device!"
     ]
    }
   ],
   "source": [
    "def extract_features(batch):\n",
    "    \"\"\"Extract features from a batch of items\"\"\"\n",
    "    inputs = {k:v.to(device) for k, v in batch.items() if k in tokenizer.model_input_names}\n",
    "    with torch.no_grad():\n",
    "        last_hidden_state = model(**inputs).last_hidden_state\n",
    "        return {\"hidden_state\": last_hidden_state[:,0].cpu().numpy()}\n",
    "\n",
    "\n",
    "dat = dat.map(extract_features, batched=True, batch_size=8)\n",
    "dat"
   ],
   "metadata": {
    "collapsed": false,
    "ExecuteTime": {
     "end_time": "2023-11-20T12:01:47.451662Z",
     "start_time": "2023-11-20T12:01:39.105101Z"
    }
   },
   "id": "9fb725d27733027d"
  },
  {
   "cell_type": "code",
   "execution_count": 11,
   "outputs": [
    {
     "data": {
      "text/plain": "torch.Size([300, 16])"
     },
     "execution_count": 11,
     "metadata": {},
     "output_type": "execute_result"
    }
   ],
   "source": [
    "dat['input_ids'].shape"
   ],
   "metadata": {
    "collapsed": false,
    "ExecuteTime": {
     "end_time": "2023-11-14T15:34:08.987367Z",
     "start_time": "2023-11-14T15:34:08.976582Z"
    }
   },
   "id": "5d51a6a9c3553071"
  },
  {
   "cell_type": "markdown",
   "source": [
    "# Comparing predicted and observed construct similarities"
   ],
   "metadata": {
    "collapsed": false
   },
   "id": "899b22bd5abc48b3"
  },
  {
   "cell_type": "code",
   "execution_count": 12,
   "outputs": [],
   "source": [
    "from sklearn.metrics.pairwise import cosine_similarity\n",
    "import numpy as np"
   ],
   "metadata": {
    "collapsed": false,
    "ExecuteTime": {
     "end_time": "2023-11-14T15:34:09.895210Z",
     "start_time": "2023-11-14T15:34:08.980480Z"
    }
   },
   "id": "5afc733c39662433"
  },
  {
   "cell_type": "code",
   "execution_count": 17,
   "outputs": [
    {
     "data": {
      "text/plain": "          0         1         2         3         4         5         6     \n0   -0.101577 -0.232342  0.053150 -0.209234 -0.147043 -0.446292  0.199789  \\\n1   -0.029325 -0.013542 -0.146410 -0.170675 -0.168257 -0.195446  0.282303   \n2   -0.123460 -0.163301 -0.039022  0.061186  0.029218  0.047689 -0.021713   \n3    0.171672 -0.080539 -0.324507 -0.123403 -0.002906 -0.286729  0.328532   \n4   -0.011405 -0.273886 -0.275290 -0.039883 -0.059297 -0.349610  0.179417   \n..        ...       ...       ...       ...       ...       ...       ...   \n295  0.053610 -0.207244 -0.021129 -0.324069  0.030456 -0.204914  0.296093   \n296 -0.142525 -0.113036 -0.115370 -0.241582 -0.054642 -0.213681  0.443018   \n297 -0.456889 -0.435810 -0.229935  0.023752 -0.163952 -0.391314  0.149716   \n298 -0.156440 -0.067095 -0.164803  0.055055  0.044017 -0.371144  0.238250   \n299 -0.003178 -0.103176 -0.195053 -0.076308 -0.018174 -0.254264  0.165975   \n\n          7         8         9    ...       758       759       760   \n0    0.281034  0.125232 -0.613696  ...  0.044836  0.017810  0.095211  \\\n1    0.277026  0.012995 -0.397131  ...  0.163580 -0.074748  0.106048   \n2    0.339821 -0.140700 -0.464206  ...  0.160522 -0.311289  0.193131   \n3    0.331734 -0.043537 -0.253172  ...  0.071976 -0.158575  0.220341   \n4    0.395709  0.137042 -0.603452  ...  0.039848 -0.206626 -0.002964   \n..        ...       ...       ...  ...       ...       ...       ...   \n295  0.273525  0.266422 -0.575218  ...  0.317866 -0.407704  0.310368   \n296  0.357535  0.210813 -0.495573  ...  0.035589 -0.360558  0.319993   \n297  0.373441  0.096713 -0.571043  ...  0.229077 -0.370328  0.303710   \n298  0.062213  0.249838 -0.599417  ...  0.185703 -0.331456  0.035973   \n299  0.322429  0.007451 -0.390140  ...  0.007684 -0.208250  0.132030   \n\n          761       762       763       764       765       766       767  \n0   -0.113162 -0.015173  0.144610 -0.213362 -0.020966  0.347819  0.403197  \n1   -0.131116  0.277533 -0.158600 -0.067269 -0.130695  0.299019  0.183073  \n2   -0.157316  0.000914 -0.016334 -0.061327 -0.302192  0.101102  0.261451  \n3   -0.259936  0.323301 -0.199359 -0.065793 -0.017549  0.293964  0.210275  \n4   -0.014211  0.193043  0.076054  0.014883 -0.220791  0.123017  0.311863  \n..        ...       ...       ...       ...       ...       ...       ...  \n295 -0.065386  0.138820 -0.249926  0.007644 -0.194356 -0.014655  0.453587  \n296 -0.275261  0.140480 -0.021844 -0.020103 -0.103788  0.226172  0.270764  \n297 -0.193726  0.087309  0.007515  0.016861 -0.389869 -0.153120  0.362962  \n298 -0.143764  0.141534 -0.062924 -0.108850 -0.206454  0.068723  0.168381  \n299 -0.254587  0.094572 -0.027827 -0.279245 -0.052796  0.369054  0.099928  \n\n[300 rows x 768 columns]",
      "text/html": "<div>\n<style scoped>\n    .dataframe tbody tr th:only-of-type {\n        vertical-align: middle;\n    }\n\n    .dataframe tbody tr th {\n        vertical-align: top;\n    }\n\n    .dataframe thead th {\n        text-align: right;\n    }\n</style>\n<table border=\"1\" class=\"dataframe\">\n  <thead>\n    <tr style=\"text-align: right;\">\n      <th></th>\n      <th>0</th>\n      <th>1</th>\n      <th>2</th>\n      <th>3</th>\n      <th>4</th>\n      <th>5</th>\n      <th>6</th>\n      <th>7</th>\n      <th>8</th>\n      <th>9</th>\n      <th>...</th>\n      <th>758</th>\n      <th>759</th>\n      <th>760</th>\n      <th>761</th>\n      <th>762</th>\n      <th>763</th>\n      <th>764</th>\n      <th>765</th>\n      <th>766</th>\n      <th>767</th>\n    </tr>\n  </thead>\n  <tbody>\n    <tr>\n      <th>0</th>\n      <td>-0.101577</td>\n      <td>-0.232342</td>\n      <td>0.053150</td>\n      <td>-0.209234</td>\n      <td>-0.147043</td>\n      <td>-0.446292</td>\n      <td>0.199789</td>\n      <td>0.281034</td>\n      <td>0.125232</td>\n      <td>-0.613696</td>\n      <td>...</td>\n      <td>0.044836</td>\n      <td>0.017810</td>\n      <td>0.095211</td>\n      <td>-0.113162</td>\n      <td>-0.015173</td>\n      <td>0.144610</td>\n      <td>-0.213362</td>\n      <td>-0.020966</td>\n      <td>0.347819</td>\n      <td>0.403197</td>\n    </tr>\n    <tr>\n      <th>1</th>\n      <td>-0.029325</td>\n      <td>-0.013542</td>\n      <td>-0.146410</td>\n      <td>-0.170675</td>\n      <td>-0.168257</td>\n      <td>-0.195446</td>\n      <td>0.282303</td>\n      <td>0.277026</td>\n      <td>0.012995</td>\n      <td>-0.397131</td>\n      <td>...</td>\n      <td>0.163580</td>\n      <td>-0.074748</td>\n      <td>0.106048</td>\n      <td>-0.131116</td>\n      <td>0.277533</td>\n      <td>-0.158600</td>\n      <td>-0.067269</td>\n      <td>-0.130695</td>\n      <td>0.299019</td>\n      <td>0.183073</td>\n    </tr>\n    <tr>\n      <th>2</th>\n      <td>-0.123460</td>\n      <td>-0.163301</td>\n      <td>-0.039022</td>\n      <td>0.061186</td>\n      <td>0.029218</td>\n      <td>0.047689</td>\n      <td>-0.021713</td>\n      <td>0.339821</td>\n      <td>-0.140700</td>\n      <td>-0.464206</td>\n      <td>...</td>\n      <td>0.160522</td>\n      <td>-0.311289</td>\n      <td>0.193131</td>\n      <td>-0.157316</td>\n      <td>0.000914</td>\n      <td>-0.016334</td>\n      <td>-0.061327</td>\n      <td>-0.302192</td>\n      <td>0.101102</td>\n      <td>0.261451</td>\n    </tr>\n    <tr>\n      <th>3</th>\n      <td>0.171672</td>\n      <td>-0.080539</td>\n      <td>-0.324507</td>\n      <td>-0.123403</td>\n      <td>-0.002906</td>\n      <td>-0.286729</td>\n      <td>0.328532</td>\n      <td>0.331734</td>\n      <td>-0.043537</td>\n      <td>-0.253172</td>\n      <td>...</td>\n      <td>0.071976</td>\n      <td>-0.158575</td>\n      <td>0.220341</td>\n      <td>-0.259936</td>\n      <td>0.323301</td>\n      <td>-0.199359</td>\n      <td>-0.065793</td>\n      <td>-0.017549</td>\n      <td>0.293964</td>\n      <td>0.210275</td>\n    </tr>\n    <tr>\n      <th>4</th>\n      <td>-0.011405</td>\n      <td>-0.273886</td>\n      <td>-0.275290</td>\n      <td>-0.039883</td>\n      <td>-0.059297</td>\n      <td>-0.349610</td>\n      <td>0.179417</td>\n      <td>0.395709</td>\n      <td>0.137042</td>\n      <td>-0.603452</td>\n      <td>...</td>\n      <td>0.039848</td>\n      <td>-0.206626</td>\n      <td>-0.002964</td>\n      <td>-0.014211</td>\n      <td>0.193043</td>\n      <td>0.076054</td>\n      <td>0.014883</td>\n      <td>-0.220791</td>\n      <td>0.123017</td>\n      <td>0.311863</td>\n    </tr>\n    <tr>\n      <th>...</th>\n      <td>...</td>\n      <td>...</td>\n      <td>...</td>\n      <td>...</td>\n      <td>...</td>\n      <td>...</td>\n      <td>...</td>\n      <td>...</td>\n      <td>...</td>\n      <td>...</td>\n      <td>...</td>\n      <td>...</td>\n      <td>...</td>\n      <td>...</td>\n      <td>...</td>\n      <td>...</td>\n      <td>...</td>\n      <td>...</td>\n      <td>...</td>\n      <td>...</td>\n      <td>...</td>\n    </tr>\n    <tr>\n      <th>295</th>\n      <td>0.053610</td>\n      <td>-0.207244</td>\n      <td>-0.021129</td>\n      <td>-0.324069</td>\n      <td>0.030456</td>\n      <td>-0.204914</td>\n      <td>0.296093</td>\n      <td>0.273525</td>\n      <td>0.266422</td>\n      <td>-0.575218</td>\n      <td>...</td>\n      <td>0.317866</td>\n      <td>-0.407704</td>\n      <td>0.310368</td>\n      <td>-0.065386</td>\n      <td>0.138820</td>\n      <td>-0.249926</td>\n      <td>0.007644</td>\n      <td>-0.194356</td>\n      <td>-0.014655</td>\n      <td>0.453587</td>\n    </tr>\n    <tr>\n      <th>296</th>\n      <td>-0.142525</td>\n      <td>-0.113036</td>\n      <td>-0.115370</td>\n      <td>-0.241582</td>\n      <td>-0.054642</td>\n      <td>-0.213681</td>\n      <td>0.443018</td>\n      <td>0.357535</td>\n      <td>0.210813</td>\n      <td>-0.495573</td>\n      <td>...</td>\n      <td>0.035589</td>\n      <td>-0.360558</td>\n      <td>0.319993</td>\n      <td>-0.275261</td>\n      <td>0.140480</td>\n      <td>-0.021844</td>\n      <td>-0.020103</td>\n      <td>-0.103788</td>\n      <td>0.226172</td>\n      <td>0.270764</td>\n    </tr>\n    <tr>\n      <th>297</th>\n      <td>-0.456889</td>\n      <td>-0.435810</td>\n      <td>-0.229935</td>\n      <td>0.023752</td>\n      <td>-0.163952</td>\n      <td>-0.391314</td>\n      <td>0.149716</td>\n      <td>0.373441</td>\n      <td>0.096713</td>\n      <td>-0.571043</td>\n      <td>...</td>\n      <td>0.229077</td>\n      <td>-0.370328</td>\n      <td>0.303710</td>\n      <td>-0.193726</td>\n      <td>0.087309</td>\n      <td>0.007515</td>\n      <td>0.016861</td>\n      <td>-0.389869</td>\n      <td>-0.153120</td>\n      <td>0.362962</td>\n    </tr>\n    <tr>\n      <th>298</th>\n      <td>-0.156440</td>\n      <td>-0.067095</td>\n      <td>-0.164803</td>\n      <td>0.055055</td>\n      <td>0.044017</td>\n      <td>-0.371144</td>\n      <td>0.238250</td>\n      <td>0.062213</td>\n      <td>0.249838</td>\n      <td>-0.599417</td>\n      <td>...</td>\n      <td>0.185703</td>\n      <td>-0.331456</td>\n      <td>0.035973</td>\n      <td>-0.143764</td>\n      <td>0.141534</td>\n      <td>-0.062924</td>\n      <td>-0.108850</td>\n      <td>-0.206454</td>\n      <td>0.068723</td>\n      <td>0.168381</td>\n    </tr>\n    <tr>\n      <th>299</th>\n      <td>-0.003178</td>\n      <td>-0.103176</td>\n      <td>-0.195053</td>\n      <td>-0.076308</td>\n      <td>-0.018174</td>\n      <td>-0.254264</td>\n      <td>0.165975</td>\n      <td>0.322429</td>\n      <td>0.007451</td>\n      <td>-0.390140</td>\n      <td>...</td>\n      <td>0.007684</td>\n      <td>-0.208250</td>\n      <td>0.132030</td>\n      <td>-0.254587</td>\n      <td>0.094572</td>\n      <td>-0.027827</td>\n      <td>-0.279245</td>\n      <td>-0.052796</td>\n      <td>0.369054</td>\n      <td>0.099928</td>\n    </tr>\n  </tbody>\n</table>\n<p>300 rows × 768 columns</p>\n</div>"
     },
     "execution_count": 17,
     "metadata": {},
     "output_type": "execute_result"
    }
   ],
   "source": [
    "# Converting the hidden state into a data frame for easy manipulation\n",
    "features = pd.DataFrame(dat['hidden_state'])\n",
    "features"
   ],
   "metadata": {
    "collapsed": false,
    "ExecuteTime": {
     "end_time": "2023-11-14T15:34:17.658105Z",
     "start_time": "2023-11-14T15:34:17.627580Z"
    }
   },
   "id": "b2c6bbdf5010bc43"
  },
  {
   "cell_type": "code",
   "execution_count": 23,
   "outputs": [
    {
     "data": {
      "text/plain": "text                                       Go straight for the goal.   \ntext                                                                   \nGo straight for the goal.                                   1.000000  \\\nPlunge into tasks with all my heart.                        0.937292   \nDemand quality.                                             0.912419   \nSet high standards for myself and others.                   0.937389   \nTurn plans into actions.                                    0.937179   \n...                                                              ...   \nRemain calm under pressure.                                 0.893923   \nAm calm even in tense situations.                           0.896983   \nCan handle complex problems.                                0.859028   \nReadily overcome setbacks.                                  0.905520   \nKnow how to cope.                                           0.944151   \n\ntext                                       Plunge into tasks with all my heart.   \ntext                                                                              \nGo straight for the goal.                                              0.937292  \\\nPlunge into tasks with all my heart.                                   1.000000   \nDemand quality.                                                        0.934913   \nSet high standards for myself and others.                              0.969671   \nTurn plans into actions.                                               0.942819   \n...                                                                         ...   \nRemain calm under pressure.                                            0.875516   \nAm calm even in tense situations.                                      0.920864   \nCan handle complex problems.                                           0.855678   \nReadily overcome setbacks.                                             0.913151   \nKnow how to cope.                                                      0.969265   \n\ntext                                       Demand quality.   \ntext                                                         \nGo straight for the goal.                         0.912419  \\\nPlunge into tasks with all my heart.              0.934913   \nDemand quality.                                   1.000000   \nSet high standards for myself and others.         0.947667   \nTurn plans into actions.                          0.928942   \n...                                                    ...   \nRemain calm under pressure.                       0.880098   \nAm calm even in tense situations.                 0.910788   \nCan handle complex problems.                      0.891799   \nReadily overcome setbacks.                        0.936942   \nKnow how to cope.                                 0.945570   \n\ntext                                       Set high standards for myself and others.   \ntext                                                                                   \nGo straight for the goal.                                                   0.937389  \\\nPlunge into tasks with all my heart.                                        0.969671   \nDemand quality.                                                             0.947667   \nSet high standards for myself and others.                                   1.000000   \nTurn plans into actions.                                                    0.949412   \n...                                                                              ...   \nRemain calm under pressure.                                                 0.905084   \nAm calm even in tense situations.                                           0.933213   \nCan handle complex problems.                                                0.875336   \nReadily overcome setbacks.                                                  0.922472   \nKnow how to cope.                                                           0.973282   \n\ntext                                       Turn plans into actions.   \ntext                                                                  \nGo straight for the goal.                                  0.937179  \\\nPlunge into tasks with all my heart.                       0.942819   \nDemand quality.                                            0.928942   \nSet high standards for myself and others.                  0.949412   \nTurn plans into actions.                                   1.000000   \n...                                                             ...   \nRemain calm under pressure.                                0.920888   \nAm calm even in tense situations.                          0.925302   \nCan handle complex problems.                               0.905540   \nReadily overcome setbacks.                                 0.940013   \nKnow how to cope.                                          0.947410   \n\ntext                                       Do more than what's expected of me.   \ntext                                                                             \nGo straight for the goal.                                             0.941870  \\\nPlunge into tasks with all my heart.                                  0.978878   \nDemand quality.                                                       0.938465   \nSet high standards for myself and others.                             0.969233   \nTurn plans into actions.                                              0.950606   \n...                                                                        ...   \nRemain calm under pressure.                                           0.888300   \nAm calm even in tense situations.                                     0.922115   \nCan handle complex problems.                                          0.870966   \nReadily overcome setbacks.                                            0.922284   \nKnow how to cope.                                                     0.972350   \n\ntext                                       Work hard.   \ntext                                                    \nGo straight for the goal.                    0.945306  \\\nPlunge into tasks with all my heart.         0.964293   \nDemand quality.                              0.949418   \nSet high standards for myself and others.    0.966870   \nTurn plans into actions.                     0.938060   \n...                                               ...   \nRemain calm under pressure.                  0.897367   \nAm calm even in tense situations.            0.923240   \nCan handle complex problems.                 0.864420   \nReadily overcome setbacks.                   0.912404   \nKnow how to cope.                            0.982248   \n\ntext                                       Do just enough work to get by.   \ntext                                                                        \nGo straight for the goal.                                        0.953538  \\\nPlunge into tasks with all my heart.                             0.962596   \nDemand quality.                                                  0.943863   \nSet high standards for myself and others.                        0.962684   \nTurn plans into actions.                                         0.942705   \n...                                                                   ...   \nRemain calm under pressure.                                      0.883605   \nAm calm even in tense situations.                                0.906764   \nCan handle complex problems.                                     0.866394   \nReadily overcome setbacks.                                       0.916042   \nKnow how to cope.                                                0.974336   \n\ntext                                       Am not highly motivated to succeed.   \ntext                                                                             \nGo straight for the goal.                                             0.913815  \\\nPlunge into tasks with all my heart.                                  0.951278   \nDemand quality.                                                       0.916180   \nSet high standards for myself and others.                             0.947640   \nTurn plans into actions.                                              0.924114   \n...                                                                        ...   \nRemain calm under pressure.                                           0.878887   \nAm calm even in tense situations.                                     0.941968   \nCan handle complex problems.                                          0.852616   \nReadily overcome setbacks.                                            0.910178   \nKnow how to cope.                                                     0.937284   \n\ntext                                       Put little time and effort into my work.   \ntext                                                                                  \nGo straight for the goal.                                                  0.935873  \\\nPlunge into tasks with all my heart.                                       0.973330   \nDemand quality.                                                            0.938434   \nSet high standards for myself and others.                                  0.975383   \nTurn plans into actions.                                                   0.951295   \n...                                                                             ...   \nRemain calm under pressure.                                                0.893301   \nAm calm even in tense situations.                                          0.926968   \nCan handle complex problems.                                               0.871043   \nReadily overcome setbacks.                                                 0.921127   \nKnow how to cope.                                                          0.969264   \n\ntext                                       ...  Panic easily.   \ntext                                       ...                  \nGo straight for the goal.                  ...       0.936882  \\\nPlunge into tasks with all my heart.       ...       0.964064   \nDemand quality.                            ...       0.934006   \nSet high standards for myself and others.  ...       0.943541   \nTurn plans into actions.                   ...       0.920239   \n...                                        ...            ...   \nRemain calm under pressure.                ...       0.853544   \nAm calm even in tense situations.          ...       0.887088   \nCan handle complex problems.               ...       0.839746   \nReadily overcome setbacks.                 ...       0.900938   \nKnow how to cope.                          ...       0.960246   \n\ntext                                       Get overwhelmed by emotions.   \ntext                                                                      \nGo straight for the goal.                                      0.933743  \\\nPlunge into tasks with all my heart.                           0.957841   \nDemand quality.                                                0.923044   \nSet high standards for myself and others.                      0.948249   \nTurn plans into actions.                                       0.962744   \n...                                                                 ...   \nRemain calm under pressure.                                    0.914012   \nAm calm even in tense situations.                              0.926703   \nCan handle complex problems.                                   0.881715   \nReadily overcome setbacks.                                     0.915672   \nKnow how to cope.                                              0.967818   \n\ntext                                       Feel that I'm unable to deal with things.   \ntext                                                                                   \nGo straight for the goal.                                                   0.922841  \\\nPlunge into tasks with all my heart.                                        0.976752   \nDemand quality.                                                             0.930710   \nSet high standards for myself and others.                                   0.955413   \nTurn plans into actions.                                                    0.933894   \n...                                                                              ...   \nRemain calm under pressure.                                                 0.874819   \nAm calm even in tense situations.                                           0.918987   \nCan handle complex problems.                                                0.852122   \nReadily overcome setbacks.                                                  0.901567   \nKnow how to cope.                                                           0.968823   \n\ntext                                       Can't make up my mind.   \ntext                                                                \nGo straight for the goal.                                0.923830  \\\nPlunge into tasks with all my heart.                     0.970222   \nDemand quality.                                          0.928840   \nSet high standards for myself and others.                0.949402   \nTurn plans into actions.                                 0.917970   \n...                                                           ...   \nRemain calm under pressure.                              0.853221   \nAm calm even in tense situations.                        0.894791   \nCan handle complex problems.                             0.845022   \nReadily overcome setbacks.                               0.885332   \nKnow how to cope.                                        0.965102   \n\ntext                                       Become overwhelmed by events.   \ntext                                                                       \nGo straight for the goal.                                       0.869716  \\\nPlunge into tasks with all my heart.                            0.896999   \nDemand quality.                                                 0.857612   \nSet high standards for myself and others.                       0.889186   \nTurn plans into actions.                                        0.940487   \n...                                                                  ...   \nRemain calm under pressure.                                     0.896863   \nAm calm even in tense situations.                               0.900692   \nCan handle complex problems.                                    0.866255   \nReadily overcome setbacks.                                      0.894593   \nKnow how to cope.                                               0.900269   \n\ntext                                       Remain calm under pressure.   \ntext                                                                     \nGo straight for the goal.                                     0.893923  \\\nPlunge into tasks with all my heart.                          0.875516   \nDemand quality.                                               0.880098   \nSet high standards for myself and others.                     0.905084   \nTurn plans into actions.                                      0.920888   \n...                                                                ...   \nRemain calm under pressure.                                   1.000000   \nAm calm even in tense situations.                             0.930315   \nCan handle complex problems.                                  0.867545   \nReadily overcome setbacks.                                    0.895987   \nKnow how to cope.                                             0.901234   \n\ntext                                       Am calm even in tense situations.   \ntext                                                                           \nGo straight for the goal.                                           0.896983  \\\nPlunge into tasks with all my heart.                                0.920864   \nDemand quality.                                                     0.910788   \nSet high standards for myself and others.                           0.933213   \nTurn plans into actions.                                            0.925302   \n...                                                                      ...   \nRemain calm under pressure.                                         0.930315   \nAm calm even in tense situations.                                   1.000000   \nCan handle complex problems.                                        0.889343   \nReadily overcome setbacks.                                          0.919258   \nKnow how to cope.                                                   0.924744   \n\ntext                                       Can handle complex problems.   \ntext                                                                      \nGo straight for the goal.                                      0.859028  \\\nPlunge into tasks with all my heart.                           0.855678   \nDemand quality.                                                0.891799   \nSet high standards for myself and others.                      0.875336   \nTurn plans into actions.                                       0.905540   \n...                                                                 ...   \nRemain calm under pressure.                                    0.867545   \nAm calm even in tense situations.                              0.889343   \nCan handle complex problems.                                   1.000000   \nReadily overcome setbacks.                                     0.929644   \nKnow how to cope.                                              0.875341   \n\ntext                                       Readily overcome setbacks.   \ntext                                                                    \nGo straight for the goal.                                    0.905520  \\\nPlunge into tasks with all my heart.                         0.913151   \nDemand quality.                                              0.936942   \nSet high standards for myself and others.                    0.922472   \nTurn plans into actions.                                     0.940013   \n...                                                               ...   \nRemain calm under pressure.                                  0.895987   \nAm calm even in tense situations.                            0.919258   \nCan handle complex problems.                                 0.929644   \nReadily overcome setbacks.                                   1.000000   \nKnow how to cope.                                            0.917696   \n\ntext                                       Know how to cope.  \ntext                                                          \nGo straight for the goal.                           0.944151  \nPlunge into tasks with all my heart.                0.969265  \nDemand quality.                                     0.945570  \nSet high standards for myself and others.           0.973282  \nTurn plans into actions.                            0.947410  \n...                                                      ...  \nRemain calm under pressure.                         0.901234  \nAm calm even in tense situations.                   0.924744  \nCan handle complex problems.                        0.875341  \nReadily overcome setbacks.                          0.917696  \nKnow how to cope.                                   1.000000  \n\n[300 rows x 300 columns]",
      "text/html": "<div>\n<style scoped>\n    .dataframe tbody tr th:only-of-type {\n        vertical-align: middle;\n    }\n\n    .dataframe tbody tr th {\n        vertical-align: top;\n    }\n\n    .dataframe thead th {\n        text-align: right;\n    }\n</style>\n<table border=\"1\" class=\"dataframe\">\n  <thead>\n    <tr style=\"text-align: right;\">\n      <th>text</th>\n      <th>Go straight for the goal.</th>\n      <th>Plunge into tasks with all my heart.</th>\n      <th>Demand quality.</th>\n      <th>Set high standards for myself and others.</th>\n      <th>Turn plans into actions.</th>\n      <th>Do more than what's expected of me.</th>\n      <th>Work hard.</th>\n      <th>Do just enough work to get by.</th>\n      <th>Am not highly motivated to succeed.</th>\n      <th>Put little time and effort into my work.</th>\n      <th>...</th>\n      <th>Panic easily.</th>\n      <th>Get overwhelmed by emotions.</th>\n      <th>Feel that I'm unable to deal with things.</th>\n      <th>Can't make up my mind.</th>\n      <th>Become overwhelmed by events.</th>\n      <th>Remain calm under pressure.</th>\n      <th>Am calm even in tense situations.</th>\n      <th>Can handle complex problems.</th>\n      <th>Readily overcome setbacks.</th>\n      <th>Know how to cope.</th>\n    </tr>\n    <tr>\n      <th>text</th>\n      <th></th>\n      <th></th>\n      <th></th>\n      <th></th>\n      <th></th>\n      <th></th>\n      <th></th>\n      <th></th>\n      <th></th>\n      <th></th>\n      <th></th>\n      <th></th>\n      <th></th>\n      <th></th>\n      <th></th>\n      <th></th>\n      <th></th>\n      <th></th>\n      <th></th>\n      <th></th>\n      <th></th>\n    </tr>\n  </thead>\n  <tbody>\n    <tr>\n      <th>Go straight for the goal.</th>\n      <td>1.000000</td>\n      <td>0.937292</td>\n      <td>0.912419</td>\n      <td>0.937389</td>\n      <td>0.937179</td>\n      <td>0.941870</td>\n      <td>0.945306</td>\n      <td>0.953538</td>\n      <td>0.913815</td>\n      <td>0.935873</td>\n      <td>...</td>\n      <td>0.936882</td>\n      <td>0.933743</td>\n      <td>0.922841</td>\n      <td>0.923830</td>\n      <td>0.869716</td>\n      <td>0.893923</td>\n      <td>0.896983</td>\n      <td>0.859028</td>\n      <td>0.905520</td>\n      <td>0.944151</td>\n    </tr>\n    <tr>\n      <th>Plunge into tasks with all my heart.</th>\n      <td>0.937292</td>\n      <td>1.000000</td>\n      <td>0.934913</td>\n      <td>0.969671</td>\n      <td>0.942819</td>\n      <td>0.978878</td>\n      <td>0.964293</td>\n      <td>0.962596</td>\n      <td>0.951278</td>\n      <td>0.973330</td>\n      <td>...</td>\n      <td>0.964064</td>\n      <td>0.957841</td>\n      <td>0.976752</td>\n      <td>0.970222</td>\n      <td>0.896999</td>\n      <td>0.875516</td>\n      <td>0.920864</td>\n      <td>0.855678</td>\n      <td>0.913151</td>\n      <td>0.969265</td>\n    </tr>\n    <tr>\n      <th>Demand quality.</th>\n      <td>0.912419</td>\n      <td>0.934913</td>\n      <td>1.000000</td>\n      <td>0.947667</td>\n      <td>0.928942</td>\n      <td>0.938465</td>\n      <td>0.949418</td>\n      <td>0.943863</td>\n      <td>0.916180</td>\n      <td>0.938434</td>\n      <td>...</td>\n      <td>0.934006</td>\n      <td>0.923044</td>\n      <td>0.930710</td>\n      <td>0.928840</td>\n      <td>0.857612</td>\n      <td>0.880098</td>\n      <td>0.910788</td>\n      <td>0.891799</td>\n      <td>0.936942</td>\n      <td>0.945570</td>\n    </tr>\n    <tr>\n      <th>Set high standards for myself and others.</th>\n      <td>0.937389</td>\n      <td>0.969671</td>\n      <td>0.947667</td>\n      <td>1.000000</td>\n      <td>0.949412</td>\n      <td>0.969233</td>\n      <td>0.966870</td>\n      <td>0.962684</td>\n      <td>0.947640</td>\n      <td>0.975383</td>\n      <td>...</td>\n      <td>0.943541</td>\n      <td>0.948249</td>\n      <td>0.955413</td>\n      <td>0.949402</td>\n      <td>0.889186</td>\n      <td>0.905084</td>\n      <td>0.933213</td>\n      <td>0.875336</td>\n      <td>0.922472</td>\n      <td>0.973282</td>\n    </tr>\n    <tr>\n      <th>Turn plans into actions.</th>\n      <td>0.937179</td>\n      <td>0.942819</td>\n      <td>0.928942</td>\n      <td>0.949412</td>\n      <td>1.000000</td>\n      <td>0.950606</td>\n      <td>0.938060</td>\n      <td>0.942705</td>\n      <td>0.924114</td>\n      <td>0.951295</td>\n      <td>...</td>\n      <td>0.920239</td>\n      <td>0.962744</td>\n      <td>0.933894</td>\n      <td>0.917970</td>\n      <td>0.940487</td>\n      <td>0.920888</td>\n      <td>0.925302</td>\n      <td>0.905540</td>\n      <td>0.940013</td>\n      <td>0.947410</td>\n    </tr>\n    <tr>\n      <th>...</th>\n      <td>...</td>\n      <td>...</td>\n      <td>...</td>\n      <td>...</td>\n      <td>...</td>\n      <td>...</td>\n      <td>...</td>\n      <td>...</td>\n      <td>...</td>\n      <td>...</td>\n      <td>...</td>\n      <td>...</td>\n      <td>...</td>\n      <td>...</td>\n      <td>...</td>\n      <td>...</td>\n      <td>...</td>\n      <td>...</td>\n      <td>...</td>\n      <td>...</td>\n      <td>...</td>\n    </tr>\n    <tr>\n      <th>Remain calm under pressure.</th>\n      <td>0.893923</td>\n      <td>0.875516</td>\n      <td>0.880098</td>\n      <td>0.905084</td>\n      <td>0.920888</td>\n      <td>0.888300</td>\n      <td>0.897367</td>\n      <td>0.883605</td>\n      <td>0.878887</td>\n      <td>0.893301</td>\n      <td>...</td>\n      <td>0.853544</td>\n      <td>0.914012</td>\n      <td>0.874819</td>\n      <td>0.853221</td>\n      <td>0.896863</td>\n      <td>1.000000</td>\n      <td>0.930315</td>\n      <td>0.867545</td>\n      <td>0.895987</td>\n      <td>0.901234</td>\n    </tr>\n    <tr>\n      <th>Am calm even in tense situations.</th>\n      <td>0.896983</td>\n      <td>0.920864</td>\n      <td>0.910788</td>\n      <td>0.933213</td>\n      <td>0.925302</td>\n      <td>0.922115</td>\n      <td>0.923240</td>\n      <td>0.906764</td>\n      <td>0.941968</td>\n      <td>0.926968</td>\n      <td>...</td>\n      <td>0.887088</td>\n      <td>0.926703</td>\n      <td>0.918987</td>\n      <td>0.894791</td>\n      <td>0.900692</td>\n      <td>0.930315</td>\n      <td>1.000000</td>\n      <td>0.889343</td>\n      <td>0.919258</td>\n      <td>0.924744</td>\n    </tr>\n    <tr>\n      <th>Can handle complex problems.</th>\n      <td>0.859028</td>\n      <td>0.855678</td>\n      <td>0.891799</td>\n      <td>0.875336</td>\n      <td>0.905540</td>\n      <td>0.870966</td>\n      <td>0.864420</td>\n      <td>0.866394</td>\n      <td>0.852616</td>\n      <td>0.871043</td>\n      <td>...</td>\n      <td>0.839746</td>\n      <td>0.881715</td>\n      <td>0.852122</td>\n      <td>0.845022</td>\n      <td>0.866255</td>\n      <td>0.867545</td>\n      <td>0.889343</td>\n      <td>1.000000</td>\n      <td>0.929644</td>\n      <td>0.875341</td>\n    </tr>\n    <tr>\n      <th>Readily overcome setbacks.</th>\n      <td>0.905520</td>\n      <td>0.913151</td>\n      <td>0.936942</td>\n      <td>0.922472</td>\n      <td>0.940013</td>\n      <td>0.922284</td>\n      <td>0.912404</td>\n      <td>0.916042</td>\n      <td>0.910178</td>\n      <td>0.921127</td>\n      <td>...</td>\n      <td>0.900938</td>\n      <td>0.915672</td>\n      <td>0.901567</td>\n      <td>0.885332</td>\n      <td>0.894593</td>\n      <td>0.895987</td>\n      <td>0.919258</td>\n      <td>0.929644</td>\n      <td>1.000000</td>\n      <td>0.917696</td>\n    </tr>\n    <tr>\n      <th>Know how to cope.</th>\n      <td>0.944151</td>\n      <td>0.969265</td>\n      <td>0.945570</td>\n      <td>0.973282</td>\n      <td>0.947410</td>\n      <td>0.972350</td>\n      <td>0.982248</td>\n      <td>0.974336</td>\n      <td>0.937284</td>\n      <td>0.969264</td>\n      <td>...</td>\n      <td>0.960246</td>\n      <td>0.967818</td>\n      <td>0.968823</td>\n      <td>0.965102</td>\n      <td>0.900269</td>\n      <td>0.901234</td>\n      <td>0.924744</td>\n      <td>0.875341</td>\n      <td>0.917696</td>\n      <td>1.000000</td>\n    </tr>\n  </tbody>\n</table>\n<p>300 rows × 300 columns</p>\n</div>"
     },
     "execution_count": 23,
     "metadata": {},
     "output_type": "execute_result"
    }
   ],
   "source": [
    "# Calculating the cosine similarity between construct embeddings\n",
    "sims = pd.DataFrame(\n",
    "    cosine_similarity(features),\n",
    "    index=neo_items['text'],\n",
    "    columns=neo_items['text'],\n",
    ")\n",
    "sims"
   ],
   "metadata": {
    "collapsed": false,
    "ExecuteTime": {
     "end_time": "2023-11-14T15:40:03.803658Z",
     "start_time": "2023-11-14T15:40:03.770774Z"
    }
   },
   "id": "aa04659949c5500"
  },
  {
   "cell_type": "code",
   "execution_count": 24,
   "outputs": [
    {
     "data": {
      "text/plain": "                                          text_i   \n0                            Worry about things.  \\\n1                           Make friends easily.   \n2                      Have a vivid imagination.   \n3                                  Trust others.   \n4                   Complete tasks successfully.   \n...                                          ...   \n89995          Am calm even in tense situations.   \n89996                        Seldom joke around.   \n89997  Like to stand during the national anthem.   \n89998                   Can't stand weak people.   \n89999              Often make last-minute plans.   \n\n                              text_j       cor  \n0                Worry about things.  1.000000  \n1                Worry about things. -0.092088  \n2                Worry about things.  0.011413  \n3                Worry about things. -0.122167  \n4                Worry about things. -0.052228  \n...                              ...       ...  \n89995  Often make last-minute plans.  0.031644  \n89996  Often make last-minute plans. -0.143314  \n89997  Often make last-minute plans. -0.023413  \n89998  Often make last-minute plans.  0.038725  \n89999  Often make last-minute plans.  1.000000  \n\n[90000 rows x 3 columns]",
      "text/html": "<div>\n<style scoped>\n    .dataframe tbody tr th:only-of-type {\n        vertical-align: middle;\n    }\n\n    .dataframe tbody tr th {\n        vertical-align: top;\n    }\n\n    .dataframe thead th {\n        text-align: right;\n    }\n</style>\n<table border=\"1\" class=\"dataframe\">\n  <thead>\n    <tr style=\"text-align: right;\">\n      <th></th>\n      <th>text_i</th>\n      <th>text_j</th>\n      <th>cor</th>\n    </tr>\n  </thead>\n  <tbody>\n    <tr>\n      <th>0</th>\n      <td>Worry about things.</td>\n      <td>Worry about things.</td>\n      <td>1.000000</td>\n    </tr>\n    <tr>\n      <th>1</th>\n      <td>Make friends easily.</td>\n      <td>Worry about things.</td>\n      <td>-0.092088</td>\n    </tr>\n    <tr>\n      <th>2</th>\n      <td>Have a vivid imagination.</td>\n      <td>Worry about things.</td>\n      <td>0.011413</td>\n    </tr>\n    <tr>\n      <th>3</th>\n      <td>Trust others.</td>\n      <td>Worry about things.</td>\n      <td>-0.122167</td>\n    </tr>\n    <tr>\n      <th>4</th>\n      <td>Complete tasks successfully.</td>\n      <td>Worry about things.</td>\n      <td>-0.052228</td>\n    </tr>\n    <tr>\n      <th>...</th>\n      <td>...</td>\n      <td>...</td>\n      <td>...</td>\n    </tr>\n    <tr>\n      <th>89995</th>\n      <td>Am calm even in tense situations.</td>\n      <td>Often make last-minute plans.</td>\n      <td>0.031644</td>\n    </tr>\n    <tr>\n      <th>89996</th>\n      <td>Seldom joke around.</td>\n      <td>Often make last-minute plans.</td>\n      <td>-0.143314</td>\n    </tr>\n    <tr>\n      <th>89997</th>\n      <td>Like to stand during the national anthem.</td>\n      <td>Often make last-minute plans.</td>\n      <td>-0.023413</td>\n    </tr>\n    <tr>\n      <th>89998</th>\n      <td>Can't stand weak people.</td>\n      <td>Often make last-minute plans.</td>\n      <td>0.038725</td>\n    </tr>\n    <tr>\n      <th>89999</th>\n      <td>Often make last-minute plans.</td>\n      <td>Often make last-minute plans.</td>\n      <td>1.000000</td>\n    </tr>\n  </tbody>\n</table>\n<p>90000 rows × 3 columns</p>\n</div>"
     },
     "execution_count": 24,
     "metadata": {},
     "output_type": "execute_result"
    }
   ],
   "source": [
    "# Loading observed correlations and pivoting to a correlation matrix\n",
    "sims_observed = pd.read_csv('item_corrs.csv')\n",
    "sims_observed"
   ],
   "metadata": {
    "collapsed": false,
    "ExecuteTime": {
     "end_time": "2023-11-14T15:40:12.766756Z",
     "start_time": "2023-11-14T15:40:12.635903Z"
    }
   },
   "id": "3abb71c4bfdef9c9"
  },
  {
   "cell_type": "code",
   "execution_count": 25,
   "outputs": [
    {
     "data": {
      "text/plain": "text_j                                          Act comfortably with others.   \ntext_i                                                                         \nAct comfortably with others.                                        1.000000  \\\nAct wild and crazy.                                                 0.217360   \nAct without thinking.                                               0.012991   \nAdapt easily to new situations.                                    -0.430405   \nAm a creature of habit.                                             0.101136   \n...                                                                      ...   \nWork hard.                                                          0.162693   \nWorry about things.                                                -0.162281   \nWould never cheat on my taxes.                                      0.029572   \nWould never go hang gliding or bungee jumping.                      0.124640   \nYell at people.                                                     0.090932   \n\ntext_j                                          Act wild and crazy.   \ntext_i                                                                \nAct comfortably with others.                               0.217360  \\\nAct wild and crazy.                                        1.000000   \nAct without thinking.                                     -0.421215   \nAdapt easily to new situations.                           -0.177011   \nAm a creature of habit.                                    0.134400   \n...                                                             ...   \nWork hard.                                                -0.097946   \nWorry about things.                                       -0.076365   \nWould never cheat on my taxes.                            -0.115061   \nWould never go hang gliding or bungee jumping.             0.294004   \nYell at people.                                           -0.230751   \n\ntext_j                                          Act without thinking.   \ntext_i                                                                  \nAct comfortably with others.                                 0.012991  \\\nAct wild and crazy.                                         -0.421215   \nAct without thinking.                                        1.000000   \nAdapt easily to new situations.                             -0.023407   \nAm a creature of habit.                                     -0.024389   \n...                                                               ...   \nWork hard.                                                   0.217708   \nWorry about things.                                         -0.050914   \nWould never cheat on my taxes.                               0.132766   \nWould never go hang gliding or bungee jumping.              -0.137169   \nYell at people.                                              0.327725   \n\ntext_j                                          Adapt easily to new situations.   \ntext_i                                                                            \nAct comfortably with others.                                          -0.430405  \\\nAct wild and crazy.                                                   -0.177011   \nAct without thinking.                                                 -0.023407   \nAdapt easily to new situations.                                        1.000000   \nAm a creature of habit.                                               -0.222098   \n...                                                                         ...   \nWork hard.                                                            -0.143309   \nWorry about things.                                                    0.260600   \nWould never cheat on my taxes.                                         0.019874   \nWould never go hang gliding or bungee jumping.                        -0.192907   \nYell at people.                                                       -0.120178   \n\ntext_j                                          Am a creature of habit.   \ntext_i                                                                    \nAct comfortably with others.                                   0.101136  \\\nAct wild and crazy.                                            0.134400   \nAct without thinking.                                         -0.024389   \nAdapt easily to new situations.                               -0.222098   \nAm a creature of habit.                                        1.000000   \n...                                                                 ...   \nWork hard.                                                    -0.029368   \nWorry about things.                                           -0.163692   \nWould never cheat on my taxes.                                -0.042522   \nWould never go hang gliding or bungee jumping.                 0.154302   \nYell at people.                                                0.049869   \n\ntext_j                                          Am able to control my cravings.   \ntext_i                                                                            \nAct comfortably with others.                                          -0.104918  \\\nAct wild and crazy.                                                    0.101634   \nAct without thinking.                                                 -0.240195   \nAdapt easily to new situations.                                        0.153603   \nAm a creature of habit.                                               -0.065602   \n...                                                                         ...   \nWork hard.                                                            -0.168711   \nWorry about things.                                                    0.144669   \nWould never cheat on my taxes.                                        -0.103727   \nWould never go hang gliding or bungee jumping.                        -0.043246   \nYell at people.                                                       -0.155756   \n\ntext_j                                          Am able to stand up for myself.   \ntext_i                                                                            \nAct comfortably with others.                                          -0.303101  \\\nAct wild and crazy.                                                   -0.126245   \nAct without thinking.                                                 -0.072953   \nAdapt easily to new situations.                                        0.343191   \nAm a creature of habit.                                               -0.100340   \n...                                                                         ...   \nWork hard.                                                            -0.162225   \nWorry about things.                                                    0.204268   \nWould never cheat on my taxes.                                         0.021737   \nWould never go hang gliding or bungee jumping.                        -0.126138   \nYell at people.                                                        0.045854   \n\ntext_j                                          Am afraid of many things.   \ntext_i                                                                      \nAct comfortably with others.                                    -0.245115  \\\nAct wild and crazy.                                             -0.028102   \nAct without thinking.                                           -0.154781   \nAdapt easily to new situations.                                  0.359561   \nAm a creature of habit.                                         -0.169118   \n...                                                                   ...   \nWork hard.                                                      -0.115883   \nWorry about things.                                              0.431686   \nWould never cheat on my taxes.                                   0.030539   \nWould never go hang gliding or bungee jumping.                  -0.192227   \nYell at people.                                                 -0.158064   \n\ntext_j                                          Am afraid that I will do the wrong thing.   \ntext_i                                                                                      \nAct comfortably with others.                                                    -0.229300  \\\nAct wild and crazy.                                                             -0.040210   \nAct without thinking.                                                           -0.133205   \nAdapt easily to new situations.                                                  0.278076   \nAm a creature of habit.                                                         -0.155461   \n...                                                                                   ...   \nWork hard.                                                                      -0.075400   \nWorry about things.                                                              0.408099   \nWould never cheat on my taxes.                                                   0.060323   \nWould never go hang gliding or bungee jumping.                                  -0.083722   \nYell at people.                                                                 -0.100875   \n\ntext_j                                          Am afraid to draw attention to myself.   \ntext_i                                                                                   \nAct comfortably with others.                                                 -0.393090  \\\nAct wild and crazy.                                                          -0.276224   \nAct without thinking.                                                         0.055036   \nAdapt easily to new situations.                                               0.328830   \nAm a creature of habit.                                                      -0.156853   \n...                                                                                ...   \nWork hard.                                                                   -0.040886   \nWorry about things.                                                           0.198018   \nWould never cheat on my taxes.                                                0.083540   \nWould never go hang gliding or bungee jumping.                               -0.163592   \nYell at people.                                                               0.045273   \n\ntext_j                                          ...   \ntext_i                                          ...   \nAct comfortably with others.                    ...  \\\nAct wild and crazy.                             ...   \nAct without thinking.                           ...   \nAdapt easily to new situations.                 ...   \nAm a creature of habit.                         ...   \n...                                             ...   \nWork hard.                                      ...   \nWorry about things.                             ...   \nWould never cheat on my taxes.                  ...   \nWould never go hang gliding or bungee jumping.  ...   \nYell at people.                                 ...   \n\ntext_j                                          Want everything to be just right.   \ntext_i                                                                              \nAct comfortably with others.                                            -0.021545  \\\nAct wild and crazy.                                                     -0.070427   \nAct without thinking.                                                    0.047438   \nAdapt easily to new situations.                                          0.105141   \nAm a creature of habit.                                                 -0.222918   \n...                                                                           ...   \nWork hard.                                                               0.160276   \nWorry about things.                                                      0.239192   \nWould never cheat on my taxes.                                           0.072984   \nWould never go hang gliding or bungee jumping.                          -0.083874   \nYell at people.                                                         -0.067763   \n\ntext_j                                          Want to be left alone.   \ntext_i                                                                   \nAct comfortably with others.                                  0.407432  \\\nAct wild and crazy.                                           0.175862   \nAct without thinking.                                         0.012868   \nAdapt easily to new situations.                              -0.249252   \nAm a creature of habit.                                       0.140241   \n...                                                                ...   \nWork hard.                                                    0.106788   \nWorry about things.                                          -0.107536   \nWould never cheat on my taxes.                                0.056801   \nWould never go hang gliding or bungee jumping.                0.119223   \nYell at people.                                               0.113353   \n\ntext_j                                          Warm up quickly to others.   \ntext_i                                                                       \nAct comfortably with others.                                      0.519459  \\\nAct wild and crazy.                                               0.213489   \nAct without thinking.                                            -0.069470   \nAdapt easily to new situations.                                  -0.314628   \nAm a creature of habit.                                           0.077795   \n...                                                                    ...   \nWork hard.                                                        0.094098   \nWorry about things.                                              -0.078245   \nWould never cheat on my taxes.                                    0.049876   \nWould never go hang gliding or bungee jumping.                    0.097164   \nYell at people.                                                   0.081272   \n\ntext_j                                          Waste my time.   \ntext_i                                                           \nAct comfortably with others.                          0.193105  \\\nAct wild and crazy.                                  -0.113697   \nAct without thinking.                                 0.308881   \nAdapt easily to new situations.                      -0.169759   \nAm a creature of habit.                               0.057557   \n...                                                        ...   \nWork hard.                                            0.422429   \nWorry about things.                                  -0.074586   \nWould never cheat on my taxes.                        0.137484   \nWould never go hang gliding or bungee jumping.       -0.009435   \nYell at people.                                       0.168247   \n\ntext_j                                          Willing to try anything once.   \ntext_i                                                                          \nAct comfortably with others.                                         0.158005  \\\nAct wild and crazy.                                                  0.317553   \nAct without thinking.                                               -0.188441   \nAdapt easily to new situations.                                     -0.257563   \nAm a creature of habit.                                              0.132251   \n...                                                                       ...   \nWork hard.                                                           0.002044   \nWorry about things.                                                 -0.107065   \nWould never cheat on my taxes.                                      -0.088864   \nWould never go hang gliding or bungee jumping.                       0.352464   \nYell at people.                                                     -0.027882   \n\ntext_j                                          Work hard.   \ntext_i                                                       \nAct comfortably with others.                      0.162693  \\\nAct wild and crazy.                              -0.097946   \nAct without thinking.                             0.217708   \nAdapt easily to new situations.                  -0.143309   \nAm a creature of habit.                          -0.029368   \n...                                                    ...   \nWork hard.                                        1.000000   \nWorry about things.                               0.027527   \nWould never cheat on my taxes.                    0.159320   \nWould never go hang gliding or bungee jumping.   -0.016483   \nYell at people.                                   0.113103   \n\ntext_j                                          Worry about things.   \ntext_i                                                                \nAct comfortably with others.                              -0.162281  \\\nAct wild and crazy.                                       -0.076365   \nAct without thinking.                                     -0.050914   \nAdapt easily to new situations.                            0.260600   \nAm a creature of habit.                                   -0.163692   \n...                                                             ...   \nWork hard.                                                 0.027527   \nWorry about things.                                        1.000000   \nWould never cheat on my taxes.                             0.051653   \nWould never go hang gliding or bungee jumping.            -0.143831   \nYell at people.                                           -0.136540   \n\ntext_j                                          Would never cheat on my taxes.   \ntext_i                                                                           \nAct comfortably with others.                                          0.029572  \\\nAct wild and crazy.                                                  -0.115061   \nAct without thinking.                                                 0.132766   \nAdapt easily to new situations.                                       0.019874   \nAm a creature of habit.                                              -0.042522   \n...                                                                        ...   \nWork hard.                                                            0.159320   \nWorry about things.                                                   0.051653   \nWould never cheat on my taxes.                                        1.000000   \nWould never go hang gliding or bungee jumping.                       -0.067971   \nYell at people.                                                       0.115916   \n\ntext_j                                          Would never go hang gliding or bungee jumping.   \ntext_i                                                                                           \nAct comfortably with others.                                                          0.124640  \\\nAct wild and crazy.                                                                   0.294004   \nAct without thinking.                                                                -0.137169   \nAdapt easily to new situations.                                                      -0.192907   \nAm a creature of habit.                                                               0.154302   \n...                                                                                        ...   \nWork hard.                                                                           -0.016483   \nWorry about things.                                                                  -0.143831   \nWould never cheat on my taxes.                                                       -0.067971   \nWould never go hang gliding or bungee jumping.                                        1.000000   \nYell at people.                                                                      -0.011130   \n\ntext_j                                          Yell at people.  \ntext_i                                                           \nAct comfortably with others.                           0.090932  \nAct wild and crazy.                                   -0.230751  \nAct without thinking.                                  0.327725  \nAdapt easily to new situations.                       -0.120178  \nAm a creature of habit.                                0.049869  \n...                                                         ...  \nWork hard.                                             0.113103  \nWorry about things.                                   -0.136540  \nWould never cheat on my taxes.                         0.115916  \nWould never go hang gliding or bungee jumping.        -0.011130  \nYell at people.                                        1.000000  \n\n[300 rows x 300 columns]",
      "text/html": "<div>\n<style scoped>\n    .dataframe tbody tr th:only-of-type {\n        vertical-align: middle;\n    }\n\n    .dataframe tbody tr th {\n        vertical-align: top;\n    }\n\n    .dataframe thead th {\n        text-align: right;\n    }\n</style>\n<table border=\"1\" class=\"dataframe\">\n  <thead>\n    <tr style=\"text-align: right;\">\n      <th>text_j</th>\n      <th>Act comfortably with others.</th>\n      <th>Act wild and crazy.</th>\n      <th>Act without thinking.</th>\n      <th>Adapt easily to new situations.</th>\n      <th>Am a creature of habit.</th>\n      <th>Am able to control my cravings.</th>\n      <th>Am able to stand up for myself.</th>\n      <th>Am afraid of many things.</th>\n      <th>Am afraid that I will do the wrong thing.</th>\n      <th>Am afraid to draw attention to myself.</th>\n      <th>...</th>\n      <th>Want everything to be just right.</th>\n      <th>Want to be left alone.</th>\n      <th>Warm up quickly to others.</th>\n      <th>Waste my time.</th>\n      <th>Willing to try anything once.</th>\n      <th>Work hard.</th>\n      <th>Worry about things.</th>\n      <th>Would never cheat on my taxes.</th>\n      <th>Would never go hang gliding or bungee jumping.</th>\n      <th>Yell at people.</th>\n    </tr>\n    <tr>\n      <th>text_i</th>\n      <th></th>\n      <th></th>\n      <th></th>\n      <th></th>\n      <th></th>\n      <th></th>\n      <th></th>\n      <th></th>\n      <th></th>\n      <th></th>\n      <th></th>\n      <th></th>\n      <th></th>\n      <th></th>\n      <th></th>\n      <th></th>\n      <th></th>\n      <th></th>\n      <th></th>\n      <th></th>\n      <th></th>\n    </tr>\n  </thead>\n  <tbody>\n    <tr>\n      <th>Act comfortably with others.</th>\n      <td>1.000000</td>\n      <td>0.217360</td>\n      <td>0.012991</td>\n      <td>-0.430405</td>\n      <td>0.101136</td>\n      <td>-0.104918</td>\n      <td>-0.303101</td>\n      <td>-0.245115</td>\n      <td>-0.229300</td>\n      <td>-0.393090</td>\n      <td>...</td>\n      <td>-0.021545</td>\n      <td>0.407432</td>\n      <td>0.519459</td>\n      <td>0.193105</td>\n      <td>0.158005</td>\n      <td>0.162693</td>\n      <td>-0.162281</td>\n      <td>0.029572</td>\n      <td>0.124640</td>\n      <td>0.090932</td>\n    </tr>\n    <tr>\n      <th>Act wild and crazy.</th>\n      <td>0.217360</td>\n      <td>1.000000</td>\n      <td>-0.421215</td>\n      <td>-0.177011</td>\n      <td>0.134400</td>\n      <td>0.101634</td>\n      <td>-0.126245</td>\n      <td>-0.028102</td>\n      <td>-0.040210</td>\n      <td>-0.276224</td>\n      <td>...</td>\n      <td>-0.070427</td>\n      <td>0.175862</td>\n      <td>0.213489</td>\n      <td>-0.113697</td>\n      <td>0.317553</td>\n      <td>-0.097946</td>\n      <td>-0.076365</td>\n      <td>-0.115061</td>\n      <td>0.294004</td>\n      <td>-0.230751</td>\n    </tr>\n    <tr>\n      <th>Act without thinking.</th>\n      <td>0.012991</td>\n      <td>-0.421215</td>\n      <td>1.000000</td>\n      <td>-0.023407</td>\n      <td>-0.024389</td>\n      <td>-0.240195</td>\n      <td>-0.072953</td>\n      <td>-0.154781</td>\n      <td>-0.133205</td>\n      <td>0.055036</td>\n      <td>...</td>\n      <td>0.047438</td>\n      <td>0.012868</td>\n      <td>-0.069470</td>\n      <td>0.308881</td>\n      <td>-0.188441</td>\n      <td>0.217708</td>\n      <td>-0.050914</td>\n      <td>0.132766</td>\n      <td>-0.137169</td>\n      <td>0.327725</td>\n    </tr>\n    <tr>\n      <th>Adapt easily to new situations.</th>\n      <td>-0.430405</td>\n      <td>-0.177011</td>\n      <td>-0.023407</td>\n      <td>1.000000</td>\n      <td>-0.222098</td>\n      <td>0.153603</td>\n      <td>0.343191</td>\n      <td>0.359561</td>\n      <td>0.278076</td>\n      <td>0.328830</td>\n      <td>...</td>\n      <td>0.105141</td>\n      <td>-0.249252</td>\n      <td>-0.314628</td>\n      <td>-0.169759</td>\n      <td>-0.257563</td>\n      <td>-0.143309</td>\n      <td>0.260600</td>\n      <td>0.019874</td>\n      <td>-0.192907</td>\n      <td>-0.120178</td>\n    </tr>\n    <tr>\n      <th>Am a creature of habit.</th>\n      <td>0.101136</td>\n      <td>0.134400</td>\n      <td>-0.024389</td>\n      <td>-0.222098</td>\n      <td>1.000000</td>\n      <td>-0.065602</td>\n      <td>-0.100340</td>\n      <td>-0.169118</td>\n      <td>-0.155461</td>\n      <td>-0.156853</td>\n      <td>...</td>\n      <td>-0.222918</td>\n      <td>0.140241</td>\n      <td>0.077795</td>\n      <td>0.057557</td>\n      <td>0.132251</td>\n      <td>-0.029368</td>\n      <td>-0.163692</td>\n      <td>-0.042522</td>\n      <td>0.154302</td>\n      <td>0.049869</td>\n    </tr>\n    <tr>\n      <th>...</th>\n      <td>...</td>\n      <td>...</td>\n      <td>...</td>\n      <td>...</td>\n      <td>...</td>\n      <td>...</td>\n      <td>...</td>\n      <td>...</td>\n      <td>...</td>\n      <td>...</td>\n      <td>...</td>\n      <td>...</td>\n      <td>...</td>\n      <td>...</td>\n      <td>...</td>\n      <td>...</td>\n      <td>...</td>\n      <td>...</td>\n      <td>...</td>\n      <td>...</td>\n      <td>...</td>\n    </tr>\n    <tr>\n      <th>Work hard.</th>\n      <td>0.162693</td>\n      <td>-0.097946</td>\n      <td>0.217708</td>\n      <td>-0.143309</td>\n      <td>-0.029368</td>\n      <td>-0.168711</td>\n      <td>-0.162225</td>\n      <td>-0.115883</td>\n      <td>-0.075400</td>\n      <td>-0.040886</td>\n      <td>...</td>\n      <td>0.160276</td>\n      <td>0.106788</td>\n      <td>0.094098</td>\n      <td>0.422429</td>\n      <td>0.002044</td>\n      <td>1.000000</td>\n      <td>0.027527</td>\n      <td>0.159320</td>\n      <td>-0.016483</td>\n      <td>0.113103</td>\n    </tr>\n    <tr>\n      <th>Worry about things.</th>\n      <td>-0.162281</td>\n      <td>-0.076365</td>\n      <td>-0.050914</td>\n      <td>0.260600</td>\n      <td>-0.163692</td>\n      <td>0.144669</td>\n      <td>0.204268</td>\n      <td>0.431686</td>\n      <td>0.408099</td>\n      <td>0.198018</td>\n      <td>...</td>\n      <td>0.239192</td>\n      <td>-0.107536</td>\n      <td>-0.078245</td>\n      <td>-0.074586</td>\n      <td>-0.107065</td>\n      <td>0.027527</td>\n      <td>1.000000</td>\n      <td>0.051653</td>\n      <td>-0.143831</td>\n      <td>-0.136540</td>\n    </tr>\n    <tr>\n      <th>Would never cheat on my taxes.</th>\n      <td>0.029572</td>\n      <td>-0.115061</td>\n      <td>0.132766</td>\n      <td>0.019874</td>\n      <td>-0.042522</td>\n      <td>-0.103727</td>\n      <td>0.021737</td>\n      <td>0.030539</td>\n      <td>0.060323</td>\n      <td>0.083540</td>\n      <td>...</td>\n      <td>0.072984</td>\n      <td>0.056801</td>\n      <td>0.049876</td>\n      <td>0.137484</td>\n      <td>-0.088864</td>\n      <td>0.159320</td>\n      <td>0.051653</td>\n      <td>1.000000</td>\n      <td>-0.067971</td>\n      <td>0.115916</td>\n    </tr>\n    <tr>\n      <th>Would never go hang gliding or bungee jumping.</th>\n      <td>0.124640</td>\n      <td>0.294004</td>\n      <td>-0.137169</td>\n      <td>-0.192907</td>\n      <td>0.154302</td>\n      <td>-0.043246</td>\n      <td>-0.126138</td>\n      <td>-0.192227</td>\n      <td>-0.083722</td>\n      <td>-0.163592</td>\n      <td>...</td>\n      <td>-0.083874</td>\n      <td>0.119223</td>\n      <td>0.097164</td>\n      <td>-0.009435</td>\n      <td>0.352464</td>\n      <td>-0.016483</td>\n      <td>-0.143831</td>\n      <td>-0.067971</td>\n      <td>1.000000</td>\n      <td>-0.011130</td>\n    </tr>\n    <tr>\n      <th>Yell at people.</th>\n      <td>0.090932</td>\n      <td>-0.230751</td>\n      <td>0.327725</td>\n      <td>-0.120178</td>\n      <td>0.049869</td>\n      <td>-0.155756</td>\n      <td>0.045854</td>\n      <td>-0.158064</td>\n      <td>-0.100875</td>\n      <td>0.045273</td>\n      <td>...</td>\n      <td>-0.067763</td>\n      <td>0.113353</td>\n      <td>0.081272</td>\n      <td>0.168247</td>\n      <td>-0.027882</td>\n      <td>0.113103</td>\n      <td>-0.136540</td>\n      <td>0.115916</td>\n      <td>-0.011130</td>\n      <td>1.000000</td>\n    </tr>\n  </tbody>\n</table>\n<p>300 rows × 300 columns</p>\n</div>"
     },
     "execution_count": 25,
     "metadata": {},
     "output_type": "execute_result"
    }
   ],
   "source": [
    "# Pivoting to a correlation matrix for easy comparison with predicted correlations\n",
    "sims_observed = sims_observed.pivot(index='text_i', columns='text_j', values='cor')\n",
    "sims_observed"
   ],
   "metadata": {
    "collapsed": false,
    "ExecuteTime": {
     "end_time": "2023-11-14T15:40:13.071909Z",
     "start_time": "2023-11-14T15:40:13.017244Z"
    }
   },
   "id": "76e29fb070d5bdf9"
  },
  {
   "cell_type": "code",
   "execution_count": 26,
   "outputs": [
    {
     "name": "stdout",
     "output_type": "stream",
     "text": [
      "r: 0.05\n",
      "r of absolute values: 0.14\n"
     ]
    }
   ],
   "source": [
    "# Aligning rows and columns the predicted and observed correlations\n",
    "sims, sims_observed = sims.align(sims_observed)\n",
    "\n",
    "\n",
    "def lower_triangle_flat(df):\n",
    "    \"\"\"Takes the lower triangle of a dataframe and flattens it into a vector\"\"\"\n",
    "    rows, cols = np.triu_indices(len(df), k=1)  # k=1 to exclude the diagonal (self-similarities)\n",
    "    return pd.Series(df.values[rows, cols])\n",
    "\n",
    "\n",
    "sims, sims_observed = lower_triangle_flat(sims), lower_triangle_flat(sims_observed)\n",
    "\n",
    "# Correlation between predicted and observed\n",
    "print(f'r: {sims.corr(sims_observed).round(2)}')\n",
    "print(f'r of absolute values: {sims.abs().corr(sims_observed.abs()).round(2)}')"
   ],
   "metadata": {
    "collapsed": false,
    "ExecuteTime": {
     "end_time": "2023-11-14T15:40:17.119631Z",
     "start_time": "2023-11-14T15:40:17.095071Z"
    }
   },
   "id": "fbead662dbef9450"
  }
 ],
 "metadata": {
  "kernelspec": {
   "display_name": "Python 3",
   "language": "python",
   "name": "python3"
  },
  "language_info": {
   "codemirror_mode": {
    "name": "ipython",
    "version": 2
   },
   "file_extension": ".py",
   "mimetype": "text/x-python",
   "name": "python",
   "nbconvert_exporter": "python",
   "pygments_lexer": "ipython2",
   "version": "2.7.6"
  }
 },
 "nbformat": 4,
 "nbformat_minor": 5
}
