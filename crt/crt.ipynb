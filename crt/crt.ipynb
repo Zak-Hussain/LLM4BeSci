{
 "cells": [
  {
   "cell_type": "code",
   "execution_count": null,
   "id": "initial_id",
   "metadata": {
    "collapsed": true
   },
   "outputs": [],
   "source": [
    "import sys\n",
    "if 'google.colab' in sys.modules:  # If in Google Colab environment\n",
    "    # Installing requisite packages\n",
    "    !pip install transformers==4.37.2 accelerate optimum auto-gptq"
   ]
  },
  {
   "cell_type": "code",
   "execution_count": null,
   "outputs": [],
   "source": [
    "from transformers import pipeline"
   ],
   "metadata": {
    "collapsed": false
   },
   "id": "8da14fe201c279e3"
  },
  {
   "cell_type": "code",
   "execution_count": null,
   "outputs": [],
   "source": [
    "model_ckpt = 'TheBloke/Llama-2-13B-chat-GPTQ'\n",
    "generator = pipeline(\n",
    "    \"text-generation\", model=model_ckpt, device_map='auto',\n",
    "    revision='main', tokenizer=model_ckpt, max_new_tokens=512,\n",
    "    do_sample=False\n",
    ")"
   ],
   "metadata": {
    "collapsed": false
   },
   "id": "1c95aa05c24721a8"
  },
  {
   "cell_type": "code",
   "execution_count": null,
   "outputs": [],
   "source": [
    "# Prompt template adapted from https://huggingface.co/TheBloke/Llama-2-7b-Chat-GPTQ\n",
    "prompt = (\n",
    "    \"1. A bat and a ball cost $1.10 in total. \"\n",
    "    \"The bat costs $1.00 more than the ball. \"\n",
    "    \"How much does the ball cost?\\n\"\n",
    "    \"2. If it takes 5 machines 5 minutes to make 5 widgets, \"\n",
    "    \"how long would it take 100 machines to make 100 widgets?\\n\"\n",
    "    \"3. In a lake, there is a patch of lily pads. \"\n",
    "    \"Every day, the patch doubles in size. \"\n",
    "    \"If it takes 48 days for the patch to cover the entire lake, \"\n",
    "    \"how long would it take for the patch to cover half of the \"\n",
    "    \"lake?\\n\"\n",
    ")\n",
    "prompt_template = (\n",
    "    f\"[INST] <<SYS>>\\n\"\n",
    "    \"You are about to participate in a psychology experiment \"\n",
    "    \"with three questions. \"\n",
    "    \"Please take your time to consider your answer to each \"\n",
    "    \"question, and provide a short answer.\\n\"\n",
    "    f\"<</SYS>>\\n{prompt}[/INST]\\n\"\n",
    ")\n",
    "\n",
    "print(prompt_template)"
   ],
   "metadata": {
    "collapsed": false
   },
   "id": "25d5eb9cbd224bf4"
  },
  {
   "cell_type": "code",
   "execution_count": null,
   "outputs": [],
   "source": [
    "output = generator(prompt_template)\n",
    "print(output[0]['generated_text'])"
   ],
   "metadata": {
    "collapsed": false
   },
   "id": "4a6d36408e2387b2"
  }
 ],
 "metadata": {
  "kernelspec": {
   "display_name": "Python 3",
   "language": "python",
   "name": "python3"
  },
  "language_info": {
   "codemirror_mode": {
    "name": "ipython",
    "version": 2
   },
   "file_extension": ".py",
   "mimetype": "text/x-python",
   "name": "python",
   "nbconvert_exporter": "python",
   "pygments_lexer": "ipython2",
   "version": "2.7.6"
  }
 },
 "nbformat": 4,
 "nbformat_minor": 5
}
