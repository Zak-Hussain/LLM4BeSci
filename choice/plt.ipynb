{
 "cells": [
  {
   "cell_type": "code",
   "execution_count": 1,
   "id": "987bcc17",
   "metadata": {
    "ExecuteTime": {
     "end_time": "2023-11-17T17:39:46.154062Z",
     "start_time": "2023-11-17T17:39:45.548882Z"
    }
   },
   "outputs": [],
   "source": [
    "import pandas as pd\n",
    "import numpy as np"
   ]
  },
  {
   "cell_type": "markdown",
   "id": "3a823525",
   "metadata": {},
   "source": [
    "# Processing data"
   ]
  },
  {
   "cell_type": "code",
   "execution_count": 2,
   "id": "fdffad2f",
   "metadata": {
    "ExecuteTime": {
     "end_time": "2023-11-17T17:40:11.509101Z",
     "start_time": "2023-11-17T17:39:46.158252Z"
    }
   },
   "outputs": [
    {
     "name": "stdout",
     "output_type": "stream",
     "text": [
      "0\n",
      "1\n",
      "2\n",
      "3\n",
      "4\n",
      "5\n",
      "6\n",
      "7\n",
      "8\n",
      "9\n",
      "10\n",
      "11\n",
      "12\n",
      "13\n",
      "14\n",
      "15\n",
      "16\n",
      "17\n",
      "18\n",
      "19\n",
      "20\n",
      "21\n",
      "22\n",
      "23\n",
      "24\n",
      "25\n",
      "26\n",
      "27\n",
      "28\n",
      "29\n",
      "30\n",
      "31\n",
      "32\n",
      "33\n",
      "34\n",
      "35\n",
      "36\n",
      "37\n",
      "38\n",
      "39\n",
      "40\n",
      "41\n",
      "42\n",
      "43\n",
      "44\n",
      "45\n",
      "46\n",
      "47\n",
      "48\n",
      "49\n",
      "50\n",
      "51\n",
      "52\n",
      "53\n",
      "54\n",
      "55\n",
      "56\n",
      "57\n",
      "58\n",
      "59\n"
     ]
    }
   ],
   "source": [
    "# Loading data with pandas\n",
    "df = pd.read_csv('choice_data.csv')\n",
    "\n",
    "num_participants = df.participant.max() + 1\n",
    "num_tasks = df.task.max() + 1\n",
    "\n",
    "features = []\n",
    "for participant in range(num_participants):\n",
    "    print(participant)\n",
    "    \n",
    "    df_participant = df[(df['participant'] == participant)]\n",
    "    \n",
    "    for task in range(num_tasks):\n",
    "        df_task = df_participant[(df_participant['task'] == task)]\n",
    "        num_trials = df_task.trial.max() + 1\n",
    "        \n",
    "        m = np.array([50.0, 50.0])\n",
    "        s = np.array([400.0, 400.0])\n",
    "        reward_variance = np.array([64.0, 64.0])\n",
    "\n",
    "        for trial in range(num_trials):\n",
    "            df_trial = df_task[(df_task['trial'] == trial)]\n",
    "            \n",
    "            # store data\n",
    "            features.append([\n",
    "                m[0] - m[1],\n",
    "                np.sqrt(s[0]) - np.sqrt(s[1]),\n",
    "                (m[0] - m[1]) / (np.sqrt(s[0] + s[1]))\n",
    "            ])\n",
    "            \n",
    "            c = df_trial.choice.item()\n",
    "            r = df_trial.reward.item()\n",
    "            \n",
    "            # update parameters\n",
    "            k = s[c] / (s[c] + reward_variance[c])\n",
    "            err = r - m[c]\n",
    "            m[c] = m[c] + k * err\n",
    "            s[c] = s[c] - k * s[c]\n",
    "\n",
    "features = np.array(features)\n",
    "df['V'] = features[:, 0]    \n",
    "df['RU'] = features[:, 1] \n",
    "df['TU'] = features[:, 2]\n",
    "df = df[~df.forced_choice]"
   ]
  },
  {
   "cell_type": "markdown",
   "id": "4f902311",
   "metadata": {},
   "source": [
    "# Predicting choice behavior with extracted features"
   ]
  },
  {
   "cell_type": "code",
   "execution_count": 3,
   "id": "8802f2b7",
   "metadata": {
    "ExecuteTime": {
     "end_time": "2023-11-17T17:40:12.161167Z",
     "start_time": "2023-11-17T17:40:11.509944Z"
    }
   },
   "outputs": [],
   "source": [
    "from sklearn.preprocessing import StandardScaler\n",
    "from sklearn.linear_model import LogisticRegressionCV\n",
    "from sklearn.model_selection import train_test_split"
   ]
  },
  {
   "cell_type": "code",
   "execution_count": 4,
   "id": "8c48c838",
   "metadata": {
    "ExecuteTime": {
     "end_time": "2023-11-17T17:40:12.174489Z",
     "start_time": "2023-11-17T17:40:12.163058Z"
    }
   },
   "outputs": [
    {
     "data": {
      "text/html": [
       "<div>\n",
       "<style scoped>\n",
       "    .dataframe tbody tr th:only-of-type {\n",
       "        vertical-align: middle;\n",
       "    }\n",
       "\n",
       "    .dataframe tbody tr th {\n",
       "        vertical-align: top;\n",
       "    }\n",
       "\n",
       "    .dataframe thead th {\n",
       "        text-align: right;\n",
       "    }\n",
       "</style>\n",
       "<table border=\"1\" class=\"dataframe\">\n",
       "  <thead>\n",
       "    <tr style=\"text-align: right;\">\n",
       "      <th></th>\n",
       "      <th>V</th>\n",
       "      <th>RU</th>\n",
       "      <th>TU</th>\n",
       "    </tr>\n",
       "  </thead>\n",
       "  <tbody>\n",
       "    <tr>\n",
       "      <th>4</th>\n",
       "      <td>-40.571803</td>\n",
       "      <td>2.927462</td>\n",
       "      <td>-4.671593</td>\n",
       "    </tr>\n",
       "    <tr>\n",
       "      <th>9</th>\n",
       "      <td>-9.580969</td>\n",
       "      <td>2.927462</td>\n",
       "      <td>-1.103189</td>\n",
       "    </tr>\n",
       "    <tr>\n",
       "      <th>10</th>\n",
       "      <td>-13.683779</td>\n",
       "      <td>0.942959</td>\n",
       "      <td>-1.937451</td>\n",
       "    </tr>\n",
       "    <tr>\n",
       "      <th>11</th>\n",
       "      <td>-12.134972</td>\n",
       "      <td>1.520988</td>\n",
       "      <td>-1.808688</td>\n",
       "    </tr>\n",
       "    <tr>\n",
       "      <th>12</th>\n",
       "      <td>-13.124462</td>\n",
       "      <td>1.921507</td>\n",
       "      <td>-2.024360</td>\n",
       "    </tr>\n",
       "    <tr>\n",
       "      <th>...</th>\n",
       "      <td>...</td>\n",
       "      <td>...</td>\n",
       "      <td>...</td>\n",
       "    </tr>\n",
       "    <tr>\n",
       "      <th>143991</th>\n",
       "      <td>-9.553063</td>\n",
       "      <td>1.520988</td>\n",
       "      <td>-1.423861</td>\n",
       "    </tr>\n",
       "    <tr>\n",
       "      <th>143992</th>\n",
       "      <td>-10.486649</td>\n",
       "      <td>1.921507</td>\n",
       "      <td>-1.617495</td>\n",
       "    </tr>\n",
       "    <tr>\n",
       "      <th>143993</th>\n",
       "      <td>-9.006734</td>\n",
       "      <td>2.220019</td>\n",
       "      <td>-1.423747</td>\n",
       "    </tr>\n",
       "    <tr>\n",
       "      <th>143994</th>\n",
       "      <td>-9.476516</td>\n",
       "      <td>2.453570</td>\n",
       "      <td>-1.525928</td>\n",
       "    </tr>\n",
       "    <tr>\n",
       "      <th>143999</th>\n",
       "      <td>21.278918</td>\n",
       "      <td>-2.927462</td>\n",
       "      <td>2.450136</td>\n",
       "    </tr>\n",
       "  </tbody>\n",
       "</table>\n",
       "<p>67200 rows × 3 columns</p>\n",
       "</div>"
      ],
      "text/plain": [
       "                V        RU        TU\n",
       "4      -40.571803  2.927462 -4.671593\n",
       "9       -9.580969  2.927462 -1.103189\n",
       "10     -13.683779  0.942959 -1.937451\n",
       "11     -12.134972  1.520988 -1.808688\n",
       "12     -13.124462  1.921507 -2.024360\n",
       "...           ...       ...       ...\n",
       "143991  -9.553063  1.520988 -1.423861\n",
       "143992 -10.486649  1.921507 -1.617495\n",
       "143993  -9.006734  2.220019 -1.423747\n",
       "143994  -9.476516  2.453570 -1.525928\n",
       "143999  21.278918 -2.927462  2.450136\n",
       "\n",
       "[67200 rows x 3 columns]"
      ]
     },
     "execution_count": 4,
     "metadata": {},
     "output_type": "execute_result"
    }
   ],
   "source": [
    "features = df[['V', 'RU', 'TU']]\n",
    "features"
   ]
  },
  {
   "cell_type": "code",
   "execution_count": 5,
   "id": "e95b265c",
   "metadata": {
    "ExecuteTime": {
     "end_time": "2023-11-17T17:40:12.181540Z",
     "start_time": "2023-11-17T17:40:12.174240Z"
    }
   },
   "outputs": [
    {
     "data": {
      "text/plain": [
       "'Train size: 60480, test size: 6720'"
      ]
     },
     "execution_count": 5,
     "metadata": {},
     "output_type": "execute_result"
    }
   ],
   "source": [
    "# Initializing logistic regression \n",
    "clf = LogisticRegressionCV(cv=10)\n",
    "\n",
    "# Splitting the data into train and test sets\n",
    "X_train, X_test, y_train, y_test = train_test_split(features, df['choice'], test_size=.1, random_state=42)\n",
    "f'Train size: {len(X_train)}, test size: {len(X_test)}'"
   ]
  },
  {
   "cell_type": "code",
   "execution_count": 6,
   "id": "32526420",
   "metadata": {
    "ExecuteTime": {
     "end_time": "2023-11-17T17:40:12.869815Z",
     "start_time": "2023-11-17T17:40:12.183199Z"
    }
   },
   "outputs": [
    {
     "data": {
      "text/plain": [
       "'Accuracy = 0.8262'"
      ]
     },
     "execution_count": 6,
     "metadata": {},
     "output_type": "execute_result"
    }
   ],
   "source": [
    "# Scaling the data\n",
    "scaler = StandardScaler()\n",
    "scaler.fit(X_train)\n",
    "X_train = scaler.transform(X_train)\n",
    "X_test = scaler.transform(X_test)\n",
    "\n",
    "# Fitting the model and evaluating performance\n",
    "clf.fit(X_train, y_train)\n",
    "f'Accuracy = {clf.score(X_test, y_test).round(4)}'"
   ]
  }
 ],
 "metadata": {
  "kernelspec": {
   "display_name": "Python 3 (ipykernel)",
   "language": "python",
   "name": "python3"
  },
  "language_info": {
   "codemirror_mode": {
    "name": "ipython",
    "version": 3
   },
   "file_extension": ".py",
   "mimetype": "text/x-python",
   "name": "python",
   "nbconvert_exporter": "python",
   "pygments_lexer": "ipython3",
   "version": "3.10.9"
  }
 },
 "nbformat": 4,
 "nbformat_minor": 5
}
