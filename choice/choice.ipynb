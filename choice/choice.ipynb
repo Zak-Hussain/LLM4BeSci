{
 "cells": [
  {
   "cell_type": "code",
   "execution_count": 1,
   "id": "bbb8990b",
   "metadata": {
    "colab": {
     "base_uri": "https://localhost:8080/"
    },
    "executionInfo": {
     "elapsed": 9859,
     "status": "ok",
     "timestamp": 1699700122709,
     "user": {
      "displayName": "Marcel Binz",
      "userId": "18259568466035316139"
     },
     "user_tz": -60
    },
    "id": "initial_id",
    "outputId": "112dd7ae-2ed3-4ba0-9d48-481effe2612a"
   },
   "outputs": [],
   "source": [
    "import sys\n",
    "if 'google.colab' in sys.modules:  # If in Google Colab environment\n",
    "    # Installing requisite packages\n",
    "    !pip install datasets transformers evaluate accelerate -U\n",
    "\n",
    "    # Mount google drive to enable access to data files\n",
    "    from google.colab import drive\n",
    "    drive.mount('/content/drive')\n",
    "\n",
    "    # Change working directory to ex1\n",
    "    %cd /content/drive/MyDrive/LLM4behavior_workshop/choice"
   ]
  },
  {
   "cell_type": "markdown",
   "id": "f9e3fbd3",
   "metadata": {
    "id": "2wagHLoUEfT0"
   },
   "source": [
    "# Processing data"
   ]
  },
  {
   "cell_type": "code",
   "execution_count": 1,
   "id": "d68c9186",
   "metadata": {
    "executionInfo": {
     "elapsed": 13989,
     "status": "ok",
     "timestamp": 1699700225115,
     "user": {
      "displayName": "Marcel Binz",
      "userId": "18259568466035316139"
     },
     "user_tz": -60
    },
    "id": "njnHnjbEAeDo",
    "ExecuteTime": {
     "end_time": "2023-11-17T17:14:34.138653Z",
     "start_time": "2023-11-17T17:14:32.959849Z"
    }
   },
   "outputs": [],
   "source": [
    "import pandas as pd\n",
    "from datasets import Dataset\n",
    "from transformers import AutoTokenizer"
   ]
  },
  {
   "cell_type": "code",
   "execution_count": 3,
   "id": "b5cf3bc7",
   "metadata": {
    "colab": {
     "base_uri": "https://localhost:8080/",
     "height": 424
    },
    "executionInfo": {
     "elapsed": 813,
     "status": "ok",
     "timestamp": 1699700309457,
     "user": {
      "displayName": "Marcel Binz",
      "userId": "18259568466035316139"
     },
     "user_tz": -60
    },
    "id": "4CmwkYbFA2VB",
    "outputId": "31868bc4-7e75-433c-a9d8-ebbf7ef1eddd",
    "ExecuteTime": {
     "end_time": "2023-11-17T17:14:56.528893Z",
     "start_time": "2023-11-17T17:14:56.427624Z"
    }
   },
   "outputs": [
    {
     "data": {
      "text/plain": "       participant  task  trial  choice  reward        RT  expected_reward0   \n0                0     0      0       1    66.0  1.849054                40  \\\n1                0     0      1       1    80.0  1.771619                40   \n2                0     0      2       0    29.0  0.562676                40   \n3                0     0      3       1    75.0  0.578808                40   \n4                0     0      4       1    81.0  3.942767                40   \n...            ...   ...    ...     ...     ...       ...               ...   \n69595           59   319      0       1    69.0  0.262339                80   \n69596           59   319      1       0    90.0  0.313540                80   \n69597           59   319      2       0    86.0  0.355905                80   \n69598           59   319      3       0    93.0  0.403659                80   \n69599           59   319      4       0    86.0  0.265952                80   \n\n       expected_reward1  forced_choice  horizon  \n0                    70           True        5  \n1                    70           True        5  \n2                    70           True        5  \n3                    70           True        5  \n4                    70          False        5  \n...                 ...            ...      ...  \n69595                60           True        5  \n69596                60           True        5  \n69597                60           True        5  \n69598                60           True        5  \n69599                60          False        5  \n\n[144000 rows x 10 columns]",
      "text/html": "<div>\n<style scoped>\n    .dataframe tbody tr th:only-of-type {\n        vertical-align: middle;\n    }\n\n    .dataframe tbody tr th {\n        vertical-align: top;\n    }\n\n    .dataframe thead th {\n        text-align: right;\n    }\n</style>\n<table border=\"1\" class=\"dataframe\">\n  <thead>\n    <tr style=\"text-align: right;\">\n      <th></th>\n      <th>participant</th>\n      <th>task</th>\n      <th>trial</th>\n      <th>choice</th>\n      <th>reward</th>\n      <th>RT</th>\n      <th>expected_reward0</th>\n      <th>expected_reward1</th>\n      <th>forced_choice</th>\n      <th>horizon</th>\n    </tr>\n  </thead>\n  <tbody>\n    <tr>\n      <th>0</th>\n      <td>0</td>\n      <td>0</td>\n      <td>0</td>\n      <td>1</td>\n      <td>66.0</td>\n      <td>1.849054</td>\n      <td>40</td>\n      <td>70</td>\n      <td>True</td>\n      <td>5</td>\n    </tr>\n    <tr>\n      <th>1</th>\n      <td>0</td>\n      <td>0</td>\n      <td>1</td>\n      <td>1</td>\n      <td>80.0</td>\n      <td>1.771619</td>\n      <td>40</td>\n      <td>70</td>\n      <td>True</td>\n      <td>5</td>\n    </tr>\n    <tr>\n      <th>2</th>\n      <td>0</td>\n      <td>0</td>\n      <td>2</td>\n      <td>0</td>\n      <td>29.0</td>\n      <td>0.562676</td>\n      <td>40</td>\n      <td>70</td>\n      <td>True</td>\n      <td>5</td>\n    </tr>\n    <tr>\n      <th>3</th>\n      <td>0</td>\n      <td>0</td>\n      <td>3</td>\n      <td>1</td>\n      <td>75.0</td>\n      <td>0.578808</td>\n      <td>40</td>\n      <td>70</td>\n      <td>True</td>\n      <td>5</td>\n    </tr>\n    <tr>\n      <th>4</th>\n      <td>0</td>\n      <td>0</td>\n      <td>4</td>\n      <td>1</td>\n      <td>81.0</td>\n      <td>3.942767</td>\n      <td>40</td>\n      <td>70</td>\n      <td>False</td>\n      <td>5</td>\n    </tr>\n    <tr>\n      <th>...</th>\n      <td>...</td>\n      <td>...</td>\n      <td>...</td>\n      <td>...</td>\n      <td>...</td>\n      <td>...</td>\n      <td>...</td>\n      <td>...</td>\n      <td>...</td>\n      <td>...</td>\n    </tr>\n    <tr>\n      <th>69595</th>\n      <td>59</td>\n      <td>319</td>\n      <td>0</td>\n      <td>1</td>\n      <td>69.0</td>\n      <td>0.262339</td>\n      <td>80</td>\n      <td>60</td>\n      <td>True</td>\n      <td>5</td>\n    </tr>\n    <tr>\n      <th>69596</th>\n      <td>59</td>\n      <td>319</td>\n      <td>1</td>\n      <td>0</td>\n      <td>90.0</td>\n      <td>0.313540</td>\n      <td>80</td>\n      <td>60</td>\n      <td>True</td>\n      <td>5</td>\n    </tr>\n    <tr>\n      <th>69597</th>\n      <td>59</td>\n      <td>319</td>\n      <td>2</td>\n      <td>0</td>\n      <td>86.0</td>\n      <td>0.355905</td>\n      <td>80</td>\n      <td>60</td>\n      <td>True</td>\n      <td>5</td>\n    </tr>\n    <tr>\n      <th>69598</th>\n      <td>59</td>\n      <td>319</td>\n      <td>3</td>\n      <td>0</td>\n      <td>93.0</td>\n      <td>0.403659</td>\n      <td>80</td>\n      <td>60</td>\n      <td>True</td>\n      <td>5</td>\n    </tr>\n    <tr>\n      <th>69599</th>\n      <td>59</td>\n      <td>319</td>\n      <td>4</td>\n      <td>0</td>\n      <td>86.0</td>\n      <td>0.265952</td>\n      <td>80</td>\n      <td>60</td>\n      <td>False</td>\n      <td>5</td>\n    </tr>\n  </tbody>\n</table>\n<p>144000 rows × 10 columns</p>\n</div>"
     },
     "execution_count": 3,
     "metadata": {},
     "output_type": "execute_result"
    }
   ],
   "source": [
    "# Reading in the .csv data\n",
    "df = pd.read_csv('choice_data.csv', index_col=0)\n",
    "df"
   ]
  },
  {
   "cell_type": "code",
   "execution_count": 4,
   "id": "9ef9a999",
   "metadata": {
    "colab": {
     "base_uri": "https://localhost:8080/"
    },
    "executionInfo": {
     "elapsed": 103674,
     "status": "ok",
     "timestamp": 1699700416895,
     "user": {
      "displayName": "Marcel Binz",
      "userId": "18259568466035316139"
     },
     "user_tz": -60
    },
    "id": "9_ODo9NlBKs8",
    "outputId": "c4e60487-b722-4b9f-b78c-7a1b4b6f65a7",
    "ExecuteTime": {
     "end_time": "2023-11-17T17:15:24.546648Z",
     "start_time": "2023-11-17T17:14:58.010273Z"
    }
   },
   "outputs": [
    {
     "name": "stdout",
     "output_type": "stream",
     "text": [
      "0\n",
      "1\n",
      "2\n",
      "3\n",
      "4\n",
      "5\n",
      "6\n",
      "7\n",
      "8\n",
      "9\n",
      "10\n",
      "11\n",
      "12\n",
      "13\n",
      "14\n",
      "15\n",
      "16\n",
      "17\n",
      "18\n",
      "19\n",
      "20\n",
      "21\n",
      "22\n",
      "23\n",
      "24\n",
      "25\n",
      "26\n",
      "27\n",
      "28\n",
      "29\n",
      "30\n",
      "31\n",
      "32\n",
      "33\n",
      "34\n",
      "35\n",
      "36\n",
      "37\n",
      "38\n",
      "39\n",
      "40\n",
      "41\n",
      "42\n",
      "43\n",
      "44\n",
      "45\n",
      "46\n",
      "47\n",
      "48\n",
      "49\n",
      "50\n",
      "51\n",
      "52\n",
      "53\n",
      "54\n",
      "55\n",
      "56\n",
      "57\n",
      "58\n",
      "59\n"
     ]
    }
   ],
   "source": [
    "# Add column with prompts\n",
    "num_participants = df.participant.max() + 1\n",
    "num_tasks = df.task.max() + 1\n",
    "instructions = \"You made the following observations in the past:\\n\"\n",
    "question = \"Q: Which machine do you choose?\\nA: Machine\"\n",
    "text = []\n",
    "for participant in range(num_participants):\n",
    "    print(participant)\n",
    "\n",
    "    df_participant = df[(df['participant'] == participant)]\n",
    "\n",
    "    for task in range(num_tasks):\n",
    "        # new prompt for each task\n",
    "        history = \"\"\n",
    "        df_task = df_participant[(df_participant['task'] == task)]\n",
    "        num_trials = df_task.trial.max() + 1\n",
    "        for trial in range(num_trials):\n",
    "            df_trial = df_task[(df_task['trial'] == trial)]\n",
    "            # add text for free choice trials\n",
    "            if not df_trial['forced_choice'].item():\n",
    "                trials_left = num_trials - trial\n",
    "                trials_left = str(trials_left) + \" additional choices\" if trials_left > 1 else str(trials_left) + \" additional choice\"\n",
    "                trials_left_string = \"Your goal is to maximize the sum of received dollars within \" +  trials_left + \".\\n\\n\"\n",
    "\n",
    "                prompt = instructions + history + \"\\n\" + trials_left_string + question\n",
    "                text.append(prompt)\n",
    "            else:\n",
    "                text.append(\"\")\n",
    "\n",
    "            # add data to history\n",
    "            c = df_trial.choice.item()\n",
    "            r = df_trial.reward.item()\n",
    "            history += \"- Machine \" + str(c+1) +  \" delivered \" + str(r) + \" dollars.\\n\"\n",
    "\n",
    "df['text'] = text"
   ]
  },
  {
   "cell_type": "code",
   "execution_count": 5,
   "id": "8aeb2d74",
   "metadata": {
    "colab": {
     "base_uri": "https://localhost:8080/"
    },
    "executionInfo": {
     "elapsed": 614,
     "status": "ok",
     "timestamp": 1699700423213,
     "user": {
      "displayName": "Marcel Binz",
      "userId": "18259568466035316139"
     },
     "user_tz": -60
    },
    "id": "yMvLmNRgCIk0",
    "outputId": "3d147367-30ee-4199-efa1-84b158958bb0",
    "ExecuteTime": {
     "end_time": "2023-11-17T17:15:26.303637Z",
     "start_time": "2023-11-17T17:15:26.202546Z"
    }
   },
   "outputs": [
    {
     "data": {
      "text/plain": "Dataset({\n    features: ['participant', 'task', 'trial', 'choice', 'reward', 'RT', 'expected_reward0', 'expected_reward1', 'forced_choice', 'horizon', 'text', '__index_level_0__'],\n    num_rows: 67200\n})"
     },
     "execution_count": 5,
     "metadata": {},
     "output_type": "execute_result"
    }
   ],
   "source": [
    "# Removing forced choice trials and converting into a HuggingFace dataset\n",
    "df = df[~df.forced_choice]\n",
    "dat = Dataset.from_pandas(df)\n",
    "dat"
   ]
  },
  {
   "cell_type": "code",
   "execution_count": 6,
   "id": "fd10805c",
   "metadata": {
    "colab": {
     "base_uri": "https://localhost:8080/"
    },
    "executionInfo": {
     "elapsed": 257,
     "status": "ok",
     "timestamp": 1699700446744,
     "user": {
      "displayName": "Marcel Binz",
      "userId": "18259568466035316139"
     },
     "user_tz": -60
    },
    "id": "CbzJyNlkCjVl",
    "outputId": "3e632fcb-1148-4344-b614-5103d0eb2590",
    "ExecuteTime": {
     "end_time": "2023-11-17T17:15:26.818779Z",
     "start_time": "2023-11-17T17:15:26.815546Z"
    }
   },
   "outputs": [
    {
     "data": {
      "text/plain": "{'participant': 0,\n 'task': 0,\n 'trial': 4,\n 'choice': 1,\n 'reward': 81.0,\n 'RT': 3.942767,\n 'expected_reward0': 40,\n 'expected_reward1': 70,\n 'forced_choice': False,\n 'horizon': 5,\n 'text': 'You made the following observations in the past:\\n- Machine 2 delivered 66.0 dollars.\\n- Machine 2 delivered 80.0 dollars.\\n- Machine 1 delivered 29.0 dollars.\\n- Machine 2 delivered 75.0 dollars.\\n\\nYour goal is to maximize the sum of received dollars within 1 additional choice.\\n\\nQ: Which machine do you choose?\\nA: Machine',\n '__index_level_0__': 4}"
     },
     "execution_count": 6,
     "metadata": {},
     "output_type": "execute_result"
    }
   ],
   "source": [
    "dat[0]"
   ]
  },
  {
   "cell_type": "code",
   "execution_count": 7,
   "id": "2799e57c",
   "metadata": {
    "colab": {
     "base_uri": "https://localhost:8080/",
     "height": 162
    },
    "executionInfo": {
     "elapsed": 1705,
     "status": "ok",
     "timestamp": 1699700496805,
     "user": {
      "displayName": "Marcel Binz",
      "userId": "18259568466035316139"
     },
     "user_tz": -60
    },
    "id": "Z4q4SgFXCpLI",
    "outputId": "f47eb980-29ae-4dea-eb10-76c763578146",
    "ExecuteTime": {
     "end_time": "2023-11-17T17:15:28.546046Z",
     "start_time": "2023-11-17T17:15:28.015497Z"
    }
   },
   "outputs": [
    {
     "name": "stdout",
     "output_type": "stream",
     "text": [
      "Vocabulary size: 30522, max context length: 512\n"
     ]
    }
   ],
   "source": [
    "# Defining model checkpoint\n",
    "model_ckpt = 'distilbert-base-uncased'\n",
    "\n",
    "# Tokenizing the dataset\n",
    "tokenizer = AutoTokenizer.from_pretrained(model_ckpt)\n",
    "\n",
    "print(f'Vocabulary size: {tokenizer.vocab_size}, max context length: {tokenizer.model_max_length}')"
   ]
  },
  {
   "cell_type": "code",
   "execution_count": 8,
   "id": "01419853",
   "metadata": {
    "colab": {
     "base_uri": "https://localhost:8080/",
     "height": 1000
    },
    "executionInfo": {
     "elapsed": 39629,
     "status": "ok",
     "timestamp": 1699700637893,
     "user": {
      "displayName": "Marcel Binz",
      "userId": "18259568466035316139"
     },
     "user_tz": -60
    },
    "id": "BbkE1XxMC1Cv",
    "outputId": "3d582b1a-c72d-4e96-a338-add02854cfd7",
    "ExecuteTime": {
     "end_time": "2023-11-17T17:15:35.159330Z",
     "start_time": "2023-11-17T17:15:30.104730Z"
    }
   },
   "outputs": [
    {
     "data": {
      "text/plain": "Map:   0%|          | 0/67200 [00:00<?, ? examples/s]",
      "application/vnd.jupyter.widget-view+json": {
       "version_major": 2,
       "version_minor": 0,
       "model_id": "1f64a8bd3a5349fc9c2a4095244f7a5b"
      }
     },
     "metadata": {},
     "output_type": "display_data"
    },
    {
     "data": {
      "text/plain": "{'participant': 0,\n 'task': 0,\n 'trial': 4,\n 'choice': 1,\n 'reward': 81.0,\n 'RT': 3.942767,\n 'expected_reward0': 40,\n 'expected_reward1': 70,\n 'forced_choice': False,\n 'horizon': 5,\n 'text': 'You made the following observations in the past:\\n- Machine 2 delivered 66.0 dollars.\\n- Machine 2 delivered 80.0 dollars.\\n- Machine 1 delivered 29.0 dollars.\\n- Machine 2 delivered 75.0 dollars.\\n\\nYour goal is to maximize the sum of received dollars within 1 additional choice.\\n\\nQ: Which machine do you choose?\\nA: Machine',\n '__index_level_0__': 4,\n 'input_ids': [101,\n  2017,\n  2081,\n  1996,\n  2206,\n  9420,\n  1999,\n  1996,\n  2627,\n  1024,\n  1011,\n  3698,\n  1016,\n  5359,\n  5764,\n  1012,\n  1014,\n  6363,\n  1012,\n  1011,\n  3698,\n  1016,\n  5359,\n  3770,\n  1012,\n  1014,\n  6363,\n  1012,\n  1011,\n  3698,\n  1015,\n  5359,\n  2756,\n  1012,\n  1014,\n  6363,\n  1012,\n  1011,\n  3698,\n  1016,\n  5359,\n  4293,\n  1012,\n  1014,\n  6363,\n  1012,\n  2115,\n  3125,\n  2003,\n  2000,\n  25845,\n  1996,\n  7680,\n  1997,\n  2363,\n  6363,\n  2306,\n  1015,\n  3176,\n  3601,\n  1012,\n  1053,\n  1024,\n  2029,\n  3698,\n  2079,\n  2017,\n  5454,\n  1029,\n  1037,\n  1024,\n  3698,\n  102,\n  0,\n  0,\n  0,\n  0,\n  0,\n  0,\n  0,\n  0,\n  0,\n  0,\n  0,\n  0,\n  0,\n  0,\n  0,\n  0,\n  0,\n  0,\n  0,\n  0,\n  0,\n  0,\n  0,\n  0,\n  0,\n  0,\n  0,\n  0,\n  0,\n  0,\n  0,\n  0,\n  0,\n  0,\n  0,\n  0,\n  0,\n  0,\n  0,\n  0,\n  0,\n  0,\n  0,\n  0,\n  0],\n 'attention_mask': [1,\n  1,\n  1,\n  1,\n  1,\n  1,\n  1,\n  1,\n  1,\n  1,\n  1,\n  1,\n  1,\n  1,\n  1,\n  1,\n  1,\n  1,\n  1,\n  1,\n  1,\n  1,\n  1,\n  1,\n  1,\n  1,\n  1,\n  1,\n  1,\n  1,\n  1,\n  1,\n  1,\n  1,\n  1,\n  1,\n  1,\n  1,\n  1,\n  1,\n  1,\n  1,\n  1,\n  1,\n  1,\n  1,\n  1,\n  1,\n  1,\n  1,\n  1,\n  1,\n  1,\n  1,\n  1,\n  1,\n  1,\n  1,\n  1,\n  1,\n  1,\n  1,\n  1,\n  1,\n  1,\n  1,\n  1,\n  1,\n  1,\n  1,\n  1,\n  1,\n  1,\n  0,\n  0,\n  0,\n  0,\n  0,\n  0,\n  0,\n  0,\n  0,\n  0,\n  0,\n  0,\n  0,\n  0,\n  0,\n  0,\n  0,\n  0,\n  0,\n  0,\n  0,\n  0,\n  0,\n  0,\n  0,\n  0,\n  0,\n  0,\n  0,\n  0,\n  0,\n  0,\n  0,\n  0,\n  0,\n  0,\n  0,\n  0,\n  0,\n  0,\n  0,\n  0,\n  0,\n  0,\n  0]}"
     },
     "execution_count": 8,
     "metadata": {},
     "output_type": "execute_result"
    }
   ],
   "source": [
    "# Function to tokenize a batch of samples\n",
    "batch_tokenizer = lambda batch: tokenizer(batch['text'], padding=True, truncation=True)\n",
    "\n",
    "#  Tokenizing the dataset\n",
    "dat = dat.map(batch_tokenizer, batched=True, batch_size=None)\n",
    "dat[0]"
   ]
  },
  {
   "cell_type": "code",
   "execution_count": 9,
   "id": "420f872d",
   "metadata": {
    "colab": {
     "base_uri": "https://localhost:8080/"
    },
    "executionInfo": {
     "elapsed": 265,
     "status": "ok",
     "timestamp": 1699700679258,
     "user": {
      "displayName": "Marcel Binz",
      "userId": "18259568466035316139"
     },
     "user_tz": -60
    },
    "id": "4-zU24xgDOLE",
    "outputId": "c95e14cf-11e1-4882-a86e-0fcd05fa6493",
    "ExecuteTime": {
     "end_time": "2023-11-17T17:15:42.880203Z",
     "start_time": "2023-11-17T17:15:39.290124Z"
    }
   },
   "outputs": [
    {
     "data": {
      "text/plain": "Dataset({\n    features: ['participant', 'task', 'trial', 'choice', 'reward', 'RT', 'expected_reward0', 'expected_reward1', 'forced_choice', 'horizon', 'text', '__index_level_0__', 'input_ids', 'attention_mask'],\n    num_rows: 67200\n})"
     },
     "execution_count": 9,
     "metadata": {},
     "output_type": "execute_result"
    }
   ],
   "source": [
    "# Setting the format of the dataset to torch tensors for passing to the model\n",
    "dat.set_format('torch', columns=['input_ids', 'attention_mask'])\n",
    "dat"
   ]
  },
  {
   "cell_type": "markdown",
   "id": "cbaceada",
   "metadata": {},
   "source": [
    "# Loading the model for feature extraction"
   ]
  },
  {
   "cell_type": "code",
   "execution_count": 10,
   "id": "66efc49b",
   "metadata": {
    "executionInfo": {
     "elapsed": 267,
     "status": "ok",
     "timestamp": 1699700699131,
     "user": {
      "displayName": "Marcel Binz",
      "userId": "18259568466035316139"
     },
     "user_tz": -60
    },
    "id": "VEXYtvhNDh9H",
    "ExecuteTime": {
     "end_time": "2023-11-17T17:15:42.886956Z",
     "start_time": "2023-11-17T17:15:42.877232Z"
    }
   },
   "outputs": [],
   "source": [
    "import torch\n",
    "torch.manual_seed(42) # For reproducibility\n",
    "from transformers import AutoModel"
   ]
  },
  {
   "cell_type": "code",
   "execution_count": 11,
   "id": "680d0f80",
   "metadata": {
    "colab": {
     "base_uri": "https://localhost:8080/"
    },
    "executionInfo": {
     "elapsed": 4,
     "status": "ok",
     "timestamp": 1699700748763,
     "user": {
      "displayName": "Marcel Binz",
      "userId": "18259568466035316139"
     },
     "user_tz": -60
    },
    "id": "j9B4jlnyDmyj",
    "outputId": "96e96f28-a85f-4db4-9b2f-891525797954",
    "ExecuteTime": {
     "end_time": "2023-11-17T17:15:43.579499Z",
     "start_time": "2023-11-17T17:15:43.573891Z"
    }
   },
   "outputs": [
    {
     "data": {
      "text/plain": "device(type='mps')"
     },
     "execution_count": 11,
     "metadata": {},
     "output_type": "execute_result"
    }
   ],
   "source": [
    "# Loading the model and moving it to the GPU if available\n",
    "if torch.cuda.is_available():  # for nvidia GPUs\n",
    "    device = torch.device('cuda')\n",
    "elif torch.backends.mps.is_available(): # for Apple Metal Performance Sharder (mps) GPUs\n",
    "    device = torch.device('mps')\n",
    "else:\n",
    "    device = torch.device('cpu')\n",
    "\n",
    "device"
   ]
  },
  {
   "cell_type": "code",
   "execution_count": 12,
   "id": "00c775eb",
   "metadata": {
    "colab": {
     "base_uri": "https://localhost:8080/",
     "height": 67
    },
    "executionInfo": {
     "elapsed": 8508,
     "status": "ok",
     "timestamp": 1699700801227,
     "user": {
      "displayName": "Marcel Binz",
      "userId": "18259568466035316139"
     },
     "user_tz": -60
    },
    "id": "NOq2mYiuDy9e",
    "outputId": "32569906-a5d4-4b24-e2a8-b44084f82ef3",
    "ExecuteTime": {
     "end_time": "2023-11-17T17:15:45.993339Z",
     "start_time": "2023-11-17T17:15:44.568318Z"
    }
   },
   "outputs": [
    {
     "name": "stderr",
     "output_type": "stream",
     "text": [
      "Some weights of the model checkpoint at distilbert-base-uncased were not used when initializing DistilBertModel: ['vocab_projector.bias', 'vocab_transform.bias', 'vocab_transform.weight', 'vocab_layer_norm.weight', 'vocab_layer_norm.bias']\n",
      "- This IS expected if you are initializing DistilBertModel from the checkpoint of a model trained on another task or with another architecture (e.g. initializing a BertForSequenceClassification model from a BertForPreTraining model).\n",
      "- This IS NOT expected if you are initializing DistilBertModel from the checkpoint of a model that you expect to be exactly identical (initializing a BertForSequenceClassification model from a BertForSequenceClassification model).\n"
     ]
    },
    {
     "data": {
      "text/plain": "\"Model inputs: ['input_ids', 'attention_mask']\""
     },
     "execution_count": 12,
     "metadata": {},
     "output_type": "execute_result"
    }
   ],
   "source": [
    "# Loading distilbert-base-uncased and moving it to the GPU if available\n",
    "model = AutoModel.from_pretrained(model_ckpt).to(device)\n",
    "f'Model inputs: {tokenizer.model_input_names}'"
   ]
  },
  {
   "cell_type": "code",
   "execution_count": 13,
   "id": "a3ea21b0",
   "metadata": {
    "colab": {
     "base_uri": "https://localhost:8080/",
     "height": 66
    },
    "executionInfo": {
     "elapsed": 1156369,
     "status": "ok",
     "timestamp": 1699716073493,
     "user": {
      "displayName": "Marcel Binz",
      "userId": "18259568466035316139"
     },
     "user_tz": -60
    },
    "id": "ZvnspZ7UD9r4",
    "outputId": "eef7debf-530b-4940-81d2-eb29af3d29c9",
    "ExecuteTime": {
     "end_time": "2023-11-17T17:22:28.398786Z",
     "start_time": "2023-11-17T17:15:46.977063Z"
    }
   },
   "outputs": [
    {
     "name": "stderr",
     "output_type": "stream",
     "text": [
      "/Users/zhussain/opt/anaconda3/envs/LLM4BeSci/lib/python3.8/site-packages/torch/_tensor_str.py:103: UserWarning: The operator 'aten::bitwise_and.Tensor_out' is not currently supported on the MPS backend and will fall back to run on the CPU. This may have performance implications. (Triggered internally at  /Users/runner/miniforge3/conda-bld/pytorch-recipe_1660136230118/work/aten/src/ATen/mps/MPSFallback.mm:11.)\n",
      "  nonzero_finite_vals = torch.masked_select(tensor_view, torch.isfinite(tensor_view) & tensor_view.ne(0))\n"
     ]
    },
    {
     "data": {
      "text/plain": "Map:   0%|          | 0/67200 [00:00<?, ? examples/s]",
      "application/vnd.jupyter.widget-view+json": {
       "version_major": 2,
       "version_minor": 0,
       "model_id": "f6e0ed11bd444602bb58b3371e6884d0"
      }
     },
     "metadata": {},
     "output_type": "display_data"
    },
    {
     "data": {
      "text/plain": "torch.Size([67200, 768])"
     },
     "execution_count": 13,
     "metadata": {},
     "output_type": "execute_result"
    }
   ],
   "source": [
    "def extract_features(batch):\n",
    "    \"\"\"Extract features from a batch of items\"\"\"\n",
    "    inputs = {k:v.to(device) for k, v in batch.items() if k in tokenizer.model_input_names}\n",
    "    with torch.no_grad():\n",
    "        last_hidden_state = model(**inputs).last_hidden_state\n",
    "        return {\"hidden_state\": last_hidden_state[:,0].cpu().numpy()}\n",
    "\n",
    "\n",
    "dat = dat.map(extract_features, batched=True, batch_size=8)\n",
    "dat['hidden_state'].shape"
   ]
  },
  {
   "cell_type": "markdown",
   "id": "6ed54dfb",
   "metadata": {},
   "source": [
    "# Predicting choice behavior with extracted features"
   ]
  },
  {
   "cell_type": "code",
   "execution_count": 18,
   "id": "2dbb2b83",
   "metadata": {
    "colab": {
     "base_uri": "https://localhost:8080/"
    },
    "executionInfo": {
     "elapsed": 761,
     "status": "ok",
     "timestamp": 1699716575958,
     "user": {
      "displayName": "Marcel Binz",
      "userId": "18259568466035316139"
     },
     "user_tz": -60
    },
    "id": "jHJV2tGg_ipt",
    "outputId": "937119f4-ce5d-4e73-d540-f626459f29d2",
    "ExecuteTime": {
     "end_time": "2023-11-17T17:24:43.400802Z",
     "start_time": "2023-11-17T17:24:43.394445Z"
    }
   },
   "outputs": [],
   "source": [
    "from sklearn.preprocessing import StandardScaler\n",
    "from sklearn.linear_model import LogisticRegressionCV\n",
    "from sklearn.model_selection import train_test_split"
   ]
  },
  {
   "cell_type": "code",
   "execution_count": 15,
   "id": "a8b4ea4f",
   "metadata": {
    "colab": {
     "base_uri": "https://localhost:8080/",
     "height": 444
    },
    "executionInfo": {
     "elapsed": 2138,
     "status": "ok",
     "timestamp": 1699716302167,
     "user": {
      "displayName": "Marcel Binz",
      "userId": "18259568466035316139"
     },
     "user_tz": -60
    },
    "id": "hQ5RtxHS_CbG",
    "outputId": "b5288e60-77f0-43c4-db80-3d70b6f95d4b",
    "ExecuteTime": {
     "end_time": "2023-11-17T17:22:33.972518Z",
     "start_time": "2023-11-17T17:22:27.558954Z"
    }
   },
   "outputs": [
    {
     "data": {
      "text/plain": "            0         1         2         3         4         5         6     \n0     -0.148934 -0.180077 -0.134831  0.132853  0.188525  0.209104  0.182039  \\\n1     -0.154420 -0.182241 -0.125056  0.147510  0.202006  0.225790  0.221678   \n2     -0.135062 -0.180490 -0.139446  0.148766  0.202410  0.230755  0.232328   \n3     -0.146425 -0.168291 -0.146339  0.157026  0.195126  0.228927  0.242972   \n4     -0.160054 -0.157333 -0.161731  0.150484  0.203887  0.249553  0.230837   \n...         ...       ...       ...       ...       ...       ...       ...   \n67195 -0.145345 -0.163477 -0.140925  0.158046  0.207639  0.221088  0.239371   \n67196 -0.153713 -0.154976 -0.158024  0.151720  0.217826  0.244407  0.228012   \n67197 -0.151803 -0.145768 -0.177265  0.166729  0.216136  0.233474  0.229400   \n67198 -0.135137 -0.139660 -0.203946  0.151003  0.216031  0.222765  0.203365   \n67199 -0.132609 -0.179700 -0.135305  0.132473  0.172812  0.218006  0.182959   \n\n            7         8         9    ...       758       759       760   \n0      0.366131 -0.134322 -0.346842  ...  0.190698 -0.239400  0.005970  \\\n1      0.374226 -0.132166 -0.335096  ...  0.175366 -0.232369  0.020902   \n2      0.392416 -0.130438 -0.341893  ...  0.175604 -0.239216  0.015016   \n3      0.391837 -0.138924 -0.351250  ...  0.177935 -0.235449 -0.001898   \n4      0.403514 -0.145254 -0.358722  ...  0.175128 -0.241010 -0.003096   \n...         ...       ...       ...  ...       ...       ...       ...   \n67195  0.389045 -0.141191 -0.352974  ...  0.186530 -0.236210 -0.001156   \n67196  0.397839 -0.143304 -0.364769  ...  0.184288 -0.241012 -0.001346   \n67197  0.428303 -0.161650 -0.365460  ...  0.192576 -0.252931 -0.024368   \n67198  0.431770 -0.155505 -0.390393  ...  0.199809 -0.272604 -0.034887   \n67199  0.359176 -0.135293 -0.346119  ...  0.190525 -0.235541 -0.000534   \n\n            761       762       763       764       765       766       767  \n0     -0.241648 -0.078778  0.144100 -0.042690 -0.123956  0.312236  0.423458  \n1     -0.236038 -0.056490  0.125194 -0.048702 -0.132431  0.321395  0.415944  \n2     -0.246387 -0.059534  0.113876 -0.048131 -0.144593  0.328849  0.411730  \n3     -0.247531 -0.055009  0.113963 -0.037188 -0.136177  0.339592  0.417105  \n4     -0.249168 -0.077995  0.097608 -0.042889 -0.116797  0.354836  0.403605  \n...         ...       ...       ...       ...       ...       ...       ...  \n67195 -0.242675 -0.067532  0.111500 -0.028072 -0.139119  0.328213  0.420918  \n67196 -0.245445 -0.089254  0.090774 -0.033711 -0.122339  0.347009  0.405053  \n67197 -0.236704 -0.098830  0.105328 -0.053929 -0.118514  0.356066  0.398116  \n67198 -0.243870 -0.107103  0.104958 -0.042936 -0.088606  0.359039  0.401996  \n67199 -0.249361 -0.069382  0.144243 -0.043754 -0.117230  0.305862  0.429125  \n\n[67200 rows x 768 columns]",
      "text/html": "<div>\n<style scoped>\n    .dataframe tbody tr th:only-of-type {\n        vertical-align: middle;\n    }\n\n    .dataframe tbody tr th {\n        vertical-align: top;\n    }\n\n    .dataframe thead th {\n        text-align: right;\n    }\n</style>\n<table border=\"1\" class=\"dataframe\">\n  <thead>\n    <tr style=\"text-align: right;\">\n      <th></th>\n      <th>0</th>\n      <th>1</th>\n      <th>2</th>\n      <th>3</th>\n      <th>4</th>\n      <th>5</th>\n      <th>6</th>\n      <th>7</th>\n      <th>8</th>\n      <th>9</th>\n      <th>...</th>\n      <th>758</th>\n      <th>759</th>\n      <th>760</th>\n      <th>761</th>\n      <th>762</th>\n      <th>763</th>\n      <th>764</th>\n      <th>765</th>\n      <th>766</th>\n      <th>767</th>\n    </tr>\n  </thead>\n  <tbody>\n    <tr>\n      <th>0</th>\n      <td>-0.148934</td>\n      <td>-0.180077</td>\n      <td>-0.134831</td>\n      <td>0.132853</td>\n      <td>0.188525</td>\n      <td>0.209104</td>\n      <td>0.182039</td>\n      <td>0.366131</td>\n      <td>-0.134322</td>\n      <td>-0.346842</td>\n      <td>...</td>\n      <td>0.190698</td>\n      <td>-0.239400</td>\n      <td>0.005970</td>\n      <td>-0.241648</td>\n      <td>-0.078778</td>\n      <td>0.144100</td>\n      <td>-0.042690</td>\n      <td>-0.123956</td>\n      <td>0.312236</td>\n      <td>0.423458</td>\n    </tr>\n    <tr>\n      <th>1</th>\n      <td>-0.154420</td>\n      <td>-0.182241</td>\n      <td>-0.125056</td>\n      <td>0.147510</td>\n      <td>0.202006</td>\n      <td>0.225790</td>\n      <td>0.221678</td>\n      <td>0.374226</td>\n      <td>-0.132166</td>\n      <td>-0.335096</td>\n      <td>...</td>\n      <td>0.175366</td>\n      <td>-0.232369</td>\n      <td>0.020902</td>\n      <td>-0.236038</td>\n      <td>-0.056490</td>\n      <td>0.125194</td>\n      <td>-0.048702</td>\n      <td>-0.132431</td>\n      <td>0.321395</td>\n      <td>0.415944</td>\n    </tr>\n    <tr>\n      <th>2</th>\n      <td>-0.135062</td>\n      <td>-0.180490</td>\n      <td>-0.139446</td>\n      <td>0.148766</td>\n      <td>0.202410</td>\n      <td>0.230755</td>\n      <td>0.232328</td>\n      <td>0.392416</td>\n      <td>-0.130438</td>\n      <td>-0.341893</td>\n      <td>...</td>\n      <td>0.175604</td>\n      <td>-0.239216</td>\n      <td>0.015016</td>\n      <td>-0.246387</td>\n      <td>-0.059534</td>\n      <td>0.113876</td>\n      <td>-0.048131</td>\n      <td>-0.144593</td>\n      <td>0.328849</td>\n      <td>0.411730</td>\n    </tr>\n    <tr>\n      <th>3</th>\n      <td>-0.146425</td>\n      <td>-0.168291</td>\n      <td>-0.146339</td>\n      <td>0.157026</td>\n      <td>0.195126</td>\n      <td>0.228927</td>\n      <td>0.242972</td>\n      <td>0.391837</td>\n      <td>-0.138924</td>\n      <td>-0.351250</td>\n      <td>...</td>\n      <td>0.177935</td>\n      <td>-0.235449</td>\n      <td>-0.001898</td>\n      <td>-0.247531</td>\n      <td>-0.055009</td>\n      <td>0.113963</td>\n      <td>-0.037188</td>\n      <td>-0.136177</td>\n      <td>0.339592</td>\n      <td>0.417105</td>\n    </tr>\n    <tr>\n      <th>4</th>\n      <td>-0.160054</td>\n      <td>-0.157333</td>\n      <td>-0.161731</td>\n      <td>0.150484</td>\n      <td>0.203887</td>\n      <td>0.249553</td>\n      <td>0.230837</td>\n      <td>0.403514</td>\n      <td>-0.145254</td>\n      <td>-0.358722</td>\n      <td>...</td>\n      <td>0.175128</td>\n      <td>-0.241010</td>\n      <td>-0.003096</td>\n      <td>-0.249168</td>\n      <td>-0.077995</td>\n      <td>0.097608</td>\n      <td>-0.042889</td>\n      <td>-0.116797</td>\n      <td>0.354836</td>\n      <td>0.403605</td>\n    </tr>\n    <tr>\n      <th>...</th>\n      <td>...</td>\n      <td>...</td>\n      <td>...</td>\n      <td>...</td>\n      <td>...</td>\n      <td>...</td>\n      <td>...</td>\n      <td>...</td>\n      <td>...</td>\n      <td>...</td>\n      <td>...</td>\n      <td>...</td>\n      <td>...</td>\n      <td>...</td>\n      <td>...</td>\n      <td>...</td>\n      <td>...</td>\n      <td>...</td>\n      <td>...</td>\n      <td>...</td>\n      <td>...</td>\n    </tr>\n    <tr>\n      <th>67195</th>\n      <td>-0.145345</td>\n      <td>-0.163477</td>\n      <td>-0.140925</td>\n      <td>0.158046</td>\n      <td>0.207639</td>\n      <td>0.221088</td>\n      <td>0.239371</td>\n      <td>0.389045</td>\n      <td>-0.141191</td>\n      <td>-0.352974</td>\n      <td>...</td>\n      <td>0.186530</td>\n      <td>-0.236210</td>\n      <td>-0.001156</td>\n      <td>-0.242675</td>\n      <td>-0.067532</td>\n      <td>0.111500</td>\n      <td>-0.028072</td>\n      <td>-0.139119</td>\n      <td>0.328213</td>\n      <td>0.420918</td>\n    </tr>\n    <tr>\n      <th>67196</th>\n      <td>-0.153713</td>\n      <td>-0.154976</td>\n      <td>-0.158024</td>\n      <td>0.151720</td>\n      <td>0.217826</td>\n      <td>0.244407</td>\n      <td>0.228012</td>\n      <td>0.397839</td>\n      <td>-0.143304</td>\n      <td>-0.364769</td>\n      <td>...</td>\n      <td>0.184288</td>\n      <td>-0.241012</td>\n      <td>-0.001346</td>\n      <td>-0.245445</td>\n      <td>-0.089254</td>\n      <td>0.090774</td>\n      <td>-0.033711</td>\n      <td>-0.122339</td>\n      <td>0.347009</td>\n      <td>0.405053</td>\n    </tr>\n    <tr>\n      <th>67197</th>\n      <td>-0.151803</td>\n      <td>-0.145768</td>\n      <td>-0.177265</td>\n      <td>0.166729</td>\n      <td>0.216136</td>\n      <td>0.233474</td>\n      <td>0.229400</td>\n      <td>0.428303</td>\n      <td>-0.161650</td>\n      <td>-0.365460</td>\n      <td>...</td>\n      <td>0.192576</td>\n      <td>-0.252931</td>\n      <td>-0.024368</td>\n      <td>-0.236704</td>\n      <td>-0.098830</td>\n      <td>0.105328</td>\n      <td>-0.053929</td>\n      <td>-0.118514</td>\n      <td>0.356066</td>\n      <td>0.398116</td>\n    </tr>\n    <tr>\n      <th>67198</th>\n      <td>-0.135137</td>\n      <td>-0.139660</td>\n      <td>-0.203946</td>\n      <td>0.151003</td>\n      <td>0.216031</td>\n      <td>0.222765</td>\n      <td>0.203365</td>\n      <td>0.431770</td>\n      <td>-0.155505</td>\n      <td>-0.390393</td>\n      <td>...</td>\n      <td>0.199809</td>\n      <td>-0.272604</td>\n      <td>-0.034887</td>\n      <td>-0.243870</td>\n      <td>-0.107103</td>\n      <td>0.104958</td>\n      <td>-0.042936</td>\n      <td>-0.088606</td>\n      <td>0.359039</td>\n      <td>0.401996</td>\n    </tr>\n    <tr>\n      <th>67199</th>\n      <td>-0.132609</td>\n      <td>-0.179700</td>\n      <td>-0.135305</td>\n      <td>0.132473</td>\n      <td>0.172812</td>\n      <td>0.218006</td>\n      <td>0.182959</td>\n      <td>0.359176</td>\n      <td>-0.135293</td>\n      <td>-0.346119</td>\n      <td>...</td>\n      <td>0.190525</td>\n      <td>-0.235541</td>\n      <td>-0.000534</td>\n      <td>-0.249361</td>\n      <td>-0.069382</td>\n      <td>0.144243</td>\n      <td>-0.043754</td>\n      <td>-0.117230</td>\n      <td>0.305862</td>\n      <td>0.429125</td>\n    </tr>\n  </tbody>\n</table>\n<p>67200 rows × 768 columns</p>\n</div>"
     },
     "execution_count": 15,
     "metadata": {},
     "output_type": "execute_result"
    }
   ],
   "source": [
    "features = pd.DataFrame(dat['hidden_state'])\n",
    "features"
   ]
  },
  {
   "cell_type": "code",
   "execution_count": 16,
   "id": "e8f0c509",
   "metadata": {
    "colab": {
     "background_save": true,
     "base_uri": "https://localhost:8080/"
    },
    "id": "KfPjLRucAfi8",
    "ExecuteTime": {
     "end_time": "2023-11-17T17:24:34.521981Z",
     "start_time": "2023-11-17T17:24:32.811623Z"
    }
   },
   "outputs": [
    {
     "data": {
      "text/plain": "'Train size: 53760, test size: 13440'"
     },
     "execution_count": 16,
     "metadata": {},
     "output_type": "execute_result"
    }
   ],
   "source": [
    "# Initializing logistic regression \n",
    "clf = LogisticRegressionCV()\n",
    "\n",
    "# Splitting the data into train and test sets\n",
    "X_train, X_test, y_train, y_test = train_test_split(features, dat['choice'], test_size=.2, random_state=42)\n",
    "f'Train size: {len(X_train)}, test size: {len(X_test)}'"
   ]
  },
  {
   "cell_type": "code",
   "execution_count": 19,
   "id": "5d903aea",
   "metadata": {
    "id": "NkfzEVef_HsK",
    "ExecuteTime": {
     "end_time": "2023-11-17T17:26:07.918696Z",
     "start_time": "2023-11-17T17:24:45.447235Z"
    }
   },
   "outputs": [
    {
     "name": "stderr",
     "output_type": "stream",
     "text": [
      "/Users/zhussain/opt/anaconda3/envs/LLM4BeSci/lib/python3.8/site-packages/sklearn/linear_model/_logistic.py:458: ConvergenceWarning: lbfgs failed to converge (status=1):\n",
      "STOP: TOTAL NO. of ITERATIONS REACHED LIMIT.\n",
      "\n",
      "Increase the number of iterations (max_iter) or scale the data as shown in:\n",
      "    https://scikit-learn.org/stable/modules/preprocessing.html\n",
      "Please also refer to the documentation for alternative solver options:\n",
      "    https://scikit-learn.org/stable/modules/linear_model.html#logistic-regression\n",
      "  n_iter_i = _check_optimize_result(\n",
      "/Users/zhussain/opt/anaconda3/envs/LLM4BeSci/lib/python3.8/site-packages/sklearn/linear_model/_logistic.py:458: ConvergenceWarning: lbfgs failed to converge (status=1):\n",
      "STOP: TOTAL NO. of ITERATIONS REACHED LIMIT.\n",
      "\n",
      "Increase the number of iterations (max_iter) or scale the data as shown in:\n",
      "    https://scikit-learn.org/stable/modules/preprocessing.html\n",
      "Please also refer to the documentation for alternative solver options:\n",
      "    https://scikit-learn.org/stable/modules/linear_model.html#logistic-regression\n",
      "  n_iter_i = _check_optimize_result(\n",
      "/Users/zhussain/opt/anaconda3/envs/LLM4BeSci/lib/python3.8/site-packages/sklearn/linear_model/_logistic.py:458: ConvergenceWarning: lbfgs failed to converge (status=1):\n",
      "STOP: TOTAL NO. of ITERATIONS REACHED LIMIT.\n",
      "\n",
      "Increase the number of iterations (max_iter) or scale the data as shown in:\n",
      "    https://scikit-learn.org/stable/modules/preprocessing.html\n",
      "Please also refer to the documentation for alternative solver options:\n",
      "    https://scikit-learn.org/stable/modules/linear_model.html#logistic-regression\n",
      "  n_iter_i = _check_optimize_result(\n",
      "/Users/zhussain/opt/anaconda3/envs/LLM4BeSci/lib/python3.8/site-packages/sklearn/linear_model/_logistic.py:458: ConvergenceWarning: lbfgs failed to converge (status=1):\n",
      "STOP: TOTAL NO. of ITERATIONS REACHED LIMIT.\n",
      "\n",
      "Increase the number of iterations (max_iter) or scale the data as shown in:\n",
      "    https://scikit-learn.org/stable/modules/preprocessing.html\n",
      "Please also refer to the documentation for alternative solver options:\n",
      "    https://scikit-learn.org/stable/modules/linear_model.html#logistic-regression\n",
      "  n_iter_i = _check_optimize_result(\n",
      "/Users/zhussain/opt/anaconda3/envs/LLM4BeSci/lib/python3.8/site-packages/sklearn/linear_model/_logistic.py:458: ConvergenceWarning: lbfgs failed to converge (status=1):\n",
      "STOP: TOTAL NO. of ITERATIONS REACHED LIMIT.\n",
      "\n",
      "Increase the number of iterations (max_iter) or scale the data as shown in:\n",
      "    https://scikit-learn.org/stable/modules/preprocessing.html\n",
      "Please also refer to the documentation for alternative solver options:\n",
      "    https://scikit-learn.org/stable/modules/linear_model.html#logistic-regression\n",
      "  n_iter_i = _check_optimize_result(\n",
      "/Users/zhussain/opt/anaconda3/envs/LLM4BeSci/lib/python3.8/site-packages/sklearn/linear_model/_logistic.py:458: ConvergenceWarning: lbfgs failed to converge (status=1):\n",
      "STOP: TOTAL NO. of ITERATIONS REACHED LIMIT.\n",
      "\n",
      "Increase the number of iterations (max_iter) or scale the data as shown in:\n",
      "    https://scikit-learn.org/stable/modules/preprocessing.html\n",
      "Please also refer to the documentation for alternative solver options:\n",
      "    https://scikit-learn.org/stable/modules/linear_model.html#logistic-regression\n",
      "  n_iter_i = _check_optimize_result(\n"
     ]
    },
    {
     "data": {
      "text/plain": "'Test R2 = 0.79'"
     },
     "execution_count": 19,
     "metadata": {},
     "output_type": "execute_result"
    }
   ],
   "source": [
    "# Scaling the data\n",
    "scaler = StandardScaler()\n",
    "scaler.fit(X_train)\n",
    "X_train = scaler.transform(X_train)\n",
    "X_test = scaler.transform(X_test)\n",
    "\n",
    "# Fitting the model and evaluating performance\n",
    "clf.fit(X_train, y_train)\n",
    "f'Test R2 = {clf.score(X_test, y_test).round(2)}'"
   ]
  },
  {
   "cell_type": "code",
   "execution_count": null,
   "id": "c1a678c0",
   "metadata": {},
   "outputs": [],
   "source": []
  }
 ],
 "metadata": {
  "colab": {
   "name": "",
   "version": ""
  },
  "kernelspec": {
   "display_name": "Python 3 (ipykernel)",
   "language": "python",
   "name": "python3"
  },
  "language_info": {
   "codemirror_mode": {
    "name": "ipython",
    "version": 3
   },
   "file_extension": ".py",
   "mimetype": "text/x-python",
   "name": "python",
   "nbconvert_exporter": "python",
   "pygments_lexer": "ipython3",
   "version": "3.10.9"
  },
  "widgets": {
   "application/vnd.jupyter.widget-state+json": {
    "08960dba6f4848db96ff152ba3b2bcfc": {
     "model_module": "@jupyter-widgets/controls",
     "model_module_version": "1.5.0",
     "model_name": "DescriptionStyleModel",
     "state": {
      "_model_module": "@jupyter-widgets/controls",
      "_model_module_version": "1.5.0",
      "_model_name": "DescriptionStyleModel",
      "_view_count": null,
      "_view_module": "@jupyter-widgets/base",
      "_view_module_version": "1.2.0",
      "_view_name": "StyleView",
      "description_width": ""
     }
    },
    "1a2bc7f04bab4787827eaea6b40110fc": {
     "model_module": "@jupyter-widgets/controls",
     "model_module_version": "1.5.0",
     "model_name": "ProgressStyleModel",
     "state": {
      "_model_module": "@jupyter-widgets/controls",
      "_model_module_version": "1.5.0",
      "_model_name": "ProgressStyleModel",
      "_view_count": null,
      "_view_module": "@jupyter-widgets/base",
      "_view_module_version": "1.2.0",
      "_view_name": "StyleView",
      "bar_color": null,
      "description_width": ""
     }
    },
    "20e9b75cb09440a0b34e1674786db8f1": {
     "model_module": "@jupyter-widgets/base",
     "model_module_version": "1.2.0",
     "model_name": "LayoutModel",
     "state": {
      "_model_module": "@jupyter-widgets/base",
      "_model_module_version": "1.2.0",
      "_model_name": "LayoutModel",
      "_view_count": null,
      "_view_module": "@jupyter-widgets/base",
      "_view_module_version": "1.2.0",
      "_view_name": "LayoutView",
      "align_content": null,
      "align_items": null,
      "align_self": null,
      "border": null,
      "bottom": null,
      "display": null,
      "flex": null,
      "flex_flow": null,
      "grid_area": null,
      "grid_auto_columns": null,
      "grid_auto_flow": null,
      "grid_auto_rows": null,
      "grid_column": null,
      "grid_gap": null,
      "grid_row": null,
      "grid_template_areas": null,
      "grid_template_columns": null,
      "grid_template_rows": null,
      "height": null,
      "justify_content": null,
      "justify_items": null,
      "left": null,
      "margin": null,
      "max_height": null,
      "max_width": null,
      "min_height": null,
      "min_width": null,
      "object_fit": null,
      "object_position": null,
      "order": null,
      "overflow": null,
      "overflow_x": null,
      "overflow_y": null,
      "padding": null,
      "right": null,
      "top": null,
      "visibility": null,
      "width": null
     }
    },
    "2156bc47c6e5454398ca49c53449c721": {
     "model_module": "@jupyter-widgets/controls",
     "model_module_version": "1.5.0",
     "model_name": "DescriptionStyleModel",
     "state": {
      "_model_module": "@jupyter-widgets/controls",
      "_model_module_version": "1.5.0",
      "_model_name": "DescriptionStyleModel",
      "_view_count": null,
      "_view_module": "@jupyter-widgets/base",
      "_view_module_version": "1.2.0",
      "_view_name": "StyleView",
      "description_width": ""
     }
    },
    "216000f06bfe48f29344a0747e7aabdc": {
     "model_module": "@jupyter-widgets/controls",
     "model_module_version": "1.5.0",
     "model_name": "HTMLModel",
     "state": {
      "_dom_classes": [],
      "_model_module": "@jupyter-widgets/controls",
      "_model_module_version": "1.5.0",
      "_model_name": "HTMLModel",
      "_view_count": null,
      "_view_module": "@jupyter-widgets/controls",
      "_view_module_version": "1.5.0",
      "_view_name": "HTMLView",
      "description": "",
      "description_tooltip": null,
      "layout": "IPY_MODEL_2e44a357c51946de9116925f6dcc7998",
      "placeholder": "​",
      "style": "IPY_MODEL_cfd64b761ac0478587441d22b73c8be1",
      "value": "Downloading (…)lve/main/config.json: 100%"
     }
    },
    "25d6ffe8da364bccbc39be73a9c6a0d7": {
     "model_module": "@jupyter-widgets/base",
     "model_module_version": "1.2.0",
     "model_name": "LayoutModel",
     "state": {
      "_model_module": "@jupyter-widgets/base",
      "_model_module_version": "1.2.0",
      "_model_name": "LayoutModel",
      "_view_count": null,
      "_view_module": "@jupyter-widgets/base",
      "_view_module_version": "1.2.0",
      "_view_name": "LayoutView",
      "align_content": null,
      "align_items": null,
      "align_self": null,
      "border": null,
      "bottom": null,
      "display": null,
      "flex": null,
      "flex_flow": null,
      "grid_area": null,
      "grid_auto_columns": null,
      "grid_auto_flow": null,
      "grid_auto_rows": null,
      "grid_column": null,
      "grid_gap": null,
      "grid_row": null,
      "grid_template_areas": null,
      "grid_template_columns": null,
      "grid_template_rows": null,
      "height": null,
      "justify_content": null,
      "justify_items": null,
      "left": null,
      "margin": null,
      "max_height": null,
      "max_width": null,
      "min_height": null,
      "min_width": null,
      "object_fit": null,
      "object_position": null,
      "order": null,
      "overflow": null,
      "overflow_x": null,
      "overflow_y": null,
      "padding": null,
      "right": null,
      "top": null,
      "visibility": null,
      "width": null
     }
    },
    "26e75b2652e1406ea4e635548c286a6e": {
     "model_module": "@jupyter-widgets/controls",
     "model_module_version": "1.5.0",
     "model_name": "FloatProgressModel",
     "state": {
      "_dom_classes": [],
      "_model_module": "@jupyter-widgets/controls",
      "_model_module_version": "1.5.0",
      "_model_name": "FloatProgressModel",
      "_view_count": null,
      "_view_module": "@jupyter-widgets/controls",
      "_view_module_version": "1.5.0",
      "_view_name": "ProgressView",
      "bar_style": "success",
      "description": "",
      "description_tooltip": null,
      "layout": "IPY_MODEL_e33b8e1c4c5748af838692c4060ed01c",
      "max": 67200,
      "min": 0,
      "orientation": "horizontal",
      "style": "IPY_MODEL_ff5bf9ca1b3548329790523a380b3634",
      "value": 67200
     }
    },
    "28dcd1ddaf9d4793b0ef4adf7af4e178": {
     "model_module": "@jupyter-widgets/controls",
     "model_module_version": "1.5.0",
     "model_name": "HTMLModel",
     "state": {
      "_dom_classes": [],
      "_model_module": "@jupyter-widgets/controls",
      "_model_module_version": "1.5.0",
      "_model_name": "HTMLModel",
      "_view_count": null,
      "_view_module": "@jupyter-widgets/controls",
      "_view_module_version": "1.5.0",
      "_view_name": "HTMLView",
      "description": "",
      "description_tooltip": null,
      "layout": "IPY_MODEL_e94ac99ba9754bc1990d77d3a2b064db",
      "placeholder": "​",
      "style": "IPY_MODEL_2156bc47c6e5454398ca49c53449c721",
      "value": "Map: 100%"
     }
    },
    "2d1c9f97737d428382e85c514641e088": {
     "model_module": "@jupyter-widgets/controls",
     "model_module_version": "1.5.0",
     "model_name": "FloatProgressModel",
     "state": {
      "_dom_classes": [],
      "_model_module": "@jupyter-widgets/controls",
      "_model_module_version": "1.5.0",
      "_model_name": "FloatProgressModel",
      "_view_count": null,
      "_view_module": "@jupyter-widgets/controls",
      "_view_module_version": "1.5.0",
      "_view_name": "ProgressView",
      "bar_style": "success",
      "description": "",
      "description_tooltip": null,
      "layout": "IPY_MODEL_53972ac9105b45debb939ffdff7bd070",
      "max": 67200,
      "min": 0,
      "orientation": "horizontal",
      "style": "IPY_MODEL_51b12dbe026543d8b58ffeb63017e5da",
      "value": 67200
     }
    },
    "2e2330f4e2aa48fcb2c61ca2777e9198": {
     "model_module": "@jupyter-widgets/controls",
     "model_module_version": "1.5.0",
     "model_name": "HTMLModel",
     "state": {
      "_dom_classes": [],
      "_model_module": "@jupyter-widgets/controls",
      "_model_module_version": "1.5.0",
      "_model_name": "HTMLModel",
      "_view_count": null,
      "_view_module": "@jupyter-widgets/controls",
      "_view_module_version": "1.5.0",
      "_view_name": "HTMLView",
      "description": "",
      "description_tooltip": null,
      "layout": "IPY_MODEL_9cef0dacc38947e6ade936eaa64a7f0d",
      "placeholder": "​",
      "style": "IPY_MODEL_7e6dc2c04eb9402fbd7dacd8213220c8",
      "value": " 28.0/28.0 [00:00&lt;00:00, 579B/s]"
     }
    },
    "2e44a357c51946de9116925f6dcc7998": {
     "model_module": "@jupyter-widgets/base",
     "model_module_version": "1.2.0",
     "model_name": "LayoutModel",
     "state": {
      "_model_module": "@jupyter-widgets/base",
      "_model_module_version": "1.2.0",
      "_model_name": "LayoutModel",
      "_view_count": null,
      "_view_module": "@jupyter-widgets/base",
      "_view_module_version": "1.2.0",
      "_view_name": "LayoutView",
      "align_content": null,
      "align_items": null,
      "align_self": null,
      "border": null,
      "bottom": null,
      "display": null,
      "flex": null,
      "flex_flow": null,
      "grid_area": null,
      "grid_auto_columns": null,
      "grid_auto_flow": null,
      "grid_auto_rows": null,
      "grid_column": null,
      "grid_gap": null,
      "grid_row": null,
      "grid_template_areas": null,
      "grid_template_columns": null,
      "grid_template_rows": null,
      "height": null,
      "justify_content": null,
      "justify_items": null,
      "left": null,
      "margin": null,
      "max_height": null,
      "max_width": null,
      "min_height": null,
      "min_width": null,
      "object_fit": null,
      "object_position": null,
      "order": null,
      "overflow": null,
      "overflow_x": null,
      "overflow_y": null,
      "padding": null,
      "right": null,
      "top": null,
      "visibility": null,
      "width": null
     }
    },
    "32e6017ea0cc4f87a9289ebf4937094e": {
     "model_module": "@jupyter-widgets/base",
     "model_module_version": "1.2.0",
     "model_name": "LayoutModel",
     "state": {
      "_model_module": "@jupyter-widgets/base",
      "_model_module_version": "1.2.0",
      "_model_name": "LayoutModel",
      "_view_count": null,
      "_view_module": "@jupyter-widgets/base",
      "_view_module_version": "1.2.0",
      "_view_name": "LayoutView",
      "align_content": null,
      "align_items": null,
      "align_self": null,
      "border": null,
      "bottom": null,
      "display": null,
      "flex": null,
      "flex_flow": null,
      "grid_area": null,
      "grid_auto_columns": null,
      "grid_auto_flow": null,
      "grid_auto_rows": null,
      "grid_column": null,
      "grid_gap": null,
      "grid_row": null,
      "grid_template_areas": null,
      "grid_template_columns": null,
      "grid_template_rows": null,
      "height": null,
      "justify_content": null,
      "justify_items": null,
      "left": null,
      "margin": null,
      "max_height": null,
      "max_width": null,
      "min_height": null,
      "min_width": null,
      "object_fit": null,
      "object_position": null,
      "order": null,
      "overflow": null,
      "overflow_x": null,
      "overflow_y": null,
      "padding": null,
      "right": null,
      "top": null,
      "visibility": null,
      "width": null
     }
    },
    "39fc915ecf794b9a870dae6d69dadfd3": {
     "model_module": "@jupyter-widgets/base",
     "model_module_version": "1.2.0",
     "model_name": "LayoutModel",
     "state": {
      "_model_module": "@jupyter-widgets/base",
      "_model_module_version": "1.2.0",
      "_model_name": "LayoutModel",
      "_view_count": null,
      "_view_module": "@jupyter-widgets/base",
      "_view_module_version": "1.2.0",
      "_view_name": "LayoutView",
      "align_content": null,
      "align_items": null,
      "align_self": null,
      "border": null,
      "bottom": null,
      "display": null,
      "flex": null,
      "flex_flow": null,
      "grid_area": null,
      "grid_auto_columns": null,
      "grid_auto_flow": null,
      "grid_auto_rows": null,
      "grid_column": null,
      "grid_gap": null,
      "grid_row": null,
      "grid_template_areas": null,
      "grid_template_columns": null,
      "grid_template_rows": null,
      "height": null,
      "justify_content": null,
      "justify_items": null,
      "left": null,
      "margin": null,
      "max_height": null,
      "max_width": null,
      "min_height": null,
      "min_width": null,
      "object_fit": null,
      "object_position": null,
      "order": null,
      "overflow": null,
      "overflow_x": null,
      "overflow_y": null,
      "padding": null,
      "right": null,
      "top": null,
      "visibility": null,
      "width": null
     }
    },
    "3ba45925605840059731d245be08c182": {
     "model_module": "@jupyter-widgets/base",
     "model_module_version": "1.2.0",
     "model_name": "LayoutModel",
     "state": {
      "_model_module": "@jupyter-widgets/base",
      "_model_module_version": "1.2.0",
      "_model_name": "LayoutModel",
      "_view_count": null,
      "_view_module": "@jupyter-widgets/base",
      "_view_module_version": "1.2.0",
      "_view_name": "LayoutView",
      "align_content": null,
      "align_items": null,
      "align_self": null,
      "border": null,
      "bottom": null,
      "display": null,
      "flex": null,
      "flex_flow": null,
      "grid_area": null,
      "grid_auto_columns": null,
      "grid_auto_flow": null,
      "grid_auto_rows": null,
      "grid_column": null,
      "grid_gap": null,
      "grid_row": null,
      "grid_template_areas": null,
      "grid_template_columns": null,
      "grid_template_rows": null,
      "height": null,
      "justify_content": null,
      "justify_items": null,
      "left": null,
      "margin": null,
      "max_height": null,
      "max_width": null,
      "min_height": null,
      "min_width": null,
      "object_fit": null,
      "object_position": null,
      "order": null,
      "overflow": null,
      "overflow_x": null,
      "overflow_y": null,
      "padding": null,
      "right": null,
      "top": null,
      "visibility": null,
      "width": null
     }
    },
    "3d1d65469ac943488a97a34c83005063": {
     "model_module": "@jupyter-widgets/controls",
     "model_module_version": "1.5.0",
     "model_name": "HBoxModel",
     "state": {
      "_dom_classes": [],
      "_model_module": "@jupyter-widgets/controls",
      "_model_module_version": "1.5.0",
      "_model_name": "HBoxModel",
      "_view_count": null,
      "_view_module": "@jupyter-widgets/controls",
      "_view_module_version": "1.5.0",
      "_view_name": "HBoxView",
      "box_style": "",
      "children": [
       "IPY_MODEL_fbbac2d44f3842c0bcbcf8902eb38cf4",
       "IPY_MODEL_26e75b2652e1406ea4e635548c286a6e",
       "IPY_MODEL_48976179a796472fa6284ee24eac674a"
      ],
      "layout": "IPY_MODEL_7a266b8d359a45bf8cf410a7df3c31f4"
     }
    },
    "3f9e2e577a624da294787beb6e678a71": {
     "model_module": "@jupyter-widgets/base",
     "model_module_version": "1.2.0",
     "model_name": "LayoutModel",
     "state": {
      "_model_module": "@jupyter-widgets/base",
      "_model_module_version": "1.2.0",
      "_model_name": "LayoutModel",
      "_view_count": null,
      "_view_module": "@jupyter-widgets/base",
      "_view_module_version": "1.2.0",
      "_view_name": "LayoutView",
      "align_content": null,
      "align_items": null,
      "align_self": null,
      "border": null,
      "bottom": null,
      "display": null,
      "flex": null,
      "flex_flow": null,
      "grid_area": null,
      "grid_auto_columns": null,
      "grid_auto_flow": null,
      "grid_auto_rows": null,
      "grid_column": null,
      "grid_gap": null,
      "grid_row": null,
      "grid_template_areas": null,
      "grid_template_columns": null,
      "grid_template_rows": null,
      "height": null,
      "justify_content": null,
      "justify_items": null,
      "left": null,
      "margin": null,
      "max_height": null,
      "max_width": null,
      "min_height": null,
      "min_width": null,
      "object_fit": null,
      "object_position": null,
      "order": null,
      "overflow": null,
      "overflow_x": null,
      "overflow_y": null,
      "padding": null,
      "right": null,
      "top": null,
      "visibility": null,
      "width": null
     }
    },
    "441102d4bcf84669ab86222a3e2c0c26": {
     "model_module": "@jupyter-widgets/controls",
     "model_module_version": "1.5.0",
     "model_name": "DescriptionStyleModel",
     "state": {
      "_model_module": "@jupyter-widgets/controls",
      "_model_module_version": "1.5.0",
      "_model_name": "DescriptionStyleModel",
      "_view_count": null,
      "_view_module": "@jupyter-widgets/base",
      "_view_module_version": "1.2.0",
      "_view_name": "StyleView",
      "description_width": ""
     }
    },
    "44218294ed8243e88365423d0e5825e2": {
     "model_module": "@jupyter-widgets/base",
     "model_module_version": "1.2.0",
     "model_name": "LayoutModel",
     "state": {
      "_model_module": "@jupyter-widgets/base",
      "_model_module_version": "1.2.0",
      "_model_name": "LayoutModel",
      "_view_count": null,
      "_view_module": "@jupyter-widgets/base",
      "_view_module_version": "1.2.0",
      "_view_name": "LayoutView",
      "align_content": null,
      "align_items": null,
      "align_self": null,
      "border": null,
      "bottom": null,
      "display": null,
      "flex": null,
      "flex_flow": null,
      "grid_area": null,
      "grid_auto_columns": null,
      "grid_auto_flow": null,
      "grid_auto_rows": null,
      "grid_column": null,
      "grid_gap": null,
      "grid_row": null,
      "grid_template_areas": null,
      "grid_template_columns": null,
      "grid_template_rows": null,
      "height": null,
      "justify_content": null,
      "justify_items": null,
      "left": null,
      "margin": null,
      "max_height": null,
      "max_width": null,
      "min_height": null,
      "min_width": null,
      "object_fit": null,
      "object_position": null,
      "order": null,
      "overflow": null,
      "overflow_x": null,
      "overflow_y": null,
      "padding": null,
      "right": null,
      "top": null,
      "visibility": null,
      "width": null
     }
    },
    "48976179a796472fa6284ee24eac674a": {
     "model_module": "@jupyter-widgets/controls",
     "model_module_version": "1.5.0",
     "model_name": "HTMLModel",
     "state": {
      "_dom_classes": [],
      "_model_module": "@jupyter-widgets/controls",
      "_model_module_version": "1.5.0",
      "_model_name": "HTMLModel",
      "_view_count": null,
      "_view_module": "@jupyter-widgets/controls",
      "_view_module_version": "1.5.0",
      "_view_name": "HTMLView",
      "description": "",
      "description_tooltip": null,
      "layout": "IPY_MODEL_25d6ffe8da364bccbc39be73a9c6a0d7",
      "placeholder": "​",
      "style": "IPY_MODEL_b1ba277977e44a87af5ceeb615aab87c",
      "value": " 67200/67200 [4:13:37&lt;00:00,  3.84 examples/s]"
     }
    },
    "4deef9edada94585b7f6ede0b2c8d265": {
     "model_module": "@jupyter-widgets/controls",
     "model_module_version": "1.5.0",
     "model_name": "HBoxModel",
     "state": {
      "_dom_classes": [],
      "_model_module": "@jupyter-widgets/controls",
      "_model_module_version": "1.5.0",
      "_model_name": "HBoxModel",
      "_view_count": null,
      "_view_module": "@jupyter-widgets/controls",
      "_view_module_version": "1.5.0",
      "_view_name": "HBoxView",
      "box_style": "",
      "children": [
       "IPY_MODEL_216000f06bfe48f29344a0747e7aabdc",
       "IPY_MODEL_c03e965061974cf1a506a093cc2562d0",
       "IPY_MODEL_f21f01f7725b43149f7b226db76da96b"
      ],
      "layout": "IPY_MODEL_7c3b2adbf82940bcadcbf40f51efce6f"
     }
    },
    "51835e8b53a942bea3fdd4353d850a2a": {
     "model_module": "@jupyter-widgets/base",
     "model_module_version": "1.2.0",
     "model_name": "LayoutModel",
     "state": {
      "_model_module": "@jupyter-widgets/base",
      "_model_module_version": "1.2.0",
      "_model_name": "LayoutModel",
      "_view_count": null,
      "_view_module": "@jupyter-widgets/base",
      "_view_module_version": "1.2.0",
      "_view_name": "LayoutView",
      "align_content": null,
      "align_items": null,
      "align_self": null,
      "border": null,
      "bottom": null,
      "display": null,
      "flex": null,
      "flex_flow": null,
      "grid_area": null,
      "grid_auto_columns": null,
      "grid_auto_flow": null,
      "grid_auto_rows": null,
      "grid_column": null,
      "grid_gap": null,
      "grid_row": null,
      "grid_template_areas": null,
      "grid_template_columns": null,
      "grid_template_rows": null,
      "height": null,
      "justify_content": null,
      "justify_items": null,
      "left": null,
      "margin": null,
      "max_height": null,
      "max_width": null,
      "min_height": null,
      "min_width": null,
      "object_fit": null,
      "object_position": null,
      "order": null,
      "overflow": null,
      "overflow_x": null,
      "overflow_y": null,
      "padding": null,
      "right": null,
      "top": null,
      "visibility": null,
      "width": null
     }
    },
    "51b12dbe026543d8b58ffeb63017e5da": {
     "model_module": "@jupyter-widgets/controls",
     "model_module_version": "1.5.0",
     "model_name": "ProgressStyleModel",
     "state": {
      "_model_module": "@jupyter-widgets/controls",
      "_model_module_version": "1.5.0",
      "_model_name": "ProgressStyleModel",
      "_view_count": null,
      "_view_module": "@jupyter-widgets/base",
      "_view_module_version": "1.2.0",
      "_view_name": "StyleView",
      "bar_color": null,
      "description_width": ""
     }
    },
    "53972ac9105b45debb939ffdff7bd070": {
     "model_module": "@jupyter-widgets/base",
     "model_module_version": "1.2.0",
     "model_name": "LayoutModel",
     "state": {
      "_model_module": "@jupyter-widgets/base",
      "_model_module_version": "1.2.0",
      "_model_name": "LayoutModel",
      "_view_count": null,
      "_view_module": "@jupyter-widgets/base",
      "_view_module_version": "1.2.0",
      "_view_name": "LayoutView",
      "align_content": null,
      "align_items": null,
      "align_self": null,
      "border": null,
      "bottom": null,
      "display": null,
      "flex": null,
      "flex_flow": null,
      "grid_area": null,
      "grid_auto_columns": null,
      "grid_auto_flow": null,
      "grid_auto_rows": null,
      "grid_column": null,
      "grid_gap": null,
      "grid_row": null,
      "grid_template_areas": null,
      "grid_template_columns": null,
      "grid_template_rows": null,
      "height": null,
      "justify_content": null,
      "justify_items": null,
      "left": null,
      "margin": null,
      "max_height": null,
      "max_width": null,
      "min_height": null,
      "min_width": null,
      "object_fit": null,
      "object_position": null,
      "order": null,
      "overflow": null,
      "overflow_x": null,
      "overflow_y": null,
      "padding": null,
      "right": null,
      "top": null,
      "visibility": null,
      "width": null
     }
    },
    "54dd0b85b79044ba9fdcab51ec5b29a2": {
     "model_module": "@jupyter-widgets/base",
     "model_module_version": "1.2.0",
     "model_name": "LayoutModel",
     "state": {
      "_model_module": "@jupyter-widgets/base",
      "_model_module_version": "1.2.0",
      "_model_name": "LayoutModel",
      "_view_count": null,
      "_view_module": "@jupyter-widgets/base",
      "_view_module_version": "1.2.0",
      "_view_name": "LayoutView",
      "align_content": null,
      "align_items": null,
      "align_self": null,
      "border": null,
      "bottom": null,
      "display": null,
      "flex": null,
      "flex_flow": null,
      "grid_area": null,
      "grid_auto_columns": null,
      "grid_auto_flow": null,
      "grid_auto_rows": null,
      "grid_column": null,
      "grid_gap": null,
      "grid_row": null,
      "grid_template_areas": null,
      "grid_template_columns": null,
      "grid_template_rows": null,
      "height": null,
      "justify_content": null,
      "justify_items": null,
      "left": null,
      "margin": null,
      "max_height": null,
      "max_width": null,
      "min_height": null,
      "min_width": null,
      "object_fit": null,
      "object_position": null,
      "order": null,
      "overflow": null,
      "overflow_x": null,
      "overflow_y": null,
      "padding": null,
      "right": null,
      "top": null,
      "visibility": null,
      "width": null
     }
    },
    "558add85bedb43ae85d1e598a4c73029": {
     "model_module": "@jupyter-widgets/controls",
     "model_module_version": "1.5.0",
     "model_name": "DescriptionStyleModel",
     "state": {
      "_model_module": "@jupyter-widgets/controls",
      "_model_module_version": "1.5.0",
      "_model_name": "DescriptionStyleModel",
      "_view_count": null,
      "_view_module": "@jupyter-widgets/base",
      "_view_module_version": "1.2.0",
      "_view_name": "StyleView",
      "description_width": ""
     }
    },
    "561129b05fc24e6d99f9a214f9f210fc": {
     "model_module": "@jupyter-widgets/controls",
     "model_module_version": "1.5.0",
     "model_name": "DescriptionStyleModel",
     "state": {
      "_model_module": "@jupyter-widgets/controls",
      "_model_module_version": "1.5.0",
      "_model_name": "DescriptionStyleModel",
      "_view_count": null,
      "_view_module": "@jupyter-widgets/base",
      "_view_module_version": "1.2.0",
      "_view_name": "StyleView",
      "description_width": ""
     }
    },
    "5cd81242f59c447e9e738e5d5c4545ce": {
     "model_module": "@jupyter-widgets/controls",
     "model_module_version": "1.5.0",
     "model_name": "DescriptionStyleModel",
     "state": {
      "_model_module": "@jupyter-widgets/controls",
      "_model_module_version": "1.5.0",
      "_model_name": "DescriptionStyleModel",
      "_view_count": null,
      "_view_module": "@jupyter-widgets/base",
      "_view_module_version": "1.2.0",
      "_view_name": "StyleView",
      "description_width": ""
     }
    },
    "5ed73440759f4f70b298df2923e125a4": {
     "model_module": "@jupyter-widgets/controls",
     "model_module_version": "1.5.0",
     "model_name": "ProgressStyleModel",
     "state": {
      "_model_module": "@jupyter-widgets/controls",
      "_model_module_version": "1.5.0",
      "_model_name": "ProgressStyleModel",
      "_view_count": null,
      "_view_module": "@jupyter-widgets/base",
      "_view_module_version": "1.2.0",
      "_view_name": "StyleView",
      "bar_color": null,
      "description_width": ""
     }
    },
    "602867f8d6c340458d7f2a8040e88d28": {
     "model_module": "@jupyter-widgets/controls",
     "model_module_version": "1.5.0",
     "model_name": "HBoxModel",
     "state": {
      "_dom_classes": [],
      "_model_module": "@jupyter-widgets/controls",
      "_model_module_version": "1.5.0",
      "_model_name": "HBoxModel",
      "_view_count": null,
      "_view_module": "@jupyter-widgets/controls",
      "_view_module_version": "1.5.0",
      "_view_name": "HBoxView",
      "box_style": "",
      "children": [
       "IPY_MODEL_bdfe108ad13b4733924366191e88e668",
       "IPY_MODEL_91ae5b93d7c44cbf94e0d3c99d174569",
       "IPY_MODEL_b549da7505524b7cbb28b5b344b60489"
      ],
      "layout": "IPY_MODEL_ddfaf1f6c5d74aa8840ac5bd2f3b7e19"
     }
    },
    "63a94c1fe1c9436fb41637ac5721f938": {
     "model_module": "@jupyter-widgets/controls",
     "model_module_version": "1.5.0",
     "model_name": "FloatProgressModel",
     "state": {
      "_dom_classes": [],
      "_model_module": "@jupyter-widgets/controls",
      "_model_module_version": "1.5.0",
      "_model_name": "FloatProgressModel",
      "_view_count": null,
      "_view_module": "@jupyter-widgets/controls",
      "_view_module_version": "1.5.0",
      "_view_name": "ProgressView",
      "bar_style": "success",
      "description": "",
      "description_tooltip": null,
      "layout": "IPY_MODEL_39fc915ecf794b9a870dae6d69dadfd3",
      "max": 28,
      "min": 0,
      "orientation": "horizontal",
      "style": "IPY_MODEL_a423c9ace32142b3944c51821c59a019",
      "value": 28
     }
    },
    "64adcb3c804440649ad882a9d96965ce": {
     "model_module": "@jupyter-widgets/base",
     "model_module_version": "1.2.0",
     "model_name": "LayoutModel",
     "state": {
      "_model_module": "@jupyter-widgets/base",
      "_model_module_version": "1.2.0",
      "_model_name": "LayoutModel",
      "_view_count": null,
      "_view_module": "@jupyter-widgets/base",
      "_view_module_version": "1.2.0",
      "_view_name": "LayoutView",
      "align_content": null,
      "align_items": null,
      "align_self": null,
      "border": null,
      "bottom": null,
      "display": null,
      "flex": null,
      "flex_flow": null,
      "grid_area": null,
      "grid_auto_columns": null,
      "grid_auto_flow": null,
      "grid_auto_rows": null,
      "grid_column": null,
      "grid_gap": null,
      "grid_row": null,
      "grid_template_areas": null,
      "grid_template_columns": null,
      "grid_template_rows": null,
      "height": null,
      "justify_content": null,
      "justify_items": null,
      "left": null,
      "margin": null,
      "max_height": null,
      "max_width": null,
      "min_height": null,
      "min_width": null,
      "object_fit": null,
      "object_position": null,
      "order": null,
      "overflow": null,
      "overflow_x": null,
      "overflow_y": null,
      "padding": null,
      "right": null,
      "top": null,
      "visibility": null,
      "width": null
     }
    },
    "64eebbfe23a74da69fa31ccf4c737ca1": {
     "model_module": "@jupyter-widgets/base",
     "model_module_version": "1.2.0",
     "model_name": "LayoutModel",
     "state": {
      "_model_module": "@jupyter-widgets/base",
      "_model_module_version": "1.2.0",
      "_model_name": "LayoutModel",
      "_view_count": null,
      "_view_module": "@jupyter-widgets/base",
      "_view_module_version": "1.2.0",
      "_view_name": "LayoutView",
      "align_content": null,
      "align_items": null,
      "align_self": null,
      "border": null,
      "bottom": null,
      "display": null,
      "flex": null,
      "flex_flow": null,
      "grid_area": null,
      "grid_auto_columns": null,
      "grid_auto_flow": null,
      "grid_auto_rows": null,
      "grid_column": null,
      "grid_gap": null,
      "grid_row": null,
      "grid_template_areas": null,
      "grid_template_columns": null,
      "grid_template_rows": null,
      "height": null,
      "justify_content": null,
      "justify_items": null,
      "left": null,
      "margin": null,
      "max_height": null,
      "max_width": null,
      "min_height": null,
      "min_width": null,
      "object_fit": null,
      "object_position": null,
      "order": null,
      "overflow": null,
      "overflow_x": null,
      "overflow_y": null,
      "padding": null,
      "right": null,
      "top": null,
      "visibility": null,
      "width": null
     }
    },
    "64fc8f926e61451781ad2b6ab3deec50": {
     "model_module": "@jupyter-widgets/base",
     "model_module_version": "1.2.0",
     "model_name": "LayoutModel",
     "state": {
      "_model_module": "@jupyter-widgets/base",
      "_model_module_version": "1.2.0",
      "_model_name": "LayoutModel",
      "_view_count": null,
      "_view_module": "@jupyter-widgets/base",
      "_view_module_version": "1.2.0",
      "_view_name": "LayoutView",
      "align_content": null,
      "align_items": null,
      "align_self": null,
      "border": null,
      "bottom": null,
      "display": null,
      "flex": null,
      "flex_flow": null,
      "grid_area": null,
      "grid_auto_columns": null,
      "grid_auto_flow": null,
      "grid_auto_rows": null,
      "grid_column": null,
      "grid_gap": null,
      "grid_row": null,
      "grid_template_areas": null,
      "grid_template_columns": null,
      "grid_template_rows": null,
      "height": null,
      "justify_content": null,
      "justify_items": null,
      "left": null,
      "margin": null,
      "max_height": null,
      "max_width": null,
      "min_height": null,
      "min_width": null,
      "object_fit": null,
      "object_position": null,
      "order": null,
      "overflow": null,
      "overflow_x": null,
      "overflow_y": null,
      "padding": null,
      "right": null,
      "top": null,
      "visibility": null,
      "width": null
     }
    },
    "69ce92daee8e43d09aa3cdc5e139f6f4": {
     "model_module": "@jupyter-widgets/controls",
     "model_module_version": "1.5.0",
     "model_name": "HTMLModel",
     "state": {
      "_dom_classes": [],
      "_model_module": "@jupyter-widgets/controls",
      "_model_module_version": "1.5.0",
      "_model_name": "HTMLModel",
      "_view_count": null,
      "_view_module": "@jupyter-widgets/controls",
      "_view_module_version": "1.5.0",
      "_view_name": "HTMLView",
      "description": "",
      "description_tooltip": null,
      "layout": "IPY_MODEL_32e6017ea0cc4f87a9289ebf4937094e",
      "placeholder": "​",
      "style": "IPY_MODEL_cf88855cb1d74d73a2874a6804e74a4d",
      "value": " 67200/67200 [00:39&lt;00:00, 1710.32 examples/s]"
     }
    },
    "6aeeae24c99f458eb14c64c8a46f6cf9": {
     "model_module": "@jupyter-widgets/controls",
     "model_module_version": "1.5.0",
     "model_name": "HBoxModel",
     "state": {
      "_dom_classes": [],
      "_model_module": "@jupyter-widgets/controls",
      "_model_module_version": "1.5.0",
      "_model_name": "HBoxModel",
      "_view_count": null,
      "_view_module": "@jupyter-widgets/controls",
      "_view_module_version": "1.5.0",
      "_view_name": "HBoxView",
      "box_style": "",
      "children": [
       "IPY_MODEL_28dcd1ddaf9d4793b0ef4adf7af4e178",
       "IPY_MODEL_2d1c9f97737d428382e85c514641e088",
       "IPY_MODEL_69ce92daee8e43d09aa3cdc5e139f6f4"
      ],
      "layout": "IPY_MODEL_64eebbfe23a74da69fa31ccf4c737ca1"
     }
    },
    "7a266b8d359a45bf8cf410a7df3c31f4": {
     "model_module": "@jupyter-widgets/base",
     "model_module_version": "1.2.0",
     "model_name": "LayoutModel",
     "state": {
      "_model_module": "@jupyter-widgets/base",
      "_model_module_version": "1.2.0",
      "_model_name": "LayoutModel",
      "_view_count": null,
      "_view_module": "@jupyter-widgets/base",
      "_view_module_version": "1.2.0",
      "_view_name": "LayoutView",
      "align_content": null,
      "align_items": null,
      "align_self": null,
      "border": null,
      "bottom": null,
      "display": null,
      "flex": null,
      "flex_flow": null,
      "grid_area": null,
      "grid_auto_columns": null,
      "grid_auto_flow": null,
      "grid_auto_rows": null,
      "grid_column": null,
      "grid_gap": null,
      "grid_row": null,
      "grid_template_areas": null,
      "grid_template_columns": null,
      "grid_template_rows": null,
      "height": null,
      "justify_content": null,
      "justify_items": null,
      "left": null,
      "margin": null,
      "max_height": null,
      "max_width": null,
      "min_height": null,
      "min_width": null,
      "object_fit": null,
      "object_position": null,
      "order": null,
      "overflow": null,
      "overflow_x": null,
      "overflow_y": null,
      "padding": null,
      "right": null,
      "top": null,
      "visibility": null,
      "width": null
     }
    },
    "7c3b2adbf82940bcadcbf40f51efce6f": {
     "model_module": "@jupyter-widgets/base",
     "model_module_version": "1.2.0",
     "model_name": "LayoutModel",
     "state": {
      "_model_module": "@jupyter-widgets/base",
      "_model_module_version": "1.2.0",
      "_model_name": "LayoutModel",
      "_view_count": null,
      "_view_module": "@jupyter-widgets/base",
      "_view_module_version": "1.2.0",
      "_view_name": "LayoutView",
      "align_content": null,
      "align_items": null,
      "align_self": null,
      "border": null,
      "bottom": null,
      "display": null,
      "flex": null,
      "flex_flow": null,
      "grid_area": null,
      "grid_auto_columns": null,
      "grid_auto_flow": null,
      "grid_auto_rows": null,
      "grid_column": null,
      "grid_gap": null,
      "grid_row": null,
      "grid_template_areas": null,
      "grid_template_columns": null,
      "grid_template_rows": null,
      "height": null,
      "justify_content": null,
      "justify_items": null,
      "left": null,
      "margin": null,
      "max_height": null,
      "max_width": null,
      "min_height": null,
      "min_width": null,
      "object_fit": null,
      "object_position": null,
      "order": null,
      "overflow": null,
      "overflow_x": null,
      "overflow_y": null,
      "padding": null,
      "right": null,
      "top": null,
      "visibility": null,
      "width": null
     }
    },
    "7cda7c71146b47caaf81b3d65437911c": {
     "model_module": "@jupyter-widgets/controls",
     "model_module_version": "1.5.0",
     "model_name": "HBoxModel",
     "state": {
      "_dom_classes": [],
      "_model_module": "@jupyter-widgets/controls",
      "_model_module_version": "1.5.0",
      "_model_name": "HBoxModel",
      "_view_count": null,
      "_view_module": "@jupyter-widgets/controls",
      "_view_module_version": "1.5.0",
      "_view_name": "HBoxView",
      "box_style": "",
      "children": [
       "IPY_MODEL_970e30a6ea0345ffb61391c3cf07c7ee",
       "IPY_MODEL_bcb978589e504c7ba5ef47e24a1d8efe",
       "IPY_MODEL_bbfbbce88c4e4325a2c3eb3ca52ab31d"
      ],
      "layout": "IPY_MODEL_64adcb3c804440649ad882a9d96965ce"
     }
    },
    "7e6dc2c04eb9402fbd7dacd8213220c8": {
     "model_module": "@jupyter-widgets/controls",
     "model_module_version": "1.5.0",
     "model_name": "DescriptionStyleModel",
     "state": {
      "_model_module": "@jupyter-widgets/controls",
      "_model_module_version": "1.5.0",
      "_model_name": "DescriptionStyleModel",
      "_view_count": null,
      "_view_module": "@jupyter-widgets/base",
      "_view_module_version": "1.2.0",
      "_view_name": "StyleView",
      "description_width": ""
     }
    },
    "8a22bd8c455c45ce91a3ec55333f114a": {
     "model_module": "@jupyter-widgets/controls",
     "model_module_version": "1.5.0",
     "model_name": "HBoxModel",
     "state": {
      "_dom_classes": [],
      "_model_module": "@jupyter-widgets/controls",
      "_model_module_version": "1.5.0",
      "_model_name": "HBoxModel",
      "_view_count": null,
      "_view_module": "@jupyter-widgets/controls",
      "_view_module_version": "1.5.0",
      "_view_name": "HBoxView",
      "box_style": "",
      "children": [
       "IPY_MODEL_eace829966924841b2af6bf8cc3cdea8",
       "IPY_MODEL_63a94c1fe1c9436fb41637ac5721f938",
       "IPY_MODEL_2e2330f4e2aa48fcb2c61ca2777e9198"
      ],
      "layout": "IPY_MODEL_3f9e2e577a624da294787beb6e678a71"
     }
    },
    "8e124eef9a1d47d093774c293b7823c4": {
     "model_module": "@jupyter-widgets/base",
     "model_module_version": "1.2.0",
     "model_name": "LayoutModel",
     "state": {
      "_model_module": "@jupyter-widgets/base",
      "_model_module_version": "1.2.0",
      "_model_name": "LayoutModel",
      "_view_count": null,
      "_view_module": "@jupyter-widgets/base",
      "_view_module_version": "1.2.0",
      "_view_name": "LayoutView",
      "align_content": null,
      "align_items": null,
      "align_self": null,
      "border": null,
      "bottom": null,
      "display": null,
      "flex": null,
      "flex_flow": null,
      "grid_area": null,
      "grid_auto_columns": null,
      "grid_auto_flow": null,
      "grid_auto_rows": null,
      "grid_column": null,
      "grid_gap": null,
      "grid_row": null,
      "grid_template_areas": null,
      "grid_template_columns": null,
      "grid_template_rows": null,
      "height": null,
      "justify_content": null,
      "justify_items": null,
      "left": null,
      "margin": null,
      "max_height": null,
      "max_width": null,
      "min_height": null,
      "min_width": null,
      "object_fit": null,
      "object_position": null,
      "order": null,
      "overflow": null,
      "overflow_x": null,
      "overflow_y": null,
      "padding": null,
      "right": null,
      "top": null,
      "visibility": null,
      "width": null
     }
    },
    "9047196d93344a708b6524a4ff70bbb3": {
     "model_module": "@jupyter-widgets/controls",
     "model_module_version": "1.5.0",
     "model_name": "DescriptionStyleModel",
     "state": {
      "_model_module": "@jupyter-widgets/controls",
      "_model_module_version": "1.5.0",
      "_model_name": "DescriptionStyleModel",
      "_view_count": null,
      "_view_module": "@jupyter-widgets/base",
      "_view_module_version": "1.2.0",
      "_view_name": "StyleView",
      "description_width": ""
     }
    },
    "91ae5b93d7c44cbf94e0d3c99d174569": {
     "model_module": "@jupyter-widgets/controls",
     "model_module_version": "1.5.0",
     "model_name": "FloatProgressModel",
     "state": {
      "_dom_classes": [],
      "_model_module": "@jupyter-widgets/controls",
      "_model_module_version": "1.5.0",
      "_model_name": "FloatProgressModel",
      "_view_count": null,
      "_view_module": "@jupyter-widgets/controls",
      "_view_module_version": "1.5.0",
      "_view_name": "ProgressView",
      "bar_style": "success",
      "description": "",
      "description_tooltip": null,
      "layout": "IPY_MODEL_20e9b75cb09440a0b34e1674786db8f1",
      "max": 267954768,
      "min": 0,
      "orientation": "horizontal",
      "style": "IPY_MODEL_9728c2ee072244869dc1f5cafa8191aa",
      "value": 267954768
     }
    },
    "970e30a6ea0345ffb61391c3cf07c7ee": {
     "model_module": "@jupyter-widgets/controls",
     "model_module_version": "1.5.0",
     "model_name": "HTMLModel",
     "state": {
      "_dom_classes": [],
      "_model_module": "@jupyter-widgets/controls",
      "_model_module_version": "1.5.0",
      "_model_name": "HTMLModel",
      "_view_count": null,
      "_view_module": "@jupyter-widgets/controls",
      "_view_module_version": "1.5.0",
      "_view_name": "HTMLView",
      "description": "",
      "description_tooltip": null,
      "layout": "IPY_MODEL_54dd0b85b79044ba9fdcab51ec5b29a2",
      "placeholder": "​",
      "style": "IPY_MODEL_fee6fdd4ed38469a87c488991655f1ee",
      "value": "Downloading (…)solve/main/vocab.txt: 100%"
     }
    },
    "9728c2ee072244869dc1f5cafa8191aa": {
     "model_module": "@jupyter-widgets/controls",
     "model_module_version": "1.5.0",
     "model_name": "ProgressStyleModel",
     "state": {
      "_model_module": "@jupyter-widgets/controls",
      "_model_module_version": "1.5.0",
      "_model_name": "ProgressStyleModel",
      "_view_count": null,
      "_view_module": "@jupyter-widgets/base",
      "_view_module_version": "1.2.0",
      "_view_name": "StyleView",
      "bar_color": null,
      "description_width": ""
     }
    },
    "9cef0dacc38947e6ade936eaa64a7f0d": {
     "model_module": "@jupyter-widgets/base",
     "model_module_version": "1.2.0",
     "model_name": "LayoutModel",
     "state": {
      "_model_module": "@jupyter-widgets/base",
      "_model_module_version": "1.2.0",
      "_model_name": "LayoutModel",
      "_view_count": null,
      "_view_module": "@jupyter-widgets/base",
      "_view_module_version": "1.2.0",
      "_view_name": "LayoutView",
      "align_content": null,
      "align_items": null,
      "align_self": null,
      "border": null,
      "bottom": null,
      "display": null,
      "flex": null,
      "flex_flow": null,
      "grid_area": null,
      "grid_auto_columns": null,
      "grid_auto_flow": null,
      "grid_auto_rows": null,
      "grid_column": null,
      "grid_gap": null,
      "grid_row": null,
      "grid_template_areas": null,
      "grid_template_columns": null,
      "grid_template_rows": null,
      "height": null,
      "justify_content": null,
      "justify_items": null,
      "left": null,
      "margin": null,
      "max_height": null,
      "max_width": null,
      "min_height": null,
      "min_width": null,
      "object_fit": null,
      "object_position": null,
      "order": null,
      "overflow": null,
      "overflow_x": null,
      "overflow_y": null,
      "padding": null,
      "right": null,
      "top": null,
      "visibility": null,
      "width": null
     }
    },
    "9ed0700419794190a2443143c419659b": {
     "model_module": "@jupyter-widgets/controls",
     "model_module_version": "1.5.0",
     "model_name": "FloatProgressModel",
     "state": {
      "_dom_classes": [],
      "_model_module": "@jupyter-widgets/controls",
      "_model_module_version": "1.5.0",
      "_model_name": "FloatProgressModel",
      "_view_count": null,
      "_view_module": "@jupyter-widgets/controls",
      "_view_module_version": "1.5.0",
      "_view_name": "ProgressView",
      "bar_style": "success",
      "description": "",
      "description_tooltip": null,
      "layout": "IPY_MODEL_ad3bd70214724dce8a59fe447233c00f",
      "max": 466062,
      "min": 0,
      "orientation": "horizontal",
      "style": "IPY_MODEL_bca2d9c95d5348dbac2e69f73af0f3a2",
      "value": 466062
     }
    },
    "a423c9ace32142b3944c51821c59a019": {
     "model_module": "@jupyter-widgets/controls",
     "model_module_version": "1.5.0",
     "model_name": "ProgressStyleModel",
     "state": {
      "_model_module": "@jupyter-widgets/controls",
      "_model_module_version": "1.5.0",
      "_model_name": "ProgressStyleModel",
      "_view_count": null,
      "_view_module": "@jupyter-widgets/base",
      "_view_module_version": "1.2.0",
      "_view_name": "StyleView",
      "bar_color": null,
      "description_width": ""
     }
    },
    "a4cf69d5b911472895fb1be915b95e45": {
     "model_module": "@jupyter-widgets/controls",
     "model_module_version": "1.5.0",
     "model_name": "HBoxModel",
     "state": {
      "_dom_classes": [],
      "_model_module": "@jupyter-widgets/controls",
      "_model_module_version": "1.5.0",
      "_model_name": "HBoxModel",
      "_view_count": null,
      "_view_module": "@jupyter-widgets/controls",
      "_view_module_version": "1.5.0",
      "_view_name": "HBoxView",
      "box_style": "",
      "children": [
       "IPY_MODEL_aad38f15dad945a6b7cd5c12313ec26d",
       "IPY_MODEL_9ed0700419794190a2443143c419659b",
       "IPY_MODEL_e5869008871745f5a782694f501b4dd5"
      ],
      "layout": "IPY_MODEL_51835e8b53a942bea3fdd4353d850a2a"
     }
    },
    "a700ff44e14540e2b1a5fee2670a3dd2": {
     "model_module": "@jupyter-widgets/base",
     "model_module_version": "1.2.0",
     "model_name": "LayoutModel",
     "state": {
      "_model_module": "@jupyter-widgets/base",
      "_model_module_version": "1.2.0",
      "_model_name": "LayoutModel",
      "_view_count": null,
      "_view_module": "@jupyter-widgets/base",
      "_view_module_version": "1.2.0",
      "_view_name": "LayoutView",
      "align_content": null,
      "align_items": null,
      "align_self": null,
      "border": null,
      "bottom": null,
      "display": null,
      "flex": null,
      "flex_flow": null,
      "grid_area": null,
      "grid_auto_columns": null,
      "grid_auto_flow": null,
      "grid_auto_rows": null,
      "grid_column": null,
      "grid_gap": null,
      "grid_row": null,
      "grid_template_areas": null,
      "grid_template_columns": null,
      "grid_template_rows": null,
      "height": null,
      "justify_content": null,
      "justify_items": null,
      "left": null,
      "margin": null,
      "max_height": null,
      "max_width": null,
      "min_height": null,
      "min_width": null,
      "object_fit": null,
      "object_position": null,
      "order": null,
      "overflow": null,
      "overflow_x": null,
      "overflow_y": null,
      "padding": null,
      "right": null,
      "top": null,
      "visibility": null,
      "width": null
     }
    },
    "aad38f15dad945a6b7cd5c12313ec26d": {
     "model_module": "@jupyter-widgets/controls",
     "model_module_version": "1.5.0",
     "model_name": "HTMLModel",
     "state": {
      "_dom_classes": [],
      "_model_module": "@jupyter-widgets/controls",
      "_model_module_version": "1.5.0",
      "_model_name": "HTMLModel",
      "_view_count": null,
      "_view_module": "@jupyter-widgets/controls",
      "_view_module_version": "1.5.0",
      "_view_name": "HTMLView",
      "description": "",
      "description_tooltip": null,
      "layout": "IPY_MODEL_a700ff44e14540e2b1a5fee2670a3dd2",
      "placeholder": "​",
      "style": "IPY_MODEL_de665800556b481794f717dd444d66e9",
      "value": "Downloading (…)/main/tokenizer.json: 100%"
     }
    },
    "ad3bd70214724dce8a59fe447233c00f": {
     "model_module": "@jupyter-widgets/base",
     "model_module_version": "1.2.0",
     "model_name": "LayoutModel",
     "state": {
      "_model_module": "@jupyter-widgets/base",
      "_model_module_version": "1.2.0",
      "_model_name": "LayoutModel",
      "_view_count": null,
      "_view_module": "@jupyter-widgets/base",
      "_view_module_version": "1.2.0",
      "_view_name": "LayoutView",
      "align_content": null,
      "align_items": null,
      "align_self": null,
      "border": null,
      "bottom": null,
      "display": null,
      "flex": null,
      "flex_flow": null,
      "grid_area": null,
      "grid_auto_columns": null,
      "grid_auto_flow": null,
      "grid_auto_rows": null,
      "grid_column": null,
      "grid_gap": null,
      "grid_row": null,
      "grid_template_areas": null,
      "grid_template_columns": null,
      "grid_template_rows": null,
      "height": null,
      "justify_content": null,
      "justify_items": null,
      "left": null,
      "margin": null,
      "max_height": null,
      "max_width": null,
      "min_height": null,
      "min_width": null,
      "object_fit": null,
      "object_position": null,
      "order": null,
      "overflow": null,
      "overflow_x": null,
      "overflow_y": null,
      "padding": null,
      "right": null,
      "top": null,
      "visibility": null,
      "width": null
     }
    },
    "b1ba277977e44a87af5ceeb615aab87c": {
     "model_module": "@jupyter-widgets/controls",
     "model_module_version": "1.5.0",
     "model_name": "DescriptionStyleModel",
     "state": {
      "_model_module": "@jupyter-widgets/controls",
      "_model_module_version": "1.5.0",
      "_model_name": "DescriptionStyleModel",
      "_view_count": null,
      "_view_module": "@jupyter-widgets/base",
      "_view_module_version": "1.2.0",
      "_view_name": "StyleView",
      "description_width": ""
     }
    },
    "b549da7505524b7cbb28b5b344b60489": {
     "model_module": "@jupyter-widgets/controls",
     "model_module_version": "1.5.0",
     "model_name": "HTMLModel",
     "state": {
      "_dom_classes": [],
      "_model_module": "@jupyter-widgets/controls",
      "_model_module_version": "1.5.0",
      "_model_name": "HTMLModel",
      "_view_count": null,
      "_view_module": "@jupyter-widgets/controls",
      "_view_module_version": "1.5.0",
      "_view_name": "HTMLView",
      "description": "",
      "description_tooltip": null,
      "layout": "IPY_MODEL_e7ed2062720946cc8ebbdf5fc7e92f3c",
      "placeholder": "​",
      "style": "IPY_MODEL_bab7ebb17a9e42f991ab9e24925fc9a9",
      "value": " 268M/268M [00:04&lt;00:00, 23.3MB/s]"
     }
    },
    "b825cbf45c1d4a74b645711a7d030c74": {
     "model_module": "@jupyter-widgets/base",
     "model_module_version": "1.2.0",
     "model_name": "LayoutModel",
     "state": {
      "_model_module": "@jupyter-widgets/base",
      "_model_module_version": "1.2.0",
      "_model_name": "LayoutModel",
      "_view_count": null,
      "_view_module": "@jupyter-widgets/base",
      "_view_module_version": "1.2.0",
      "_view_name": "LayoutView",
      "align_content": null,
      "align_items": null,
      "align_self": null,
      "border": null,
      "bottom": null,
      "display": null,
      "flex": null,
      "flex_flow": null,
      "grid_area": null,
      "grid_auto_columns": null,
      "grid_auto_flow": null,
      "grid_auto_rows": null,
      "grid_column": null,
      "grid_gap": null,
      "grid_row": null,
      "grid_template_areas": null,
      "grid_template_columns": null,
      "grid_template_rows": null,
      "height": null,
      "justify_content": null,
      "justify_items": null,
      "left": null,
      "margin": null,
      "max_height": null,
      "max_width": null,
      "min_height": null,
      "min_width": null,
      "object_fit": null,
      "object_position": null,
      "order": null,
      "overflow": null,
      "overflow_x": null,
      "overflow_y": null,
      "padding": null,
      "right": null,
      "top": null,
      "visibility": null,
      "width": null
     }
    },
    "bab7ebb17a9e42f991ab9e24925fc9a9": {
     "model_module": "@jupyter-widgets/controls",
     "model_module_version": "1.5.0",
     "model_name": "DescriptionStyleModel",
     "state": {
      "_model_module": "@jupyter-widgets/controls",
      "_model_module_version": "1.5.0",
      "_model_name": "DescriptionStyleModel",
      "_view_count": null,
      "_view_module": "@jupyter-widgets/base",
      "_view_module_version": "1.2.0",
      "_view_name": "StyleView",
      "description_width": ""
     }
    },
    "bab8394cf73f4e69837785c60a9329a1": {
     "model_module": "@jupyter-widgets/base",
     "model_module_version": "1.2.0",
     "model_name": "LayoutModel",
     "state": {
      "_model_module": "@jupyter-widgets/base",
      "_model_module_version": "1.2.0",
      "_model_name": "LayoutModel",
      "_view_count": null,
      "_view_module": "@jupyter-widgets/base",
      "_view_module_version": "1.2.0",
      "_view_name": "LayoutView",
      "align_content": null,
      "align_items": null,
      "align_self": null,
      "border": null,
      "bottom": null,
      "display": null,
      "flex": null,
      "flex_flow": null,
      "grid_area": null,
      "grid_auto_columns": null,
      "grid_auto_flow": null,
      "grid_auto_rows": null,
      "grid_column": null,
      "grid_gap": null,
      "grid_row": null,
      "grid_template_areas": null,
      "grid_template_columns": null,
      "grid_template_rows": null,
      "height": null,
      "justify_content": null,
      "justify_items": null,
      "left": null,
      "margin": null,
      "max_height": null,
      "max_width": null,
      "min_height": null,
      "min_width": null,
      "object_fit": null,
      "object_position": null,
      "order": null,
      "overflow": null,
      "overflow_x": null,
      "overflow_y": null,
      "padding": null,
      "right": null,
      "top": null,
      "visibility": null,
      "width": null
     }
    },
    "bbfbbce88c4e4325a2c3eb3ca52ab31d": {
     "model_module": "@jupyter-widgets/controls",
     "model_module_version": "1.5.0",
     "model_name": "HTMLModel",
     "state": {
      "_dom_classes": [],
      "_model_module": "@jupyter-widgets/controls",
      "_model_module_version": "1.5.0",
      "_model_name": "HTMLModel",
      "_view_count": null,
      "_view_module": "@jupyter-widgets/controls",
      "_view_module_version": "1.5.0",
      "_view_name": "HTMLView",
      "description": "",
      "description_tooltip": null,
      "layout": "IPY_MODEL_3ba45925605840059731d245be08c182",
      "placeholder": "​",
      "style": "IPY_MODEL_08960dba6f4848db96ff152ba3b2bcfc",
      "value": " 232k/232k [00:00&lt;00:00, 1.99MB/s]"
     }
    },
    "bca2d9c95d5348dbac2e69f73af0f3a2": {
     "model_module": "@jupyter-widgets/controls",
     "model_module_version": "1.5.0",
     "model_name": "ProgressStyleModel",
     "state": {
      "_model_module": "@jupyter-widgets/controls",
      "_model_module_version": "1.5.0",
      "_model_name": "ProgressStyleModel",
      "_view_count": null,
      "_view_module": "@jupyter-widgets/base",
      "_view_module_version": "1.2.0",
      "_view_name": "StyleView",
      "bar_color": null,
      "description_width": ""
     }
    },
    "bcb978589e504c7ba5ef47e24a1d8efe": {
     "model_module": "@jupyter-widgets/controls",
     "model_module_version": "1.5.0",
     "model_name": "FloatProgressModel",
     "state": {
      "_dom_classes": [],
      "_model_module": "@jupyter-widgets/controls",
      "_model_module_version": "1.5.0",
      "_model_name": "FloatProgressModel",
      "_view_count": null,
      "_view_module": "@jupyter-widgets/controls",
      "_view_module_version": "1.5.0",
      "_view_name": "ProgressView",
      "bar_style": "success",
      "description": "",
      "description_tooltip": null,
      "layout": "IPY_MODEL_8e124eef9a1d47d093774c293b7823c4",
      "max": 231508,
      "min": 0,
      "orientation": "horizontal",
      "style": "IPY_MODEL_5ed73440759f4f70b298df2923e125a4",
      "value": 231508
     }
    },
    "bdfe108ad13b4733924366191e88e668": {
     "model_module": "@jupyter-widgets/controls",
     "model_module_version": "1.5.0",
     "model_name": "HTMLModel",
     "state": {
      "_dom_classes": [],
      "_model_module": "@jupyter-widgets/controls",
      "_model_module_version": "1.5.0",
      "_model_name": "HTMLModel",
      "_view_count": null,
      "_view_module": "@jupyter-widgets/controls",
      "_view_module_version": "1.5.0",
      "_view_name": "HTMLView",
      "description": "",
      "description_tooltip": null,
      "layout": "IPY_MODEL_44218294ed8243e88365423d0e5825e2",
      "placeholder": "​",
      "style": "IPY_MODEL_9047196d93344a708b6524a4ff70bbb3",
      "value": "Downloading model.safetensors: 100%"
     }
    },
    "c03e965061974cf1a506a093cc2562d0": {
     "model_module": "@jupyter-widgets/controls",
     "model_module_version": "1.5.0",
     "model_name": "FloatProgressModel",
     "state": {
      "_dom_classes": [],
      "_model_module": "@jupyter-widgets/controls",
      "_model_module_version": "1.5.0",
      "_model_name": "FloatProgressModel",
      "_view_count": null,
      "_view_module": "@jupyter-widgets/controls",
      "_view_module_version": "1.5.0",
      "_view_name": "ProgressView",
      "bar_style": "success",
      "description": "",
      "description_tooltip": null,
      "layout": "IPY_MODEL_c276788c8197479fa596dcb6ad33a6a7",
      "max": 483,
      "min": 0,
      "orientation": "horizontal",
      "style": "IPY_MODEL_1a2bc7f04bab4787827eaea6b40110fc",
      "value": 483
     }
    },
    "c276788c8197479fa596dcb6ad33a6a7": {
     "model_module": "@jupyter-widgets/base",
     "model_module_version": "1.2.0",
     "model_name": "LayoutModel",
     "state": {
      "_model_module": "@jupyter-widgets/base",
      "_model_module_version": "1.2.0",
      "_model_name": "LayoutModel",
      "_view_count": null,
      "_view_module": "@jupyter-widgets/base",
      "_view_module_version": "1.2.0",
      "_view_name": "LayoutView",
      "align_content": null,
      "align_items": null,
      "align_self": null,
      "border": null,
      "bottom": null,
      "display": null,
      "flex": null,
      "flex_flow": null,
      "grid_area": null,
      "grid_auto_columns": null,
      "grid_auto_flow": null,
      "grid_auto_rows": null,
      "grid_column": null,
      "grid_gap": null,
      "grid_row": null,
      "grid_template_areas": null,
      "grid_template_columns": null,
      "grid_template_rows": null,
      "height": null,
      "justify_content": null,
      "justify_items": null,
      "left": null,
      "margin": null,
      "max_height": null,
      "max_width": null,
      "min_height": null,
      "min_width": null,
      "object_fit": null,
      "object_position": null,
      "order": null,
      "overflow": null,
      "overflow_x": null,
      "overflow_y": null,
      "padding": null,
      "right": null,
      "top": null,
      "visibility": null,
      "width": null
     }
    },
    "cf88855cb1d74d73a2874a6804e74a4d": {
     "model_module": "@jupyter-widgets/controls",
     "model_module_version": "1.5.0",
     "model_name": "DescriptionStyleModel",
     "state": {
      "_model_module": "@jupyter-widgets/controls",
      "_model_module_version": "1.5.0",
      "_model_name": "DescriptionStyleModel",
      "_view_count": null,
      "_view_module": "@jupyter-widgets/base",
      "_view_module_version": "1.2.0",
      "_view_name": "StyleView",
      "description_width": ""
     }
    },
    "cfd64b761ac0478587441d22b73c8be1": {
     "model_module": "@jupyter-widgets/controls",
     "model_module_version": "1.5.0",
     "model_name": "DescriptionStyleModel",
     "state": {
      "_model_module": "@jupyter-widgets/controls",
      "_model_module_version": "1.5.0",
      "_model_name": "DescriptionStyleModel",
      "_view_count": null,
      "_view_module": "@jupyter-widgets/base",
      "_view_module_version": "1.2.0",
      "_view_name": "StyleView",
      "description_width": ""
     }
    },
    "ddfaf1f6c5d74aa8840ac5bd2f3b7e19": {
     "model_module": "@jupyter-widgets/base",
     "model_module_version": "1.2.0",
     "model_name": "LayoutModel",
     "state": {
      "_model_module": "@jupyter-widgets/base",
      "_model_module_version": "1.2.0",
      "_model_name": "LayoutModel",
      "_view_count": null,
      "_view_module": "@jupyter-widgets/base",
      "_view_module_version": "1.2.0",
      "_view_name": "LayoutView",
      "align_content": null,
      "align_items": null,
      "align_self": null,
      "border": null,
      "bottom": null,
      "display": null,
      "flex": null,
      "flex_flow": null,
      "grid_area": null,
      "grid_auto_columns": null,
      "grid_auto_flow": null,
      "grid_auto_rows": null,
      "grid_column": null,
      "grid_gap": null,
      "grid_row": null,
      "grid_template_areas": null,
      "grid_template_columns": null,
      "grid_template_rows": null,
      "height": null,
      "justify_content": null,
      "justify_items": null,
      "left": null,
      "margin": null,
      "max_height": null,
      "max_width": null,
      "min_height": null,
      "min_width": null,
      "object_fit": null,
      "object_position": null,
      "order": null,
      "overflow": null,
      "overflow_x": null,
      "overflow_y": null,
      "padding": null,
      "right": null,
      "top": null,
      "visibility": null,
      "width": null
     }
    },
    "de665800556b481794f717dd444d66e9": {
     "model_module": "@jupyter-widgets/controls",
     "model_module_version": "1.5.0",
     "model_name": "DescriptionStyleModel",
     "state": {
      "_model_module": "@jupyter-widgets/controls",
      "_model_module_version": "1.5.0",
      "_model_name": "DescriptionStyleModel",
      "_view_count": null,
      "_view_module": "@jupyter-widgets/base",
      "_view_module_version": "1.2.0",
      "_view_name": "StyleView",
      "description_width": ""
     }
    },
    "e0e24664a5d44556beac8cd1b64718e5": {
     "model_module": "@jupyter-widgets/base",
     "model_module_version": "1.2.0",
     "model_name": "LayoutModel",
     "state": {
      "_model_module": "@jupyter-widgets/base",
      "_model_module_version": "1.2.0",
      "_model_name": "LayoutModel",
      "_view_count": null,
      "_view_module": "@jupyter-widgets/base",
      "_view_module_version": "1.2.0",
      "_view_name": "LayoutView",
      "align_content": null,
      "align_items": null,
      "align_self": null,
      "border": null,
      "bottom": null,
      "display": null,
      "flex": null,
      "flex_flow": null,
      "grid_area": null,
      "grid_auto_columns": null,
      "grid_auto_flow": null,
      "grid_auto_rows": null,
      "grid_column": null,
      "grid_gap": null,
      "grid_row": null,
      "grid_template_areas": null,
      "grid_template_columns": null,
      "grid_template_rows": null,
      "height": null,
      "justify_content": null,
      "justify_items": null,
      "left": null,
      "margin": null,
      "max_height": null,
      "max_width": null,
      "min_height": null,
      "min_width": null,
      "object_fit": null,
      "object_position": null,
      "order": null,
      "overflow": null,
      "overflow_x": null,
      "overflow_y": null,
      "padding": null,
      "right": null,
      "top": null,
      "visibility": null,
      "width": null
     }
    },
    "e33b8e1c4c5748af838692c4060ed01c": {
     "model_module": "@jupyter-widgets/base",
     "model_module_version": "1.2.0",
     "model_name": "LayoutModel",
     "state": {
      "_model_module": "@jupyter-widgets/base",
      "_model_module_version": "1.2.0",
      "_model_name": "LayoutModel",
      "_view_count": null,
      "_view_module": "@jupyter-widgets/base",
      "_view_module_version": "1.2.0",
      "_view_name": "LayoutView",
      "align_content": null,
      "align_items": null,
      "align_self": null,
      "border": null,
      "bottom": null,
      "display": null,
      "flex": null,
      "flex_flow": null,
      "grid_area": null,
      "grid_auto_columns": null,
      "grid_auto_flow": null,
      "grid_auto_rows": null,
      "grid_column": null,
      "grid_gap": null,
      "grid_row": null,
      "grid_template_areas": null,
      "grid_template_columns": null,
      "grid_template_rows": null,
      "height": null,
      "justify_content": null,
      "justify_items": null,
      "left": null,
      "margin": null,
      "max_height": null,
      "max_width": null,
      "min_height": null,
      "min_width": null,
      "object_fit": null,
      "object_position": null,
      "order": null,
      "overflow": null,
      "overflow_x": null,
      "overflow_y": null,
      "padding": null,
      "right": null,
      "top": null,
      "visibility": null,
      "width": null
     }
    },
    "e5869008871745f5a782694f501b4dd5": {
     "model_module": "@jupyter-widgets/controls",
     "model_module_version": "1.5.0",
     "model_name": "HTMLModel",
     "state": {
      "_dom_classes": [],
      "_model_module": "@jupyter-widgets/controls",
      "_model_module_version": "1.5.0",
      "_model_name": "HTMLModel",
      "_view_count": null,
      "_view_module": "@jupyter-widgets/controls",
      "_view_module_version": "1.5.0",
      "_view_name": "HTMLView",
      "description": "",
      "description_tooltip": null,
      "layout": "IPY_MODEL_64fc8f926e61451781ad2b6ab3deec50",
      "placeholder": "​",
      "style": "IPY_MODEL_441102d4bcf84669ab86222a3e2c0c26",
      "value": " 466k/466k [00:00&lt;00:00, 5.14MB/s]"
     }
    },
    "e7ed2062720946cc8ebbdf5fc7e92f3c": {
     "model_module": "@jupyter-widgets/base",
     "model_module_version": "1.2.0",
     "model_name": "LayoutModel",
     "state": {
      "_model_module": "@jupyter-widgets/base",
      "_model_module_version": "1.2.0",
      "_model_name": "LayoutModel",
      "_view_count": null,
      "_view_module": "@jupyter-widgets/base",
      "_view_module_version": "1.2.0",
      "_view_name": "LayoutView",
      "align_content": null,
      "align_items": null,
      "align_self": null,
      "border": null,
      "bottom": null,
      "display": null,
      "flex": null,
      "flex_flow": null,
      "grid_area": null,
      "grid_auto_columns": null,
      "grid_auto_flow": null,
      "grid_auto_rows": null,
      "grid_column": null,
      "grid_gap": null,
      "grid_row": null,
      "grid_template_areas": null,
      "grid_template_columns": null,
      "grid_template_rows": null,
      "height": null,
      "justify_content": null,
      "justify_items": null,
      "left": null,
      "margin": null,
      "max_height": null,
      "max_width": null,
      "min_height": null,
      "min_width": null,
      "object_fit": null,
      "object_position": null,
      "order": null,
      "overflow": null,
      "overflow_x": null,
      "overflow_y": null,
      "padding": null,
      "right": null,
      "top": null,
      "visibility": null,
      "width": null
     }
    },
    "e94ac99ba9754bc1990d77d3a2b064db": {
     "model_module": "@jupyter-widgets/base",
     "model_module_version": "1.2.0",
     "model_name": "LayoutModel",
     "state": {
      "_model_module": "@jupyter-widgets/base",
      "_model_module_version": "1.2.0",
      "_model_name": "LayoutModel",
      "_view_count": null,
      "_view_module": "@jupyter-widgets/base",
      "_view_module_version": "1.2.0",
      "_view_name": "LayoutView",
      "align_content": null,
      "align_items": null,
      "align_self": null,
      "border": null,
      "bottom": null,
      "display": null,
      "flex": null,
      "flex_flow": null,
      "grid_area": null,
      "grid_auto_columns": null,
      "grid_auto_flow": null,
      "grid_auto_rows": null,
      "grid_column": null,
      "grid_gap": null,
      "grid_row": null,
      "grid_template_areas": null,
      "grid_template_columns": null,
      "grid_template_rows": null,
      "height": null,
      "justify_content": null,
      "justify_items": null,
      "left": null,
      "margin": null,
      "max_height": null,
      "max_width": null,
      "min_height": null,
      "min_width": null,
      "object_fit": null,
      "object_position": null,
      "order": null,
      "overflow": null,
      "overflow_x": null,
      "overflow_y": null,
      "padding": null,
      "right": null,
      "top": null,
      "visibility": null,
      "width": null
     }
    },
    "eace829966924841b2af6bf8cc3cdea8": {
     "model_module": "@jupyter-widgets/controls",
     "model_module_version": "1.5.0",
     "model_name": "HTMLModel",
     "state": {
      "_dom_classes": [],
      "_model_module": "@jupyter-widgets/controls",
      "_model_module_version": "1.5.0",
      "_model_name": "HTMLModel",
      "_view_count": null,
      "_view_module": "@jupyter-widgets/controls",
      "_view_module_version": "1.5.0",
      "_view_name": "HTMLView",
      "description": "",
      "description_tooltip": null,
      "layout": "IPY_MODEL_bab8394cf73f4e69837785c60a9329a1",
      "placeholder": "​",
      "style": "IPY_MODEL_558add85bedb43ae85d1e598a4c73029",
      "value": "Downloading (…)okenizer_config.json: 100%"
     }
    },
    "f21f01f7725b43149f7b226db76da96b": {
     "model_module": "@jupyter-widgets/controls",
     "model_module_version": "1.5.0",
     "model_name": "HTMLModel",
     "state": {
      "_dom_classes": [],
      "_model_module": "@jupyter-widgets/controls",
      "_model_module_version": "1.5.0",
      "_model_name": "HTMLModel",
      "_view_count": null,
      "_view_module": "@jupyter-widgets/controls",
      "_view_module_version": "1.5.0",
      "_view_name": "HTMLView",
      "description": "",
      "description_tooltip": null,
      "layout": "IPY_MODEL_b825cbf45c1d4a74b645711a7d030c74",
      "placeholder": "​",
      "style": "IPY_MODEL_5cd81242f59c447e9e738e5d5c4545ce",
      "value": " 483/483 [00:00&lt;00:00, 9.39kB/s]"
     }
    },
    "fbbac2d44f3842c0bcbcf8902eb38cf4": {
     "model_module": "@jupyter-widgets/controls",
     "model_module_version": "1.5.0",
     "model_name": "HTMLModel",
     "state": {
      "_dom_classes": [],
      "_model_module": "@jupyter-widgets/controls",
      "_model_module_version": "1.5.0",
      "_model_name": "HTMLModel",
      "_view_count": null,
      "_view_module": "@jupyter-widgets/controls",
      "_view_module_version": "1.5.0",
      "_view_name": "HTMLView",
      "description": "",
      "description_tooltip": null,
      "layout": "IPY_MODEL_e0e24664a5d44556beac8cd1b64718e5",
      "placeholder": "​",
      "style": "IPY_MODEL_561129b05fc24e6d99f9a214f9f210fc",
      "value": "Map: 100%"
     }
    },
    "fee6fdd4ed38469a87c488991655f1ee": {
     "model_module": "@jupyter-widgets/controls",
     "model_module_version": "1.5.0",
     "model_name": "DescriptionStyleModel",
     "state": {
      "_model_module": "@jupyter-widgets/controls",
      "_model_module_version": "1.5.0",
      "_model_name": "DescriptionStyleModel",
      "_view_count": null,
      "_view_module": "@jupyter-widgets/base",
      "_view_module_version": "1.2.0",
      "_view_name": "StyleView",
      "description_width": ""
     }
    },
    "ff5bf9ca1b3548329790523a380b3634": {
     "model_module": "@jupyter-widgets/controls",
     "model_module_version": "1.5.0",
     "model_name": "ProgressStyleModel",
     "state": {
      "_model_module": "@jupyter-widgets/controls",
      "_model_module_version": "1.5.0",
      "_model_name": "ProgressStyleModel",
      "_view_count": null,
      "_view_module": "@jupyter-widgets/base",
      "_view_module_version": "1.2.0",
      "_view_name": "StyleView",
      "bar_color": null,
      "description_width": ""
     }
    }
   }
  }
 },
 "nbformat": 4,
 "nbformat_minor": 5
}
