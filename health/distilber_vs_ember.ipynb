{
 "cells": [
  {
   "cell_type": "code",
   "execution_count": 1,
   "id": "initial_id",
   "metadata": {
    "collapsed": true,
    "ExecuteTime": {
     "end_time": "2023-11-01T16:07:49.214702Z",
     "start_time": "2023-11-01T16:07:48.601518Z"
    }
   },
   "outputs": [],
   "source": [
    "import sys\n",
    "if 'google.colab' in sys.modules:  # If in Google Colab environment\n",
    "    # Installing requisite packages\n",
    "    !pip install datasets transformers evaluate\n",
    "    !pip install accelerate -U\n",
    "\n",
    "    # Mount google drive to enable access to data files\n",
    "    from google.colab import drive\n",
    "    drive.mount('/content/drive')\n",
    "\n",
    "    # Change working directory to ex1\n",
    "    %cd /content/drive/MyDrive/LLM4behavior_workshop/ex1"
   ]
  },
  {
   "cell_type": "markdown",
   "source": [
    "## Loading data"
   ],
   "metadata": {
    "collapsed": false
   },
   "id": "cb4890f97dc7024b"
  },
  {
   "cell_type": "code",
   "execution_count": 2,
   "outputs": [],
   "source": [
    "import pandas as pd\n",
    "import numpy as np\n",
    "from tqdm.notebook import tqdm\n",
    "from datasets import Dataset\n",
    "from transformers.pipelines.pt_utils import KeyDataset"
   ],
   "metadata": {
    "collapsed": false,
    "ExecuteTime": {
     "end_time": "2023-11-01T16:07:51.687140Z",
     "start_time": "2023-11-01T16:07:49.214909Z"
    }
   },
   "id": "b6156570185bfe5b"
  },
  {
   "cell_type": "code",
   "execution_count": 3,
   "outputs": [
    {
     "data": {
      "text/plain": "                                                  text     labels\n0    Broken leg. A broken leg (leg fracture) will b...  49.333333\n1    Bulimia. Bulimia is an eating disorder and men...  34.181818\n2    Hyperacusis. Hyperacusis is when everyday soun...  53.818182\n3    DVT. DVT (deep vein thrombosis) is a blood clo...  12.800000\n4    Ectopic pregnancy. An ectopic pregnancy is whe...  31.700000\n..                                                 ...        ...\n772  Typhoid fever. Typhoid fever is a bacterial in...  27.900000\n773  Ankylosing spondylitis. Ankylosing spondylitis...  30.800000\n774  Sleepwalking. Sleepwalking is when someone wal...  71.181818\n775  Fits. If you see someone having a seizure or f...  34.111111\n776  Diabetic retinopathy. Diabetic retinopathy is ...  42.636364\n\n[777 rows x 2 columns]",
      "text/html": "<div>\n<style scoped>\n    .dataframe tbody tr th:only-of-type {\n        vertical-align: middle;\n    }\n\n    .dataframe tbody tr th {\n        vertical-align: top;\n    }\n\n    .dataframe thead th {\n        text-align: right;\n    }\n</style>\n<table border=\"1\" class=\"dataframe\">\n  <thead>\n    <tr style=\"text-align: right;\">\n      <th></th>\n      <th>text</th>\n      <th>labels</th>\n    </tr>\n  </thead>\n  <tbody>\n    <tr>\n      <th>0</th>\n      <td>Broken leg. A broken leg (leg fracture) will b...</td>\n      <td>49.333333</td>\n    </tr>\n    <tr>\n      <th>1</th>\n      <td>Bulimia. Bulimia is an eating disorder and men...</td>\n      <td>34.181818</td>\n    </tr>\n    <tr>\n      <th>2</th>\n      <td>Hyperacusis. Hyperacusis is when everyday soun...</td>\n      <td>53.818182</td>\n    </tr>\n    <tr>\n      <th>3</th>\n      <td>DVT. DVT (deep vein thrombosis) is a blood clo...</td>\n      <td>12.800000</td>\n    </tr>\n    <tr>\n      <th>4</th>\n      <td>Ectopic pregnancy. An ectopic pregnancy is whe...</td>\n      <td>31.700000</td>\n    </tr>\n    <tr>\n      <th>...</th>\n      <td>...</td>\n      <td>...</td>\n    </tr>\n    <tr>\n      <th>772</th>\n      <td>Typhoid fever. Typhoid fever is a bacterial in...</td>\n      <td>27.900000</td>\n    </tr>\n    <tr>\n      <th>773</th>\n      <td>Ankylosing spondylitis. Ankylosing spondylitis...</td>\n      <td>30.800000</td>\n    </tr>\n    <tr>\n      <th>774</th>\n      <td>Sleepwalking. Sleepwalking is when someone wal...</td>\n      <td>71.181818</td>\n    </tr>\n    <tr>\n      <th>775</th>\n      <td>Fits. If you see someone having a seizure or f...</td>\n      <td>34.111111</td>\n    </tr>\n    <tr>\n      <th>776</th>\n      <td>Diabetic retinopathy. Diabetic retinopathy is ...</td>\n      <td>42.636364</td>\n    </tr>\n  </tbody>\n</table>\n<p>777 rows × 2 columns</p>\n</div>"
     },
     "execution_count": 3,
     "metadata": {},
     "output_type": "execute_result"
    }
   ],
   "source": [
    "# Reading in the .csv data\n",
    "dat = pd.read_csv('health.csv')\n",
    "dat "
   ],
   "metadata": {
    "collapsed": false,
    "ExecuteTime": {
     "end_time": "2023-11-01T16:07:51.713709Z",
     "start_time": "2023-11-01T16:07:51.689242Z"
    }
   },
   "id": "d8be9d3862d3afe6"
  },
  {
   "cell_type": "code",
   "execution_count": 4,
   "outputs": [
    {
     "data": {
      "text/plain": "Dataset({\n    features: ['text', 'labels'],\n    num_rows: 777\n})"
     },
     "execution_count": 4,
     "metadata": {},
     "output_type": "execute_result"
    }
   ],
   "source": [
    "# Converting to Dataset\n",
    "dat = Dataset.from_pandas(dat)\n",
    "dat"
   ],
   "metadata": {
    "collapsed": false,
    "ExecuteTime": {
     "end_time": "2023-11-01T16:07:51.733631Z",
     "start_time": "2023-11-01T16:07:51.713333Z"
    }
   },
   "id": "4c6acbf4f5ddb7f9"
  },
  {
   "cell_type": "markdown",
   "source": [
    "## Feature extraction"
   ],
   "metadata": {
    "collapsed": false
   },
   "id": "ed81f479e1955569"
  },
  {
   "cell_type": "code",
   "execution_count": 5,
   "outputs": [],
   "source": [
    "from transformers import pipeline, AutoModel\n",
    "import torch"
   ],
   "metadata": {
    "collapsed": false,
    "ExecuteTime": {
     "end_time": "2023-11-01T16:07:51.733829Z",
     "start_time": "2023-11-01T16:07:51.731467Z"
    }
   },
   "id": "22beb13aea79b347"
  },
  {
   "cell_type": "code",
   "execution_count": 6,
   "outputs": [
    {
     "data": {
      "text/plain": "device(type='mps')"
     },
     "execution_count": 6,
     "metadata": {},
     "output_type": "execute_result"
    }
   ],
   "source": [
    "# Loading the model and moving it to the GPU if available\n",
    "if torch.cuda.is_available():  # for nvidia GPUs\n",
    "    device = torch.device('cuda')\n",
    "elif torch.backends.mps.is_available(): # for Apple Metal Performance Sharder (mps) GPUs\n",
    "    device = torch.device('mps')\n",
    "else:\n",
    "    device = torch.device('cpu')\n",
    "\n",
    "device"
   ],
   "metadata": {
    "collapsed": false,
    "ExecuteTime": {
     "end_time": "2023-11-01T16:07:51.835334Z",
     "start_time": "2023-11-01T16:07:51.802429Z"
    }
   },
   "id": "a07fa64ebd69c4f5"
  },
  {
   "cell_type": "markdown",
   "source": [
    "At the time of writing, ember-v1 was top of the sequence classificaiotn leaderboard: https://huggingface.co/spaces/mteb/leaderboard"
   ],
   "metadata": {
    "collapsed": false
   },
   "id": "9dedd1d804459b46"
  },
  {
   "cell_type": "code",
   "execution_count": 7,
   "outputs": [
    {
     "data": {
      "text/plain": "Downloading (…)lve/main/config.json:   0%|          | 0.00/779 [00:00<?, ?B/s]",
      "application/vnd.jupyter.widget-view+json": {
       "version_major": 2,
       "version_minor": 0,
       "model_id": "534f6c6922ef425585b225b8841f4621"
      }
     },
     "metadata": {},
     "output_type": "display_data"
    },
    {
     "data": {
      "text/plain": "Downloading pytorch_model.bin:   0%|          | 0.00/1.34G [00:00<?, ?B/s]",
      "application/vnd.jupyter.widget-view+json": {
       "version_major": 2,
       "version_minor": 0,
       "model_id": "54b902513cdc4930aa648cfe611b8eb4"
      }
     },
     "metadata": {},
     "output_type": "display_data"
    },
    {
     "data": {
      "text/plain": "Downloading (…)okenizer_config.json:   0%|          | 0.00/366 [00:00<?, ?B/s]",
      "application/vnd.jupyter.widget-view+json": {
       "version_major": 2,
       "version_minor": 0,
       "model_id": "aad9606e4315410d901dc52262bb7183"
      }
     },
     "metadata": {},
     "output_type": "display_data"
    },
    {
     "data": {
      "text/plain": "Downloading (…)solve/main/vocab.txt:   0%|          | 0.00/232k [00:00<?, ?B/s]",
      "application/vnd.jupyter.widget-view+json": {
       "version_major": 2,
       "version_minor": 0,
       "model_id": "c93cb778d3db41ba83621ddf2f26dcbc"
      }
     },
     "metadata": {},
     "output_type": "display_data"
    },
    {
     "data": {
      "text/plain": "Downloading (…)/main/tokenizer.json:   0%|          | 0.00/711k [00:00<?, ?B/s]",
      "application/vnd.jupyter.widget-view+json": {
       "version_major": 2,
       "version_minor": 0,
       "model_id": "05d7635e34fc4d1a8d9f1d480ae1cf22"
      }
     },
     "metadata": {},
     "output_type": "display_data"
    },
    {
     "data": {
      "text/plain": "Downloading (…)cial_tokens_map.json:   0%|          | 0.00/125 [00:00<?, ?B/s]",
      "application/vnd.jupyter.widget-view+json": {
       "version_major": 2,
       "version_minor": 0,
       "model_id": "823146b98d9d46708d941ae3df7d2f5d"
      }
     },
     "metadata": {},
     "output_type": "display_data"
    },
    {
     "data": {
      "text/plain": "  0%|          | 0/777 [00:00<?, ?it/s]",
      "application/vnd.jupyter.widget-view+json": {
       "version_major": 2,
       "version_minor": 0,
       "model_id": "7229376a0189461aa953e2613a9f4c2f"
      }
     },
     "metadata": {},
     "output_type": "display_data"
    },
    {
     "data": {
      "text/plain": "array([[-0.11883016, -0.11123341, -0.68170434, ...,  0.19743468,\n         1.11416757, -0.60394442],\n       [-0.31924811, -0.2356416 , -0.30241686, ...,  0.17182577,\n         0.13373089, -0.57035291],\n       [-0.19498602,  0.17505479, -0.75454235, ...,  0.63974363,\n        -0.52506721, -0.73113501],\n       ...,\n       [-0.08038028,  0.95889133, -1.1842674 , ..., -0.0676008 ,\n         0.3046571 ,  0.35917634],\n       [ 0.38181365,  0.69372064, -0.52082735, ..., -0.23405853,\n         0.71887404, -0.7031908 ],\n       [-0.27080193, -0.24467331, -0.16714212, ..., -0.10383186,\n        -0.1933713 , -0.36040521]])"
     },
     "execution_count": 7,
     "metadata": {},
     "output_type": "execute_result"
    }
   ],
   "source": [
    "def extract_features(text: Dataset, model_ckpt: str):\n",
    "    \"\"\"Extracts features from text using a pretrained model.\"\"\"\n",
    "    pipe = pipeline(\n",
    "        'feature-extraction', model=model_ckpt, device=device,\n",
    "        tokenizer=model_ckpt, framework='pt', batch_size=16\n",
    "    )\n",
    "    pipe_iterator = pipe(\n",
    "        KeyDataset(text, 'text'), return_tensors='pt',\n",
    "        tokenize_kwargs= {'padding': True, 'truncation': True}\n",
    "    )\n",
    "    \n",
    "    features = []\n",
    "    for out in tqdm(pipe_iterator, total=len(text)):\n",
    "        # Extracting features for the first token (CLS token)\n",
    "        features.append(out[0, 0, :].numpy())\n",
    "\n",
    "    return np.array(features, dtype=float)\n",
    "\n",
    "\n",
    "ember_features = extract_features(dat, 'BAAI/bge-large-en-v1.5')\n",
    "ember_features"
   ],
   "metadata": {
    "collapsed": false,
    "ExecuteTime": {
     "end_time": "2023-11-01T16:08:49.412741Z",
     "start_time": "2023-11-01T16:07:51.807585Z"
    }
   },
   "id": "20529adf0bf23b7c"
  },
  {
   "cell_type": "markdown",
   "source": [
    "# Cross-validation"
   ],
   "metadata": {
    "collapsed": false
   },
   "id": "5f2849eb23286785"
  },
  {
   "cell_type": "code",
   "execution_count": 8,
   "outputs": [],
   "source": [
    "from sklearn.linear_model import RidgeCV\n",
    "from sklearn.ensemble import GradientBoostingRegressor\n",
    "from sklearn.model_selection import cross_val_score, cross_val_predict"
   ],
   "metadata": {
    "collapsed": false,
    "ExecuteTime": {
     "end_time": "2023-11-01T16:08:49.907449Z",
     "start_time": "2023-11-01T16:08:49.414095Z"
    }
   },
   "id": "1723b63bc44c8813"
  },
  {
   "cell_type": "code",
   "execution_count": 9,
   "outputs": [
    {
     "data": {
      "text/plain": "            0         1         2         3         4         5         6   \n0   -0.148475 -0.093959 -0.072606 -0.116719 -0.197698 -0.017892  0.583106  \\\n1   -0.188410 -0.126732 -0.108507 -0.293917 -0.218685  0.010479  0.353766   \n2   -0.171668 -0.050836 -0.194084 -0.312468 -0.174100 -0.011414  0.494835   \n3   -0.338618 -0.057856  0.033038 -0.357180 -0.202168  0.036766  0.324142   \n4   -0.098636 -0.401457 -0.182545 -0.179665  0.064003  0.001181  0.291596   \n..        ...       ...       ...       ...       ...       ...       ...   \n772 -0.062923 -0.015915 -0.222807 -0.208136 -0.150941 -0.284561  0.377012   \n773 -0.279977 -0.197014  0.098390 -0.303245 -0.296704  0.008300  0.288116   \n774 -0.073572 -0.369269  0.076614 -0.097476 -0.064454 -0.054622  0.647633   \n775 -0.181972 -0.083371  0.113803 -0.065226  0.033920 -0.130653  0.366495   \n776 -0.148871  0.094196  0.097353 -0.295030  0.079687  0.020537  0.388873   \n\n            7         8         9  ...       758       759       760   \n0    0.199220 -0.294927 -0.524650  ...  0.132813 -0.284638  0.341142  \\\n1    0.414596 -0.126797 -0.443795  ... -0.127295 -0.445322  0.027356   \n2    0.385607 -0.115327 -0.769145  ...  0.038155 -0.398147  0.033521   \n3    0.252396 -0.024016 -0.509216  ...  0.136020 -0.368171  0.198924   \n4    0.541527 -0.020205 -0.360373  ... -0.063380 -0.327838  0.088122   \n..        ...       ...       ...  ...       ...       ...       ...   \n772  0.315895 -0.106533 -0.588245  ...  0.030073 -0.439836  0.044907   \n773  0.194376 -0.128856 -0.353388  ... -0.026887 -0.458937  0.206063   \n774  0.325533 -0.363346 -0.434460  ... -0.008730 -0.349660  0.011828   \n775  0.114534 -0.174858 -0.477767  ... -0.016639 -0.359916  0.018970   \n776  0.140645 -0.075444 -0.502733  ... -0.127892 -0.346318 -0.005479   \n\n          761       762       763       764       765       766       767  \n0   -0.053502  0.222674  0.264824 -0.127856  0.016527 -0.165402  0.297364  \n1   -0.416753 -0.055470  0.358791 -0.196915 -0.088872 -0.025871  0.366596  \n2   -0.147881  0.203515  0.511178 -0.293286 -0.232812 -0.022038  0.263111  \n3   -0.247393  0.010923  0.367897 -0.227437 -0.007300  0.000287  0.664291  \n4   -0.291927 -0.019845  0.092592  0.024323 -0.213633  0.043224  0.738061  \n..        ...       ...       ...       ...       ...       ...       ...  \n772 -0.227704 -0.230707  0.228135 -0.225799  0.025129  0.063843  0.814006  \n773 -0.471932  0.051058  0.154827 -0.420223  0.196191  0.028353  0.592685  \n774 -0.398827 -0.018842  0.212129  0.035592 -0.216679 -0.086199  0.413299  \n775 -0.175317  0.033933  0.393584 -0.225063 -0.109431  0.165128  0.303420  \n776 -0.243680  0.020777  0.164765 -0.174303 -0.099681 -0.098134  0.406878  \n\n[777 rows x 768 columns]",
      "text/html": "<div>\n<style scoped>\n    .dataframe tbody tr th:only-of-type {\n        vertical-align: middle;\n    }\n\n    .dataframe tbody tr th {\n        vertical-align: top;\n    }\n\n    .dataframe thead th {\n        text-align: right;\n    }\n</style>\n<table border=\"1\" class=\"dataframe\">\n  <thead>\n    <tr style=\"text-align: right;\">\n      <th></th>\n      <th>0</th>\n      <th>1</th>\n      <th>2</th>\n      <th>3</th>\n      <th>4</th>\n      <th>5</th>\n      <th>6</th>\n      <th>7</th>\n      <th>8</th>\n      <th>9</th>\n      <th>...</th>\n      <th>758</th>\n      <th>759</th>\n      <th>760</th>\n      <th>761</th>\n      <th>762</th>\n      <th>763</th>\n      <th>764</th>\n      <th>765</th>\n      <th>766</th>\n      <th>767</th>\n    </tr>\n  </thead>\n  <tbody>\n    <tr>\n      <th>0</th>\n      <td>-0.148475</td>\n      <td>-0.093959</td>\n      <td>-0.072606</td>\n      <td>-0.116719</td>\n      <td>-0.197698</td>\n      <td>-0.017892</td>\n      <td>0.583106</td>\n      <td>0.199220</td>\n      <td>-0.294927</td>\n      <td>-0.524650</td>\n      <td>...</td>\n      <td>0.132813</td>\n      <td>-0.284638</td>\n      <td>0.341142</td>\n      <td>-0.053502</td>\n      <td>0.222674</td>\n      <td>0.264824</td>\n      <td>-0.127856</td>\n      <td>0.016527</td>\n      <td>-0.165402</td>\n      <td>0.297364</td>\n    </tr>\n    <tr>\n      <th>1</th>\n      <td>-0.188410</td>\n      <td>-0.126732</td>\n      <td>-0.108507</td>\n      <td>-0.293917</td>\n      <td>-0.218685</td>\n      <td>0.010479</td>\n      <td>0.353766</td>\n      <td>0.414596</td>\n      <td>-0.126797</td>\n      <td>-0.443795</td>\n      <td>...</td>\n      <td>-0.127295</td>\n      <td>-0.445322</td>\n      <td>0.027356</td>\n      <td>-0.416753</td>\n      <td>-0.055470</td>\n      <td>0.358791</td>\n      <td>-0.196915</td>\n      <td>-0.088872</td>\n      <td>-0.025871</td>\n      <td>0.366596</td>\n    </tr>\n    <tr>\n      <th>2</th>\n      <td>-0.171668</td>\n      <td>-0.050836</td>\n      <td>-0.194084</td>\n      <td>-0.312468</td>\n      <td>-0.174100</td>\n      <td>-0.011414</td>\n      <td>0.494835</td>\n      <td>0.385607</td>\n      <td>-0.115327</td>\n      <td>-0.769145</td>\n      <td>...</td>\n      <td>0.038155</td>\n      <td>-0.398147</td>\n      <td>0.033521</td>\n      <td>-0.147881</td>\n      <td>0.203515</td>\n      <td>0.511178</td>\n      <td>-0.293286</td>\n      <td>-0.232812</td>\n      <td>-0.022038</td>\n      <td>0.263111</td>\n    </tr>\n    <tr>\n      <th>3</th>\n      <td>-0.338618</td>\n      <td>-0.057856</td>\n      <td>0.033038</td>\n      <td>-0.357180</td>\n      <td>-0.202168</td>\n      <td>0.036766</td>\n      <td>0.324142</td>\n      <td>0.252396</td>\n      <td>-0.024016</td>\n      <td>-0.509216</td>\n      <td>...</td>\n      <td>0.136020</td>\n      <td>-0.368171</td>\n      <td>0.198924</td>\n      <td>-0.247393</td>\n      <td>0.010923</td>\n      <td>0.367897</td>\n      <td>-0.227437</td>\n      <td>-0.007300</td>\n      <td>0.000287</td>\n      <td>0.664291</td>\n    </tr>\n    <tr>\n      <th>4</th>\n      <td>-0.098636</td>\n      <td>-0.401457</td>\n      <td>-0.182545</td>\n      <td>-0.179665</td>\n      <td>0.064003</td>\n      <td>0.001181</td>\n      <td>0.291596</td>\n      <td>0.541527</td>\n      <td>-0.020205</td>\n      <td>-0.360373</td>\n      <td>...</td>\n      <td>-0.063380</td>\n      <td>-0.327838</td>\n      <td>0.088122</td>\n      <td>-0.291927</td>\n      <td>-0.019845</td>\n      <td>0.092592</td>\n      <td>0.024323</td>\n      <td>-0.213633</td>\n      <td>0.043224</td>\n      <td>0.738061</td>\n    </tr>\n    <tr>\n      <th>...</th>\n      <td>...</td>\n      <td>...</td>\n      <td>...</td>\n      <td>...</td>\n      <td>...</td>\n      <td>...</td>\n      <td>...</td>\n      <td>...</td>\n      <td>...</td>\n      <td>...</td>\n      <td>...</td>\n      <td>...</td>\n      <td>...</td>\n      <td>...</td>\n      <td>...</td>\n      <td>...</td>\n      <td>...</td>\n      <td>...</td>\n      <td>...</td>\n      <td>...</td>\n      <td>...</td>\n    </tr>\n    <tr>\n      <th>772</th>\n      <td>-0.062923</td>\n      <td>-0.015915</td>\n      <td>-0.222807</td>\n      <td>-0.208136</td>\n      <td>-0.150941</td>\n      <td>-0.284561</td>\n      <td>0.377012</td>\n      <td>0.315895</td>\n      <td>-0.106533</td>\n      <td>-0.588245</td>\n      <td>...</td>\n      <td>0.030073</td>\n      <td>-0.439836</td>\n      <td>0.044907</td>\n      <td>-0.227704</td>\n      <td>-0.230707</td>\n      <td>0.228135</td>\n      <td>-0.225799</td>\n      <td>0.025129</td>\n      <td>0.063843</td>\n      <td>0.814006</td>\n    </tr>\n    <tr>\n      <th>773</th>\n      <td>-0.279977</td>\n      <td>-0.197014</td>\n      <td>0.098390</td>\n      <td>-0.303245</td>\n      <td>-0.296704</td>\n      <td>0.008300</td>\n      <td>0.288116</td>\n      <td>0.194376</td>\n      <td>-0.128856</td>\n      <td>-0.353388</td>\n      <td>...</td>\n      <td>-0.026887</td>\n      <td>-0.458937</td>\n      <td>0.206063</td>\n      <td>-0.471932</td>\n      <td>0.051058</td>\n      <td>0.154827</td>\n      <td>-0.420223</td>\n      <td>0.196191</td>\n      <td>0.028353</td>\n      <td>0.592685</td>\n    </tr>\n    <tr>\n      <th>774</th>\n      <td>-0.073572</td>\n      <td>-0.369269</td>\n      <td>0.076614</td>\n      <td>-0.097476</td>\n      <td>-0.064454</td>\n      <td>-0.054622</td>\n      <td>0.647633</td>\n      <td>0.325533</td>\n      <td>-0.363346</td>\n      <td>-0.434460</td>\n      <td>...</td>\n      <td>-0.008730</td>\n      <td>-0.349660</td>\n      <td>0.011828</td>\n      <td>-0.398827</td>\n      <td>-0.018842</td>\n      <td>0.212129</td>\n      <td>0.035592</td>\n      <td>-0.216679</td>\n      <td>-0.086199</td>\n      <td>0.413299</td>\n    </tr>\n    <tr>\n      <th>775</th>\n      <td>-0.181972</td>\n      <td>-0.083371</td>\n      <td>0.113803</td>\n      <td>-0.065226</td>\n      <td>0.033920</td>\n      <td>-0.130653</td>\n      <td>0.366495</td>\n      <td>0.114534</td>\n      <td>-0.174858</td>\n      <td>-0.477767</td>\n      <td>...</td>\n      <td>-0.016639</td>\n      <td>-0.359916</td>\n      <td>0.018970</td>\n      <td>-0.175317</td>\n      <td>0.033933</td>\n      <td>0.393584</td>\n      <td>-0.225063</td>\n      <td>-0.109431</td>\n      <td>0.165128</td>\n      <td>0.303420</td>\n    </tr>\n    <tr>\n      <th>776</th>\n      <td>-0.148871</td>\n      <td>0.094196</td>\n      <td>0.097353</td>\n      <td>-0.295030</td>\n      <td>0.079687</td>\n      <td>0.020537</td>\n      <td>0.388873</td>\n      <td>0.140645</td>\n      <td>-0.075444</td>\n      <td>-0.502733</td>\n      <td>...</td>\n      <td>-0.127892</td>\n      <td>-0.346318</td>\n      <td>-0.005479</td>\n      <td>-0.243680</td>\n      <td>0.020777</td>\n      <td>0.164765</td>\n      <td>-0.174303</td>\n      <td>-0.099681</td>\n      <td>-0.098134</td>\n      <td>0.406878</td>\n    </tr>\n  </tbody>\n</table>\n<p>777 rows × 768 columns</p>\n</div>"
     },
     "execution_count": 9,
     "metadata": {},
     "output_type": "execute_result"
    }
   ],
   "source": [
    "distilbert_features = pd.read_csv('distilbert_features.csv')\n",
    "distilbert_features"
   ],
   "metadata": {
    "collapsed": false,
    "ExecuteTime": {
     "end_time": "2023-11-01T16:08:50.043620Z",
     "start_time": "2023-11-01T16:08:49.911294Z"
    }
   },
   "id": "1cbfe8d04032cd85"
  },
  {
   "cell_type": "code",
   "execution_count": 32,
   "outputs": [
    {
     "data": {
      "text/plain": "Ridge:   0%|          | 0/2 [00:00<?, ?it/s]",
      "application/vnd.jupyter.widget-view+json": {
       "version_major": 2,
       "version_minor": 0,
       "model_id": "9665dcc5e7e14a5d88ad7b5cb27829f4"
      }
     },
     "metadata": {},
     "output_type": "display_data"
    },
    {
     "data": {
      "text/plain": "Gradient Boosting:   0%|          | 0/2 [00:00<?, ?it/s]",
      "application/vnd.jupyter.widget-view+json": {
       "version_major": 2,
       "version_minor": 0,
       "model_id": "7992b5b4f2964fc9b4807902730efb03"
      }
     },
     "metadata": {},
     "output_type": "display_data"
    },
    {
     "data": {
      "text/plain": "         model          estimator     score\n0   DistilBERT   Ridge Regression  0.619051\n1   DistilBERT   Ridge Regression  0.618614\n2   DistilBERT   Ridge Regression  0.497236\n3   DistilBERT   Ridge Regression  0.612002\n4   DistilBERT   Ridge Regression  0.610234\n5   DistilBERT   Ridge Regression  0.630104\n6   DistilBERT   Ridge Regression  0.679827\n7   DistilBERT   Ridge Regression  0.559536\n8   DistilBERT   Ridge Regression  0.494180\n9   DistilBERT   Ridge Regression  0.510565\n10         bge   Ridge Regression  0.510256\n11         bge   Ridge Regression  0.654101\n12         bge   Ridge Regression  0.469278\n13         bge   Ridge Regression  0.514669\n14         bge   Ridge Regression  0.549108\n15         bge   Ridge Regression  0.536678\n16         bge   Ridge Regression  0.612436\n17         bge   Ridge Regression  0.427720\n18         bge   Ridge Regression  0.540116\n19         bge   Ridge Regression  0.487576\n20  DistilBERT  Gradient Boosting  0.559817\n21  DistilBERT  Gradient Boosting  0.580494\n22  DistilBERT  Gradient Boosting  0.365581\n23  DistilBERT  Gradient Boosting  0.519990\n24  DistilBERT  Gradient Boosting  0.500924\n25  DistilBERT  Gradient Boosting  0.513719\n26  DistilBERT  Gradient Boosting  0.621565\n27  DistilBERT  Gradient Boosting  0.498342\n28  DistilBERT  Gradient Boosting  0.419148\n29  DistilBERT  Gradient Boosting  0.415905\n30         bge  Gradient Boosting  0.597966\n31         bge  Gradient Boosting  0.593987\n32         bge  Gradient Boosting  0.444916\n33         bge  Gradient Boosting  0.562479\n34         bge  Gradient Boosting  0.603914\n35         bge  Gradient Boosting  0.559742\n36         bge  Gradient Boosting  0.716170\n37         bge  Gradient Boosting  0.538569\n38         bge  Gradient Boosting  0.577793\n39         bge  Gradient Boosting  0.564607",
      "text/html": "<div>\n<style scoped>\n    .dataframe tbody tr th:only-of-type {\n        vertical-align: middle;\n    }\n\n    .dataframe tbody tr th {\n        vertical-align: top;\n    }\n\n    .dataframe thead th {\n        text-align: right;\n    }\n</style>\n<table border=\"1\" class=\"dataframe\">\n  <thead>\n    <tr style=\"text-align: right;\">\n      <th></th>\n      <th>model</th>\n      <th>estimator</th>\n      <th>score</th>\n    </tr>\n  </thead>\n  <tbody>\n    <tr>\n      <th>0</th>\n      <td>DistilBERT</td>\n      <td>Ridge Regression</td>\n      <td>0.619051</td>\n    </tr>\n    <tr>\n      <th>1</th>\n      <td>DistilBERT</td>\n      <td>Ridge Regression</td>\n      <td>0.618614</td>\n    </tr>\n    <tr>\n      <th>2</th>\n      <td>DistilBERT</td>\n      <td>Ridge Regression</td>\n      <td>0.497236</td>\n    </tr>\n    <tr>\n      <th>3</th>\n      <td>DistilBERT</td>\n      <td>Ridge Regression</td>\n      <td>0.612002</td>\n    </tr>\n    <tr>\n      <th>4</th>\n      <td>DistilBERT</td>\n      <td>Ridge Regression</td>\n      <td>0.610234</td>\n    </tr>\n    <tr>\n      <th>5</th>\n      <td>DistilBERT</td>\n      <td>Ridge Regression</td>\n      <td>0.630104</td>\n    </tr>\n    <tr>\n      <th>6</th>\n      <td>DistilBERT</td>\n      <td>Ridge Regression</td>\n      <td>0.679827</td>\n    </tr>\n    <tr>\n      <th>7</th>\n      <td>DistilBERT</td>\n      <td>Ridge Regression</td>\n      <td>0.559536</td>\n    </tr>\n    <tr>\n      <th>8</th>\n      <td>DistilBERT</td>\n      <td>Ridge Regression</td>\n      <td>0.494180</td>\n    </tr>\n    <tr>\n      <th>9</th>\n      <td>DistilBERT</td>\n      <td>Ridge Regression</td>\n      <td>0.510565</td>\n    </tr>\n    <tr>\n      <th>10</th>\n      <td>bge</td>\n      <td>Ridge Regression</td>\n      <td>0.510256</td>\n    </tr>\n    <tr>\n      <th>11</th>\n      <td>bge</td>\n      <td>Ridge Regression</td>\n      <td>0.654101</td>\n    </tr>\n    <tr>\n      <th>12</th>\n      <td>bge</td>\n      <td>Ridge Regression</td>\n      <td>0.469278</td>\n    </tr>\n    <tr>\n      <th>13</th>\n      <td>bge</td>\n      <td>Ridge Regression</td>\n      <td>0.514669</td>\n    </tr>\n    <tr>\n      <th>14</th>\n      <td>bge</td>\n      <td>Ridge Regression</td>\n      <td>0.549108</td>\n    </tr>\n    <tr>\n      <th>15</th>\n      <td>bge</td>\n      <td>Ridge Regression</td>\n      <td>0.536678</td>\n    </tr>\n    <tr>\n      <th>16</th>\n      <td>bge</td>\n      <td>Ridge Regression</td>\n      <td>0.612436</td>\n    </tr>\n    <tr>\n      <th>17</th>\n      <td>bge</td>\n      <td>Ridge Regression</td>\n      <td>0.427720</td>\n    </tr>\n    <tr>\n      <th>18</th>\n      <td>bge</td>\n      <td>Ridge Regression</td>\n      <td>0.540116</td>\n    </tr>\n    <tr>\n      <th>19</th>\n      <td>bge</td>\n      <td>Ridge Regression</td>\n      <td>0.487576</td>\n    </tr>\n    <tr>\n      <th>20</th>\n      <td>DistilBERT</td>\n      <td>Gradient Boosting</td>\n      <td>0.559817</td>\n    </tr>\n    <tr>\n      <th>21</th>\n      <td>DistilBERT</td>\n      <td>Gradient Boosting</td>\n      <td>0.580494</td>\n    </tr>\n    <tr>\n      <th>22</th>\n      <td>DistilBERT</td>\n      <td>Gradient Boosting</td>\n      <td>0.365581</td>\n    </tr>\n    <tr>\n      <th>23</th>\n      <td>DistilBERT</td>\n      <td>Gradient Boosting</td>\n      <td>0.519990</td>\n    </tr>\n    <tr>\n      <th>24</th>\n      <td>DistilBERT</td>\n      <td>Gradient Boosting</td>\n      <td>0.500924</td>\n    </tr>\n    <tr>\n      <th>25</th>\n      <td>DistilBERT</td>\n      <td>Gradient Boosting</td>\n      <td>0.513719</td>\n    </tr>\n    <tr>\n      <th>26</th>\n      <td>DistilBERT</td>\n      <td>Gradient Boosting</td>\n      <td>0.621565</td>\n    </tr>\n    <tr>\n      <th>27</th>\n      <td>DistilBERT</td>\n      <td>Gradient Boosting</td>\n      <td>0.498342</td>\n    </tr>\n    <tr>\n      <th>28</th>\n      <td>DistilBERT</td>\n      <td>Gradient Boosting</td>\n      <td>0.419148</td>\n    </tr>\n    <tr>\n      <th>29</th>\n      <td>DistilBERT</td>\n      <td>Gradient Boosting</td>\n      <td>0.415905</td>\n    </tr>\n    <tr>\n      <th>30</th>\n      <td>bge</td>\n      <td>Gradient Boosting</td>\n      <td>0.597966</td>\n    </tr>\n    <tr>\n      <th>31</th>\n      <td>bge</td>\n      <td>Gradient Boosting</td>\n      <td>0.593987</td>\n    </tr>\n    <tr>\n      <th>32</th>\n      <td>bge</td>\n      <td>Gradient Boosting</td>\n      <td>0.444916</td>\n    </tr>\n    <tr>\n      <th>33</th>\n      <td>bge</td>\n      <td>Gradient Boosting</td>\n      <td>0.562479</td>\n    </tr>\n    <tr>\n      <th>34</th>\n      <td>bge</td>\n      <td>Gradient Boosting</td>\n      <td>0.603914</td>\n    </tr>\n    <tr>\n      <th>35</th>\n      <td>bge</td>\n      <td>Gradient Boosting</td>\n      <td>0.559742</td>\n    </tr>\n    <tr>\n      <th>36</th>\n      <td>bge</td>\n      <td>Gradient Boosting</td>\n      <td>0.716170</td>\n    </tr>\n    <tr>\n      <th>37</th>\n      <td>bge</td>\n      <td>Gradient Boosting</td>\n      <td>0.538569</td>\n    </tr>\n    <tr>\n      <th>38</th>\n      <td>bge</td>\n      <td>Gradient Boosting</td>\n      <td>0.577793</td>\n    </tr>\n    <tr>\n      <th>39</th>\n      <td>bge</td>\n      <td>Gradient Boosting</td>\n      <td>0.564607</td>\n    </tr>\n  </tbody>\n</table>\n</div>"
     },
     "execution_count": 32,
     "metadata": {},
     "output_type": "execute_result"
    }
   ],
   "source": [
    "mods = {'DistilBERT': distilbert_features, 'bge': ember_features}\n",
    "ridge = RidgeCV()\n",
    "boost = GradientBoostingRegressor()\n",
    "results = []\n",
    "\n",
    "# Ridge\n",
    "for mod_name, features in tqdm(mods.items(), desc='Ridge'):\n",
    "    scores = cross_val_score(ridge, features, dat['labels'], cv=10, n_jobs=-1)\n",
    "    results += [[mod_name, 'Ridge Regression', score] for score in scores]\n",
    "    \n",
    "# Gradient Boosting\n",
    "for mod_name, features in tqdm(mods.items(), desc='Gradient Boosting'):\n",
    "    scores = cross_val_score(boost, features, dat['labels'], cv=10, n_jobs=-1)\n",
    "    results += [[mod_name, 'Gradient Boosting', score] for score in scores]\n",
    "\n",
    "results = pd.DataFrame(results, columns=['model', 'estimator', 'score'])\n",
    "results"
   ],
   "metadata": {
    "collapsed": false,
    "ExecuteTime": {
     "end_time": "2023-11-01T16:24:39.154989Z",
     "start_time": "2023-11-01T16:23:58.418925Z"
    }
   },
   "id": "923a584c8443a6e"
  },
  {
   "cell_type": "code",
   "execution_count": 33,
   "outputs": [
    {
     "name": "stdout",
     "output_type": "stream",
     "text": [
      "DistilBERT best mean R2: 0.5831348904321467 \n",
      "ember-v1 best mean R2: nan\n"
     ]
    }
   ],
   "source": [
    "distilbert_mean = results.query(\n",
    "    'model == \"DistilBERT\" & estimator==\"Ridge Regression\"'\n",
    ")['score'].mean()\n",
    "ember_mean = results.query(\n",
    "    'model == \"ember-v1\" & estimator==\"Gradient Boosting\"'\n",
    ")['score'].mean()\n",
    "\n",
    "print(f'DistilBERT best mean R2: {distilbert_mean} \\nember-v1 best mean R2: {ember_mean}')"
   ],
   "metadata": {
    "collapsed": false,
    "ExecuteTime": {
     "end_time": "2023-11-01T16:24:57.324883Z",
     "start_time": "2023-11-01T16:24:57.276416Z"
    }
   },
   "id": "cc82e1d33d905f8b"
  },
  {
   "cell_type": "code",
   "execution_count": 34,
   "outputs": [
    {
     "data": {
      "text/plain": "      observed  predicted\n0    49.333333  56.729607\n1    34.181818  48.833562\n2    53.818182  58.280740\n3    12.800000  36.298248\n4    31.700000  51.495077\n..         ...        ...\n772  27.900000  33.559829\n773  30.800000  47.163604\n774  71.181818  65.222879\n775  34.111111  40.929050\n776  42.636364  37.385587\n\n[777 rows x 2 columns]",
      "text/html": "<div>\n<style scoped>\n    .dataframe tbody tr th:only-of-type {\n        vertical-align: middle;\n    }\n\n    .dataframe tbody tr th {\n        vertical-align: top;\n    }\n\n    .dataframe thead th {\n        text-align: right;\n    }\n</style>\n<table border=\"1\" class=\"dataframe\">\n  <thead>\n    <tr style=\"text-align: right;\">\n      <th></th>\n      <th>observed</th>\n      <th>predicted</th>\n    </tr>\n  </thead>\n  <tbody>\n    <tr>\n      <th>0</th>\n      <td>49.333333</td>\n      <td>56.729607</td>\n    </tr>\n    <tr>\n      <th>1</th>\n      <td>34.181818</td>\n      <td>48.833562</td>\n    </tr>\n    <tr>\n      <th>2</th>\n      <td>53.818182</td>\n      <td>58.280740</td>\n    </tr>\n    <tr>\n      <th>3</th>\n      <td>12.800000</td>\n      <td>36.298248</td>\n    </tr>\n    <tr>\n      <th>4</th>\n      <td>31.700000</td>\n      <td>51.495077</td>\n    </tr>\n    <tr>\n      <th>...</th>\n      <td>...</td>\n      <td>...</td>\n    </tr>\n    <tr>\n      <th>772</th>\n      <td>27.900000</td>\n      <td>33.559829</td>\n    </tr>\n    <tr>\n      <th>773</th>\n      <td>30.800000</td>\n      <td>47.163604</td>\n    </tr>\n    <tr>\n      <th>774</th>\n      <td>71.181818</td>\n      <td>65.222879</td>\n    </tr>\n    <tr>\n      <th>775</th>\n      <td>34.111111</td>\n      <td>40.929050</td>\n    </tr>\n    <tr>\n      <th>776</th>\n      <td>42.636364</td>\n      <td>37.385587</td>\n    </tr>\n  </tbody>\n</table>\n<p>777 rows × 2 columns</p>\n</div>"
     },
     "execution_count": 34,
     "metadata": {},
     "output_type": "execute_result"
    }
   ],
   "source": [
    "distilbert_preds = cross_val_predict(ridge, distilbert_features, dat['labels'], cv=10, n_jobs=-1)\n",
    "preds = pd.DataFrame({'observed': dat['labels'], 'predicted': distilbert_preds})\n",
    "preds"
   ],
   "metadata": {
    "collapsed": false,
    "ExecuteTime": {
     "end_time": "2023-11-01T16:24:57.984606Z",
     "start_time": "2023-11-01T16:24:57.489121Z"
    }
   },
   "id": "9097a5ab032ea5b9"
  },
  {
   "cell_type": "markdown",
   "source": [
    "## Plotting"
   ],
   "metadata": {
    "collapsed": false
   },
   "id": "9c47e5622782f3b"
  },
  {
   "cell_type": "code",
   "execution_count": 35,
   "outputs": [],
   "source": [
    "import seaborn as sns\n",
    "import matplotlib.pyplot as plt"
   ],
   "metadata": {
    "collapsed": false,
    "ExecuteTime": {
     "end_time": "2023-11-01T16:24:58.187513Z",
     "start_time": "2023-11-01T16:24:58.174375Z"
    }
   },
   "id": "e22bb35d23eec031"
  },
  {
   "cell_type": "code",
   "execution_count": 43,
   "outputs": [
    {
     "data": {
      "text/plain": "[(0.23921568627450981, 0.7058823529411765, 0.6784313725490196),\n (0.21176470588235294, 0.4235294117647059, 0.6274509803921569),\n (0.2196078431372549, 0.16470588235294117, 0.32941176470588235)]",
      "text/html": "<svg  width=\"165\" height=\"55\"><rect x=\"0\" y=\"0\" width=\"55\" height=\"55\" style=\"fill:#3db4ad;stroke-width:2;stroke:rgb(255,255,255)\"/><rect x=\"55\" y=\"0\" width=\"55\" height=\"55\" style=\"fill:#366ca0;stroke-width:2;stroke:rgb(255,255,255)\"/><rect x=\"110\" y=\"0\" width=\"55\" height=\"55\" style=\"fill:#382a54;stroke-width:2;stroke:rgb(255,255,255)\"/></svg>"
     },
     "execution_count": 43,
     "metadata": {},
     "output_type": "execute_result"
    }
   ],
   "source": [
    "colors = [\"#3DB4ADFF\", \"#366CA0FF\", \"#382A54FF\"]\n",
    "palette = sns.color_palette(colors)\n",
    "palette"
   ],
   "metadata": {
    "collapsed": false,
    "ExecuteTime": {
     "end_time": "2023-11-01T16:26:54.875381Z",
     "start_time": "2023-11-01T16:26:54.867600Z"
    }
   },
   "id": "ee57d08407c28492"
  },
  {
   "cell_type": "code",
   "execution_count": 46,
   "outputs": [
    {
     "name": "stderr",
     "output_type": "stream",
     "text": [
      "/var/folders/st/5gbrfvhn687dxwjl5_xg21t40000gq/T/ipykernel_71355/3251906319.py:14: UserWarning: \n",
      "\n",
      "The `join` parameter is deprecated and will be removed in v0.15.0. You can remove the line between points with `linestyle='none'`.\n",
      "\n",
      "  sns.pointplot(\n"
     ]
    },
    {
     "data": {
      "text/plain": "<Figure size 700x350 with 2 Axes>",
      "image/png": "[encoded data removed]"
     },
     "metadata": {},
     "output_type": "display_data"
    }
   ],
   "source": [
    "sns.set(context='paper', style='white', palette=palette)\n",
    "fig, axs = plt.subplots(1, 2, figsize=(7, 3.5), width_ratios=(1, .5))\n",
    "\n",
    "# Panel A: Predicted vs. observed scatterplot\n",
    "sns.scatterplot(preds, x='observed', y='predicted', alpha=.6, ax=axs[0])\n",
    "axs[0].set(xlabel='Observed', ylabel='Predicted', ylim=(0, 100), xlim=(0, 100))\n",
    "\n",
    "# Panel B: distilbert vs BGE \n",
    "sns.stripplot(\n",
    "    results, x='model', y='score', hue='estimator', alpha=.6, legend=False, dodge=.3,\n",
    "    ax=axs[1]\n",
    ")\n",
    "\n",
    "sns.pointplot(\n",
    "    results, x='model', y='score', hue='estimator', errorbar='sd', zorder=1,\n",
    "    join=False, dodge=.3, ax=axs[1])\n",
    "\n",
    "axs[1].set(xlabel='', ylabel='10-Fold Cross-validation $R^2$', ylim=(0, 1))\n",
    "\n",
    "# gets rid of legend title\n",
    "handles, labels = axs[1].get_legend_handles_labels()\n",
    "axs[1].legend(title=None, fontsize=8, loc='lower right')\n",
    "\n",
    "sns.despine(offset=10)\n",
    "\n",
    "#  Adds Panel Labels \n",
    "fontdict = {'fontsize':12, 'fontweight':'bold', 'va':'top', 'ha':'right'}\n",
    "fig.text(0.02, 1.03, 'A', fontdict=fontdict)\n",
    "fig.text(.62, 1.03, 'B', fontdict=fontdict)\n",
    "\n",
    "plt.tight_layout()\n",
    "plt.savefig('health.png', dpi=300, bbox_inches='tight')"
   ],
   "metadata": {
    "collapsed": false,
    "ExecuteTime": {
     "end_time": "2023-11-01T16:27:39.657342Z",
     "start_time": "2023-11-01T16:27:39.092611Z"
    }
   },
   "id": "2f482c0a77c27d17"
  },
  {
   "cell_type": "code",
   "execution_count": null,
   "outputs": [],
   "source": [],
   "metadata": {
    "collapsed": false
   },
   "id": "ef5ab7b3e6a31a60"
  }
 ],
 "metadata": {
  "kernelspec": {
   "display_name": "Python 3",
   "language": "python",
   "name": "python3"
  },
  "language_info": {
   "codemirror_mode": {
    "name": "ipython",
    "version": 2
   },
   "file_extension": ".py",
   "mimetype": "text/x-python",
   "name": "python",
   "nbconvert_exporter": "python",
   "pygments_lexer": "ipython2",
   "version": "2.7.6"
  }
 },
 "nbformat": 4,
 "nbformat_minor": 5
}
