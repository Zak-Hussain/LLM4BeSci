{
 "cells": [
  {
   "cell_type": "code",
   "execution_count": null,
   "id": "initial_id",
   "metadata": {
    "collapsed": true
   },
   "outputs": [],
   "source": [
    "import sys\n",
    "if 'google.colab' in sys.modules:  # If in Google Colab environment\n",
    "    # Installing requisite packages\n",
    "    !pip install datasets transformers evaluate accelerate -U\n",
    "\n",
    "    # Mount google drive to enable access to data files\n",
    "    from google.colab import drive\n",
    "    drive.mount('/content/drive')\n",
    "\n",
    "    # Change working directory to choice\n",
    "    %cd /content/drive/MyDrive/LLM4BeSci/reading"
   ]
  },
  {
   "cell_type": "markdown",
   "source": [
    "## Processing data"
   ],
   "metadata": {
    "collapsed": false
   },
   "id": "f2341a3e2247603e"
  },
  {
   "cell_type": "code",
   "outputs": [],
   "source": [
    "import pandas as pd\n",
    "from evaluate import load"
   ],
   "metadata": {
    "collapsed": false
   },
   "id": "25b03363dbd13973",
   "execution_count": null
  },
  {
   "cell_type": "code",
   "outputs": [],
   "source": [
    "# Load the data\n",
    "clear = pd.read_excel(\n",
    "    'clear.xlsx',  \n",
    "    usecols=['Excerpt', 'BT_easiness',  'Flesch-Reading-Ease']\n",
    ")\n",
    "\n",
    "# Samples 1000 rows from clear for easy computation\n",
    "clear = clear.sample(1000, random_state=42).reset_index(drop=True)\n",
    "clear"
   ],
   "metadata": {
    "collapsed": false
   },
   "id": "9ac5ff91c9f1a515",
   "execution_count": null
  },
  {
   "cell_type": "markdown",
   "source": [
    "## Compute perplexity"
   ],
   "metadata": {
    "collapsed": false
   },
   "id": "86633ebcb5c5deeb"
  },
  {
   "cell_type": "code",
   "outputs": [],
   "source": [
    "# Load perplexity metric\n",
    "perplexity = load(\"perplexity\", module_type=\"metric\")\n",
    "\n",
    "# Compute perplexity\n",
    "clear['perplexity'] = perplexity.compute(\n",
    "    model_id= 'openai-community/gpt2',\n",
    "    predictions=clear['Excerpt'],\n",
    "    batch_size=16,\n",
    "    # device defaults to 'cuda' if available, otherwise 'cpu'\n",
    ")['perplexities']\n",
    "\n",
    "clear"
   ],
   "metadata": {
    "collapsed": false
   },
   "id": "c998505d6ea0371d",
   "execution_count": null
  },
  {
   "cell_type": "markdown",
   "source": [
    "## Correlations and linear regression"
   ],
   "metadata": {
    "collapsed": false
   },
   "id": "8f22a0cbe76c0186"
  },
  {
   "cell_type": "code",
   "outputs": [],
   "source": [
    "from sklearn.linear_model import LinearRegression\n",
    "from sklearn.model_selection import cross_val_score"
   ],
   "metadata": {
    "collapsed": false
   },
   "id": "dfb74d8d36972e7f",
   "execution_count": null
  },
  {
   "cell_type": "code",
   "outputs": [],
   "source": [
    "regr = LinearRegression()\n",
    "\n",
    "def print_cv_stats(X, y):\n",
    "    \"\"\"Prints the mean and standard deviation of the r2 scores from a 10-fold cross-validation.\"\"\"\n",
    "    scores = cross_val_score(regr, X, y, cv=10)\n",
    "    mean, sd = scores.mean(), scores.std()\n",
    "    print(f\"Mean r2: {mean:.2f}, SD: {sd:.2f}\")\n",
    "\n",
    "# Perplexity\n",
    "print_cv_stats(clear[['perplexity']], clear['BT_easiness'])"
   ],
   "metadata": {
    "collapsed": false
   },
   "id": "9baab588e9af95fb",
   "execution_count": null
  },
  {
   "cell_type": "code",
   "outputs": [],
   "source": [
    "# Flesch-Reading-Ease\n",
    "print_cv_stats(clear[['Flesch-Reading-Ease']], clear['BT_easiness'])"
   ],
   "metadata": {
    "collapsed": false
   },
   "id": "6058fa8f711aa14c",
   "execution_count": null
  },
  {
   "cell_type": "code",
   "outputs": [],
   "source": [
    "# Flesch-Reading-Ease and perplexity\n",
    "print_cv_stats(clear[['Flesch-Reading-Ease', 'perplexity']], clear['BT_easiness'])"
   ],
   "metadata": {
    "collapsed": false
   },
   "id": "b91d21aa136d6da9",
   "execution_count": null
  }
 ],
 "metadata": {
  "kernelspec": {
   "display_name": "Python 3",
   "language": "python",
   "name": "python3"
  },
  "language_info": {
   "codemirror_mode": {
    "name": "ipython",
    "version": 2
   },
   "file_extension": ".py",
   "mimetype": "text/x-python",
   "name": "python",
   "nbconvert_exporter": "python",
   "pygments_lexer": "ipython2",
   "version": "2.7.6"
  }
 },
 "nbformat": 4,
 "nbformat_minor": 5
}
